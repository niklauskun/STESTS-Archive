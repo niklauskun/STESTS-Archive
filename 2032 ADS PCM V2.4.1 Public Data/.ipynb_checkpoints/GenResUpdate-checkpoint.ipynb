{
 "cells": [
  {
   "cell_type": "code",
   "execution_count": 1,
   "id": "cd964b56",
   "metadata": {},
   "outputs": [],
   "source": [
    "import pandas as pd\n",
    "import numpy as np"
   ]
  },
  {
   "cell_type": "code",
   "execution_count": 2,
   "id": "4c4e82df",
   "metadata": {},
   "outputs": [],
   "source": [
    "Year = 2040"
   ]
  },
  {
   "cell_type": "code",
   "execution_count": 3,
   "id": "f3827a89",
   "metadata": {},
   "outputs": [],
   "source": [
    "### Load Regional Expansion and Retirement Plan\n",
    "base_path = 'GenResUpdate/Region{}.csv'\n",
    "\n",
    "# Define your regions\n",
    "Regions = [1,2,3,4,5,6]\n",
    "\n",
    "# Initialize a dictionary to hold your DataFrames\n",
    "GenRes = {}\n",
    "\n",
    "# Loop over each region and read the corresponding CSV file\n",
    "for region in Regions:\n",
    "    # Format the file path with the current region\n",
    "    file_path = base_path.format(region)\n",
    "    \n",
    "    # Read the CSV file and save it into the dictionary\n",
    "    GenRes[region-1] = pd.read_csv(file_path, index_col=0)"
   ]
  },
  {
   "cell_type": "markdown",
   "id": "0a5a52d0",
   "metadata": {},
   "source": [
    "### Transmission Update (no update for now)"
   ]
  },
  {
   "cell_type": "code",
   "execution_count": 4,
   "id": "d9bb4eac",
   "metadata": {},
   "outputs": [],
   "source": [
    "Region = pd.read_csv('Processed Data/2022/Reduced_Area_Region.csv', index_col=0)\n",
    "TransmissionMap = pd.read_csv('Processed Data/2022/TransmissionMap.csv', index_col=0)\n",
    "TransmissionCAP = pd.read_csv('Processed Data/2022/Transmission_Cap.csv', index_col=0)"
   ]
  },
  {
   "cell_type": "code",
   "execution_count": 5,
   "id": "f3d0ea53",
   "metadata": {},
   "outputs": [],
   "source": [
    "Region.to_csv('Processed Data/'+str(Year)+'/Reduced_Area_Region.csv')\n",
    "TransmissionMap.to_csv('Processed Data/'+str(Year)+'/TransmissionMap.csv')\n",
    "TransmissionCAP.to_csv('Processed Data/'+str(Year)+'/Transmission_CAP.csv')"
   ]
  },
  {
   "cell_type": "markdown",
   "id": "f315e2a4",
   "metadata": {},
   "source": [
    "### Coal retire by region"
   ]
  },
  {
   "cell_type": "code",
   "execution_count": 6,
   "id": "c9cb153d",
   "metadata": {},
   "outputs": [],
   "source": [
    "ThermalGen = pd.read_csv('Processed Data/2022/ThermalGen_Full_C.csv', index_col=0)"
   ]
  },
  {
   "cell_type": "code",
   "execution_count": 7,
   "id": "c2bdbca4",
   "metadata": {
    "scrolled": false
   },
   "outputs": [
    {
     "data": {
      "text/html": [
       "<div>\n",
       "<style scoped>\n",
       "    .dataframe tbody tr th:only-of-type {\n",
       "        vertical-align: middle;\n",
       "    }\n",
       "\n",
       "    .dataframe tbody tr th {\n",
       "        vertical-align: top;\n",
       "    }\n",
       "\n",
       "    .dataframe thead th {\n",
       "        text-align: right;\n",
       "    }\n",
       "</style>\n",
       "<table border=\"1\" class=\"dataframe\">\n",
       "  <thead>\n",
       "    <tr style=\"text-align: right;\">\n",
       "      <th></th>\n",
       "      <th>Generator Name</th>\n",
       "      <th>If Use Generic IO Curve</th>\n",
       "      <th>Generic IO Curve Name</th>\n",
       "      <th>IONumBlock</th>\n",
       "      <th>IOMaxCap(MW)</th>\n",
       "      <th>IOMinCap(MW)</th>\n",
       "      <th>MinInput(MMBTu)</th>\n",
       "      <th>IncCap2(MW)</th>\n",
       "      <th>IncHR2(MMBTu/MWh)</th>\n",
       "      <th>IncCap3(MW)</th>\n",
       "      <th>...</th>\n",
       "      <th>Fuel Cost($/MMBTu)</th>\n",
       "      <th>Fuel Name_Start</th>\n",
       "      <th>Fuel Cost($/MMBTu)_Start</th>\n",
       "      <th>Start Up Cost($)</th>\n",
       "      <th>NoLoadCost($)</th>\n",
       "      <th>IncCost2($/MW)</th>\n",
       "      <th>IncCost3($/MW)</th>\n",
       "      <th>IncCost4($/MW)</th>\n",
       "      <th>IncCost5($/MW)</th>\n",
       "      <th>IncCost6($/MW)</th>\n",
       "    </tr>\n",
       "  </thead>\n",
       "  <tbody>\n",
       "    <tr>\n",
       "      <th>0</th>\n",
       "      <td>Ox_Mountain7</td>\n",
       "      <td>False</td>\n",
       "      <td>NaN</td>\n",
       "      <td>2</td>\n",
       "      <td>1.9</td>\n",
       "      <td>0.57</td>\n",
       "      <td>6.908</td>\n",
       "      <td>1.33</td>\n",
       "      <td>12.120</td>\n",
       "      <td>0.00</td>\n",
       "      <td>...</td>\n",
       "      <td>2.378763</td>\n",
       "      <td>Bio_Landfill_Gas</td>\n",
       "      <td>2.378763</td>\n",
       "      <td>11.155225</td>\n",
       "      <td>16.432495</td>\n",
       "      <td>28.830608</td>\n",
       "      <td>0.000000</td>\n",
       "      <td>0.000000</td>\n",
       "      <td>0.0</td>\n",
       "      <td>0.0</td>\n",
       "    </tr>\n",
       "    <tr>\n",
       "      <th>1</th>\n",
       "      <td>Ox_Mountain6</td>\n",
       "      <td>False</td>\n",
       "      <td>NaN</td>\n",
       "      <td>4</td>\n",
       "      <td>1.9</td>\n",
       "      <td>0.57</td>\n",
       "      <td>9.689</td>\n",
       "      <td>0.38</td>\n",
       "      <td>11.819</td>\n",
       "      <td>0.57</td>\n",
       "      <td>...</td>\n",
       "      <td>2.378763</td>\n",
       "      <td>Bio_Landfill_Gas</td>\n",
       "      <td>2.378763</td>\n",
       "      <td>11.155225</td>\n",
       "      <td>23.047835</td>\n",
       "      <td>28.114600</td>\n",
       "      <td>29.548994</td>\n",
       "      <td>32.862611</td>\n",
       "      <td>0.0</td>\n",
       "      <td>0.0</td>\n",
       "    </tr>\n",
       "    <tr>\n",
       "      <th>2</th>\n",
       "      <td>Ox_Mountain5</td>\n",
       "      <td>False</td>\n",
       "      <td>NaN</td>\n",
       "      <td>4</td>\n",
       "      <td>1.9</td>\n",
       "      <td>0.57</td>\n",
       "      <td>9.689</td>\n",
       "      <td>0.38</td>\n",
       "      <td>11.819</td>\n",
       "      <td>0.57</td>\n",
       "      <td>...</td>\n",
       "      <td>2.378763</td>\n",
       "      <td>Bio_Landfill_Gas</td>\n",
       "      <td>2.378763</td>\n",
       "      <td>11.155225</td>\n",
       "      <td>23.047835</td>\n",
       "      <td>28.114600</td>\n",
       "      <td>29.548994</td>\n",
       "      <td>32.862611</td>\n",
       "      <td>0.0</td>\n",
       "      <td>0.0</td>\n",
       "    </tr>\n",
       "    <tr>\n",
       "      <th>3</th>\n",
       "      <td>Ox_Mountain4</td>\n",
       "      <td>False</td>\n",
       "      <td>NaN</td>\n",
       "      <td>4</td>\n",
       "      <td>1.9</td>\n",
       "      <td>0.57</td>\n",
       "      <td>9.689</td>\n",
       "      <td>0.38</td>\n",
       "      <td>11.819</td>\n",
       "      <td>0.57</td>\n",
       "      <td>...</td>\n",
       "      <td>2.378763</td>\n",
       "      <td>Bio_Landfill_Gas</td>\n",
       "      <td>2.378763</td>\n",
       "      <td>11.155225</td>\n",
       "      <td>23.047835</td>\n",
       "      <td>28.114600</td>\n",
       "      <td>29.548994</td>\n",
       "      <td>32.862611</td>\n",
       "      <td>0.0</td>\n",
       "      <td>0.0</td>\n",
       "    </tr>\n",
       "    <tr>\n",
       "      <th>4</th>\n",
       "      <td>Ox_Mountain3</td>\n",
       "      <td>False</td>\n",
       "      <td>NaN</td>\n",
       "      <td>4</td>\n",
       "      <td>1.9</td>\n",
       "      <td>0.57</td>\n",
       "      <td>9.689</td>\n",
       "      <td>0.38</td>\n",
       "      <td>11.819</td>\n",
       "      <td>0.57</td>\n",
       "      <td>...</td>\n",
       "      <td>2.378763</td>\n",
       "      <td>Bio_Landfill_Gas</td>\n",
       "      <td>2.378763</td>\n",
       "      <td>11.155225</td>\n",
       "      <td>23.047835</td>\n",
       "      <td>28.114600</td>\n",
       "      <td>29.548994</td>\n",
       "      <td>32.862611</td>\n",
       "      <td>0.0</td>\n",
       "      <td>0.0</td>\n",
       "    </tr>\n",
       "    <tr>\n",
       "      <th>...</th>\n",
       "      <td>...</td>\n",
       "      <td>...</td>\n",
       "      <td>...</td>\n",
       "      <td>...</td>\n",
       "      <td>...</td>\n",
       "      <td>...</td>\n",
       "      <td>...</td>\n",
       "      <td>...</td>\n",
       "      <td>...</td>\n",
       "      <td>...</td>\n",
       "      <td>...</td>\n",
       "      <td>...</td>\n",
       "      <td>...</td>\n",
       "      <td>...</td>\n",
       "      <td>...</td>\n",
       "      <td>...</td>\n",
       "      <td>...</td>\n",
       "      <td>...</td>\n",
       "      <td>...</td>\n",
       "      <td>...</td>\n",
       "      <td>...</td>\n",
       "    </tr>\n",
       "    <tr>\n",
       "      <th>1279</th>\n",
       "      <td>Kimball6IC3.9</td>\n",
       "      <td>False</td>\n",
       "      <td>NaN</td>\n",
       "      <td>1</td>\n",
       "      <td>3.9</td>\n",
       "      <td>3.90</td>\n",
       "      <td>1218.902</td>\n",
       "      <td>0.00</td>\n",
       "      <td>0.000</td>\n",
       "      <td>0.00</td>\n",
       "      <td>...</td>\n",
       "      <td>3.628172</td>\n",
       "      <td>NG_BC_Sumas</td>\n",
       "      <td>3.628172</td>\n",
       "      <td>22826.580794</td>\n",
       "      <td>4422.386513</td>\n",
       "      <td>0.000000</td>\n",
       "      <td>0.000000</td>\n",
       "      <td>0.000000</td>\n",
       "      <td>0.0</td>\n",
       "      <td>0.0</td>\n",
       "    </tr>\n",
       "    <tr>\n",
       "      <th>1280</th>\n",
       "      <td>Ormat REG @ Peetz1OT3.7</td>\n",
       "      <td>False</td>\n",
       "      <td>NaN</td>\n",
       "      <td>1</td>\n",
       "      <td>3.7</td>\n",
       "      <td>3.70</td>\n",
       "      <td>1218.902</td>\n",
       "      <td>0.00</td>\n",
       "      <td>0.000</td>\n",
       "      <td>0.00</td>\n",
       "      <td>...</td>\n",
       "      <td>3.628172</td>\n",
       "      <td>NG_BC_Sumas</td>\n",
       "      <td>3.628172</td>\n",
       "      <td>22826.580794</td>\n",
       "      <td>4422.386513</td>\n",
       "      <td>0.000000</td>\n",
       "      <td>0.000000</td>\n",
       "      <td>0.000000</td>\n",
       "      <td>0.0</td>\n",
       "      <td>0.0</td>\n",
       "    </tr>\n",
       "    <tr>\n",
       "      <th>1281</th>\n",
       "      <td>Columbia Ridge Landfill Agg</td>\n",
       "      <td>False</td>\n",
       "      <td>NaN</td>\n",
       "      <td>2</td>\n",
       "      <td>12.8</td>\n",
       "      <td>4.00</td>\n",
       "      <td>47.393</td>\n",
       "      <td>8.80</td>\n",
       "      <td>7.366</td>\n",
       "      <td>0.00</td>\n",
       "      <td>...</td>\n",
       "      <td>3.348387</td>\n",
       "      <td>NG_Oregon_OR and WA</td>\n",
       "      <td>3.348387</td>\n",
       "      <td>130.267871</td>\n",
       "      <td>158.690085</td>\n",
       "      <td>24.664216</td>\n",
       "      <td>0.000000</td>\n",
       "      <td>0.000000</td>\n",
       "      <td>0.0</td>\n",
       "      <td>0.0</td>\n",
       "    </tr>\n",
       "    <tr>\n",
       "      <th>1282</th>\n",
       "      <td>Farm Power Agg</td>\n",
       "      <td>False</td>\n",
       "      <td>NaN</td>\n",
       "      <td>1</td>\n",
       "      <td>2.0</td>\n",
       "      <td>2.00</td>\n",
       "      <td>157.560</td>\n",
       "      <td>0.00</td>\n",
       "      <td>0.000</td>\n",
       "      <td>0.00</td>\n",
       "      <td>...</td>\n",
       "      <td>3.348387</td>\n",
       "      <td>NG_Oregon_OR and WA</td>\n",
       "      <td>3.348387</td>\n",
       "      <td>130.267871</td>\n",
       "      <td>527.571790</td>\n",
       "      <td>0.000000</td>\n",
       "      <td>0.000000</td>\n",
       "      <td>0.000000</td>\n",
       "      <td>0.0</td>\n",
       "      <td>0.0</td>\n",
       "    </tr>\n",
       "    <tr>\n",
       "      <th>1283</th>\n",
       "      <td>Salmon Diesel Agg</td>\n",
       "      <td>False</td>\n",
       "      <td>NaN</td>\n",
       "      <td>1</td>\n",
       "      <td>5.0</td>\n",
       "      <td>5.00</td>\n",
       "      <td>157.560</td>\n",
       "      <td>0.00</td>\n",
       "      <td>0.000</td>\n",
       "      <td>0.00</td>\n",
       "      <td>...</td>\n",
       "      <td>12.200190</td>\n",
       "      <td>Oil_DistillateFuel_L</td>\n",
       "      <td>12.200190</td>\n",
       "      <td>130.976015</td>\n",
       "      <td>1922.261936</td>\n",
       "      <td>0.000000</td>\n",
       "      <td>0.000000</td>\n",
       "      <td>0.000000</td>\n",
       "      <td>0.0</td>\n",
       "      <td>0.0</td>\n",
       "    </tr>\n",
       "  </tbody>\n",
       "</table>\n",
       "<p>1160 rows × 46 columns</p>\n",
       "</div>"
      ],
      "text/plain": [
       "                   Generator Name  If Use Generic IO Curve  \\\n",
       "0                    Ox_Mountain7                    False   \n",
       "1                    Ox_Mountain6                    False   \n",
       "2                    Ox_Mountain5                    False   \n",
       "3                    Ox_Mountain4                    False   \n",
       "4                    Ox_Mountain3                    False   \n",
       "...                           ...                      ...   \n",
       "1279                Kimball6IC3.9                    False   \n",
       "1280      Ormat REG @ Peetz1OT3.7                    False   \n",
       "1281  Columbia Ridge Landfill Agg                    False   \n",
       "1282               Farm Power Agg                    False   \n",
       "1283            Salmon Diesel Agg                    False   \n",
       "\n",
       "      Generic IO Curve Name  IONumBlock  IOMaxCap(MW)  IOMinCap(MW)  \\\n",
       "0                       NaN           2           1.9          0.57   \n",
       "1                       NaN           4           1.9          0.57   \n",
       "2                       NaN           4           1.9          0.57   \n",
       "3                       NaN           4           1.9          0.57   \n",
       "4                       NaN           4           1.9          0.57   \n",
       "...                     ...         ...           ...           ...   \n",
       "1279                    NaN           1           3.9          3.90   \n",
       "1280                    NaN           1           3.7          3.70   \n",
       "1281                    NaN           2          12.8          4.00   \n",
       "1282                    NaN           1           2.0          2.00   \n",
       "1283                    NaN           1           5.0          5.00   \n",
       "\n",
       "      MinInput(MMBTu)  IncCap2(MW)  IncHR2(MMBTu/MWh)  IncCap3(MW)  ...  \\\n",
       "0               6.908         1.33             12.120         0.00  ...   \n",
       "1               9.689         0.38             11.819         0.57  ...   \n",
       "2               9.689         0.38             11.819         0.57  ...   \n",
       "3               9.689         0.38             11.819         0.57  ...   \n",
       "4               9.689         0.38             11.819         0.57  ...   \n",
       "...               ...          ...                ...          ...  ...   \n",
       "1279         1218.902         0.00              0.000         0.00  ...   \n",
       "1280         1218.902         0.00              0.000         0.00  ...   \n",
       "1281           47.393         8.80              7.366         0.00  ...   \n",
       "1282          157.560         0.00              0.000         0.00  ...   \n",
       "1283          157.560         0.00              0.000         0.00  ...   \n",
       "\n",
       "      Fuel Cost($/MMBTu)       Fuel Name_Start  Fuel Cost($/MMBTu)_Start  \\\n",
       "0               2.378763      Bio_Landfill_Gas                  2.378763   \n",
       "1               2.378763      Bio_Landfill_Gas                  2.378763   \n",
       "2               2.378763      Bio_Landfill_Gas                  2.378763   \n",
       "3               2.378763      Bio_Landfill_Gas                  2.378763   \n",
       "4               2.378763      Bio_Landfill_Gas                  2.378763   \n",
       "...                  ...                   ...                       ...   \n",
       "1279            3.628172           NG_BC_Sumas                  3.628172   \n",
       "1280            3.628172           NG_BC_Sumas                  3.628172   \n",
       "1281            3.348387   NG_Oregon_OR and WA                  3.348387   \n",
       "1282            3.348387   NG_Oregon_OR and WA                  3.348387   \n",
       "1283           12.200190  Oil_DistillateFuel_L                 12.200190   \n",
       "\n",
       "      Start Up Cost($)  NoLoadCost($)  IncCost2($/MW)  IncCost3($/MW)  \\\n",
       "0            11.155225      16.432495       28.830608        0.000000   \n",
       "1            11.155225      23.047835       28.114600       29.548994   \n",
       "2            11.155225      23.047835       28.114600       29.548994   \n",
       "3            11.155225      23.047835       28.114600       29.548994   \n",
       "4            11.155225      23.047835       28.114600       29.548994   \n",
       "...                ...            ...             ...             ...   \n",
       "1279      22826.580794    4422.386513        0.000000        0.000000   \n",
       "1280      22826.580794    4422.386513        0.000000        0.000000   \n",
       "1281        130.267871     158.690085       24.664216        0.000000   \n",
       "1282        130.267871     527.571790        0.000000        0.000000   \n",
       "1283        130.976015    1922.261936        0.000000        0.000000   \n",
       "\n",
       "     IncCost4($/MW) IncCost5($/MW) IncCost6($/MW)  \n",
       "0          0.000000            0.0            0.0  \n",
       "1         32.862611            0.0            0.0  \n",
       "2         32.862611            0.0            0.0  \n",
       "3         32.862611            0.0            0.0  \n",
       "4         32.862611            0.0            0.0  \n",
       "...             ...            ...            ...  \n",
       "1279       0.000000            0.0            0.0  \n",
       "1280       0.000000            0.0            0.0  \n",
       "1281       0.000000            0.0            0.0  \n",
       "1282       0.000000            0.0            0.0  \n",
       "1283       0.000000            0.0            0.0  \n",
       "\n",
       "[1160 rows x 46 columns]"
      ]
     },
     "execution_count": 7,
     "metadata": {},
     "output_type": "execute_result"
    }
   ],
   "source": [
    "ThermalGen"
   ]
  },
  {
   "cell_type": "code",
   "execution_count": 8,
   "id": "29d9ac1e",
   "metadata": {
    "scrolled": true
   },
   "outputs": [
    {
     "data": {
      "text/html": [
       "<div>\n",
       "<style scoped>\n",
       "    .dataframe tbody tr th:only-of-type {\n",
       "        vertical-align: middle;\n",
       "    }\n",
       "\n",
       "    .dataframe tbody tr th {\n",
       "        vertical-align: top;\n",
       "    }\n",
       "\n",
       "    .dataframe thead th {\n",
       "        text-align: right;\n",
       "    }\n",
       "</style>\n",
       "<table border=\"1\" class=\"dataframe\">\n",
       "  <thead>\n",
       "    <tr style=\"text-align: right;\">\n",
       "      <th></th>\n",
       "      <th>Generator Name</th>\n",
       "      <th>If Use Generic IO Curve</th>\n",
       "      <th>Generic IO Curve Name</th>\n",
       "      <th>IONumBlock</th>\n",
       "      <th>IOMaxCap(MW)</th>\n",
       "      <th>IOMinCap(MW)</th>\n",
       "      <th>MinInput(MMBTu)</th>\n",
       "      <th>IncCap2(MW)</th>\n",
       "      <th>IncHR2(MMBTu/MWh)</th>\n",
       "      <th>IncCap3(MW)</th>\n",
       "      <th>...</th>\n",
       "      <th>Fuel Cost($/MMBTu)</th>\n",
       "      <th>Fuel Name_Start</th>\n",
       "      <th>Fuel Cost($/MMBTu)_Start</th>\n",
       "      <th>Start Up Cost($)</th>\n",
       "      <th>NoLoadCost($)</th>\n",
       "      <th>IncCost2($/MW)</th>\n",
       "      <th>IncCost3($/MW)</th>\n",
       "      <th>IncCost4($/MW)</th>\n",
       "      <th>IncCost5($/MW)</th>\n",
       "      <th>IncCost6($/MW)</th>\n",
       "    </tr>\n",
       "  </thead>\n",
       "  <tbody>\n",
       "    <tr>\n",
       "      <th>1224</th>\n",
       "      <td>Castroville QF Aggregate</td>\n",
       "      <td>False</td>\n",
       "      <td>NaN</td>\n",
       "      <td>1</td>\n",
       "      <td>2.0</td>\n",
       "      <td>2.0</td>\n",
       "      <td>97.333</td>\n",
       "      <td>0.0</td>\n",
       "      <td>0.0</td>\n",
       "      <td>0.0</td>\n",
       "      <td>...</td>\n",
       "      <td>3.113443</td>\n",
       "      <td>Coal_CA_South</td>\n",
       "      <td>3.113443</td>\n",
       "      <td>1017.8615</td>\n",
       "      <td>303.040748</td>\n",
       "      <td>0.0</td>\n",
       "      <td>0.0</td>\n",
       "      <td>0.0</td>\n",
       "      <td>0.0</td>\n",
       "      <td>0.0</td>\n",
       "    </tr>\n",
       "  </tbody>\n",
       "</table>\n",
       "<p>1 rows × 46 columns</p>\n",
       "</div>"
      ],
      "text/plain": [
       "                Generator Name  If Use Generic IO Curve  \\\n",
       "1224  Castroville QF Aggregate                    False   \n",
       "\n",
       "      Generic IO Curve Name  IONumBlock  IOMaxCap(MW)  IOMinCap(MW)  \\\n",
       "1224                    NaN           1           2.0           2.0   \n",
       "\n",
       "      MinInput(MMBTu)  IncCap2(MW)  IncHR2(MMBTu/MWh)  IncCap3(MW)  ...  \\\n",
       "1224           97.333          0.0                0.0          0.0  ...   \n",
       "\n",
       "      Fuel Cost($/MMBTu)  Fuel Name_Start  Fuel Cost($/MMBTu)_Start  \\\n",
       "1224            3.113443    Coal_CA_South                  3.113443   \n",
       "\n",
       "      Start Up Cost($)  NoLoadCost($)  IncCost2($/MW)  IncCost3($/MW)  \\\n",
       "1224         1017.8615     303.040748             0.0             0.0   \n",
       "\n",
       "     IncCost4($/MW) IncCost5($/MW) IncCost6($/MW)  \n",
       "1224            0.0            0.0            0.0  \n",
       "\n",
       "[1 rows x 46 columns]"
      ]
     },
     "execution_count": 8,
     "metadata": {},
     "output_type": "execute_result"
    }
   ],
   "source": [
    "Zone = 1\n",
    "# Filter the DataFrame based on 'Zone' and 'SubType' being 'ST-Coal'\n",
    "subset = ThermalGen[(ThermalGen['Zone'] == Zone) & (ThermalGen['SubType'] == 'ST-Coal')]\n",
    "subset"
   ]
  },
  {
   "cell_type": "code",
   "execution_count": 9,
   "id": "f5090ff1",
   "metadata": {},
   "outputs": [
    {
     "data": {
      "text/plain": [
       "2.0"
      ]
     },
     "execution_count": 9,
     "metadata": {},
     "output_type": "execute_result"
    }
   ],
   "source": [
    "subset['IOMaxCap(MW)'].sum()"
   ]
  },
  {
   "cell_type": "code",
   "execution_count": 10,
   "id": "0f2a2fb5",
   "metadata": {},
   "outputs": [
    {
     "data": {
      "text/plain": [
       "-2.0"
      ]
     },
     "execution_count": 10,
     "metadata": {},
     "output_type": "execute_result"
    }
   ],
   "source": [
    "GenRes[Zone-1][str(Year)]['Coal']*1000\n"
   ]
  },
  {
   "cell_type": "code",
   "execution_count": null,
   "id": "1616eb2d",
   "metadata": {},
   "outputs": [],
   "source": [
    "# Expand base on lowest emission\n",
    "n = 19\n",
    "LowEmission= subset.nlargest(n, 'IncCost2($/MW)')\n",
    "LowEmission\n"
   ]
  },
  {
   "cell_type": "code",
   "execution_count": null,
   "id": "247b2d0d",
   "metadata": {},
   "outputs": [],
   "source": [
    "LowEmission['IOMaxCap(MW)'].sum()"
   ]
  },
  {
   "cell_type": "code",
   "execution_count": null,
   "id": "9b675b98",
   "metadata": {},
   "outputs": [],
   "source": [
    "ThermalGen = pd.concat([ThermalGen, LowEmission], ignore_index=True)\n",
    "ThermalGen"
   ]
  },
  {
   "cell_type": "code",
   "execution_count": null,
   "id": "648346c2",
   "metadata": {},
   "outputs": [],
   "source": [
    "### Retire ALL!\n",
    "ThermalGen = ThermalGen[~ThermalGen.index.isin(subset.index)]\n",
    "ThermalGen"
   ]
  },
  {
   "cell_type": "code",
   "execution_count": null,
   "id": "f1b6f40c",
   "metadata": {},
   "outputs": [],
   "source": [
    "# Retire base on top emission\n",
    "n = 4\n",
    "TopEmission= subset.nlargest(n, 'IncCost2($/MW)')\n",
    "TopEmission\n"
   ]
  },
  {
   "cell_type": "code",
   "execution_count": null,
   "id": "87eae36c",
   "metadata": {},
   "outputs": [],
   "source": [
    "TopEmission['IOMaxCap(MW)'].sum()"
   ]
  },
  {
   "cell_type": "code",
   "execution_count": null,
   "id": "ca062b4f",
   "metadata": {},
   "outputs": [],
   "source": [
    "ThermalGen = ThermalGen[~ThermalGen.index.isin(TopEmission.index)]\n",
    "ThermalGen"
   ]
  },
  {
   "cell_type": "code",
   "execution_count": null,
   "id": "e1f72ca6",
   "metadata": {},
   "outputs": [],
   "source": [
    "### save temporally\n",
    "ThermalGen.to_csv('Processed Data/'+str(Year)+'/ThermalGen_Full_C.csv')"
   ]
  },
  {
   "cell_type": "markdown",
   "id": "0a22bd95",
   "metadata": {},
   "source": [
    "### ST retire by region"
   ]
  },
  {
   "cell_type": "code",
   "execution_count": null,
   "id": "4c2f4d44",
   "metadata": {},
   "outputs": [],
   "source": [
    "ThermalGen = pd.read_csv('Processed Data/'+str(Year)+'/ThermalGen_Full_C.csv', index_col=0)"
   ]
  },
  {
   "cell_type": "code",
   "execution_count": null,
   "id": "19923955",
   "metadata": {
    "scrolled": false
   },
   "outputs": [],
   "source": [
    "ThermalGen"
   ]
  },
  {
   "cell_type": "code",
   "execution_count": null,
   "id": "a0224c7e",
   "metadata": {},
   "outputs": [],
   "source": [
    "Zone = 6\n",
    "# Filter the DataFrame based on 'Zone' and 'SubType' being 'ST-Coal'\n",
    "subset = ThermalGen[(ThermalGen['Zone']==Zone)&((ThermalGen['SubType']=='ST-NatGas')|(ThermalGen['SubType']=='ST-Other')|(ThermalGen['SubType']=='ST-WasteHeat'))]\n",
    "subset"
   ]
  },
  {
   "cell_type": "code",
   "execution_count": null,
   "id": "8ae4c27c",
   "metadata": {},
   "outputs": [],
   "source": [
    "subset['IOMaxCap(MW)'].sum()\n"
   ]
  },
  {
   "cell_type": "code",
   "execution_count": null,
   "id": "ad32a342",
   "metadata": {},
   "outputs": [],
   "source": [
    "GenRes[Zone-1][str(Year)]['Oil and Natural Gas Steam 3/']*1000"
   ]
  },
  {
   "cell_type": "code",
   "execution_count": null,
   "id": "9dfe9899",
   "metadata": {},
   "outputs": [],
   "source": [
    "### Retire ALL!\n",
    "ThermalGen = ThermalGen[~ThermalGen.index.isin(subset.index)]\n",
    "ThermalGen"
   ]
  },
  {
   "cell_type": "code",
   "execution_count": null,
   "id": "b00ad5ff",
   "metadata": {},
   "outputs": [],
   "source": [
    "# Retire base on top emission\n",
    "n = 1\n",
    "TopEmission= subset.nlargest(n, 'IncCost2($/MW)')\n",
    "TopEmission"
   ]
  },
  {
   "cell_type": "code",
   "execution_count": null,
   "id": "35159f4e",
   "metadata": {},
   "outputs": [],
   "source": [
    "TopEmission['IOMaxCap(MW)'].sum()\n"
   ]
  },
  {
   "cell_type": "code",
   "execution_count": null,
   "id": "a10aaa30",
   "metadata": {},
   "outputs": [],
   "source": [
    "ThermalGen = ThermalGen[~ThermalGen.index.isin(TopEmission.index)]\n",
    "ThermalGen"
   ]
  },
  {
   "cell_type": "code",
   "execution_count": null,
   "id": "3d31250a",
   "metadata": {},
   "outputs": [],
   "source": [
    "### save temporally\n",
    "ThermalGen.to_csv('Processed Data/'+str(Year)+'/ThermalGen_Full_C.csv')"
   ]
  },
  {
   "cell_type": "markdown",
   "id": "d2c183e7",
   "metadata": {},
   "source": [
    "### CC retire by region"
   ]
  },
  {
   "cell_type": "code",
   "execution_count": null,
   "id": "2e39ca0f",
   "metadata": {},
   "outputs": [],
   "source": [
    "ThermalGen = pd.read_csv('Processed Data/'+str(Year)+'/ThermalGen_Full_C.csv', index_col=0)\n",
    "ThermalGen"
   ]
  },
  {
   "cell_type": "code",
   "execution_count": null,
   "id": "958b2575",
   "metadata": {
    "scrolled": true
   },
   "outputs": [],
   "source": [
    "Zone = 5\n",
    "# Filter the DataFrame based on 'Zone' and 'SubType' being 'ST-Coal'\n",
    "subset = ThermalGen[(ThermalGen['Zone']==Zone)&((ThermalGen['SubType']=='CCWhole-NatGas-SingleShaft')|(ThermalGen['SubType']=='CCWhole-NatGas-Aero')|(ThermalGen['SubType']=='CCWhole-NatGas-Industrial')|(ThermalGen['SubType']=='CCPart-Steam'))]\n",
    "subset"
   ]
  },
  {
   "cell_type": "code",
   "execution_count": null,
   "id": "c11c9fd7",
   "metadata": {},
   "outputs": [],
   "source": [
    "subset['IOMaxCap(MW)'].sum()\n"
   ]
  },
  {
   "cell_type": "code",
   "execution_count": null,
   "id": "d2589281",
   "metadata": {},
   "outputs": [],
   "source": [
    "GenRes[Zone-1][str(Year)]['Combined Cycle']*1000\n"
   ]
  },
  {
   "cell_type": "code",
   "execution_count": null,
   "id": "665d119b",
   "metadata": {},
   "outputs": [],
   "source": [
    "# Expand base on lowest emission\n",
    "n = 6\n",
    "LowEmission= subset.nsmallest(n, 'IncCost2($/MW)')\n",
    "LowEmission"
   ]
  },
  {
   "cell_type": "code",
   "execution_count": null,
   "id": "4e399201",
   "metadata": {},
   "outputs": [],
   "source": [
    "LowEmission['IOMaxCap(MW)'].sum()\n"
   ]
  },
  {
   "cell_type": "code",
   "execution_count": null,
   "id": "52ff03d1",
   "metadata": {},
   "outputs": [],
   "source": [
    "ThermalGen = pd.concat([ThermalGen, LowEmission], ignore_index=True)\n",
    "ThermalGen"
   ]
  },
  {
   "cell_type": "code",
   "execution_count": null,
   "id": "38e0e907",
   "metadata": {},
   "outputs": [],
   "source": [
    "### Retire ALL!\n",
    "ThermalGen = ThermalGen[~ThermalGen.index.isin(subset.index)]\n",
    "ThermalGen"
   ]
  },
  {
   "cell_type": "code",
   "execution_count": null,
   "id": "c3927e1e",
   "metadata": {},
   "outputs": [],
   "source": [
    "# Retire base on top emission\n",
    "n = 2\n",
    "TopEmission= subset.nlargest(n, 'IncCost2($/MW)')\n",
    "TopEmission"
   ]
  },
  {
   "cell_type": "code",
   "execution_count": null,
   "id": "0f623177",
   "metadata": {},
   "outputs": [],
   "source": [
    "TopEmission['IOMaxCap(MW)'].sum()\n"
   ]
  },
  {
   "cell_type": "code",
   "execution_count": null,
   "id": "65dc4258",
   "metadata": {},
   "outputs": [],
   "source": [
    "ThermalGen = ThermalGen[~ThermalGen.index.isin(TopEmission.index)]\n",
    "ThermalGen"
   ]
  },
  {
   "cell_type": "code",
   "execution_count": null,
   "id": "adff435d",
   "metadata": {},
   "outputs": [],
   "source": [
    "### save temporally\n",
    "ThermalGen.to_csv('Processed Data/'+str(Year)+'/ThermalGen_Full_C.csv')"
   ]
  },
  {
   "cell_type": "markdown",
   "id": "682fbb46",
   "metadata": {},
   "source": [
    "### CT add new units\n"
   ]
  },
  {
   "cell_type": "code",
   "execution_count": null,
   "id": "af4f4722",
   "metadata": {},
   "outputs": [],
   "source": [
    "ThermalGen = pd.read_csv('Processed Data/'+str(Year)+'/ThermalGen_Full_C.csv', index_col=0)\n",
    "ThermalGen"
   ]
  },
  {
   "cell_type": "code",
   "execution_count": null,
   "id": "5b21f9ed",
   "metadata": {
    "scrolled": false
   },
   "outputs": [],
   "source": [
    "Zone = 6\n",
    "# Filter the DataFrame based on 'Zone' and 'SubType' being 'ST-Coal'\n",
    "subset = ThermalGen[(ThermalGen['Zone']==Zone)&((ThermalGen['SubType']=='CT-NatGas-Aero')|(ThermalGen['SubType']=='CT-NatGas-Industrial')|(ThermalGen['SubType']=='CT-OilDistillate')|(ThermalGen['SubType']=='CT-Aero')|(ThermalGen['SubType']=='CT-AB-Cogen'))]\n",
    "subset"
   ]
  },
  {
   "cell_type": "code",
   "execution_count": null,
   "id": "adf85900",
   "metadata": {},
   "outputs": [],
   "source": [
    "subset['IOMaxCap(MW)'].sum()\n"
   ]
  },
  {
   "cell_type": "code",
   "execution_count": null,
   "id": "dd4135ae",
   "metadata": {},
   "outputs": [],
   "source": [
    "GenRes[Zone-1][str(Year)]['Combustion Turbine/Diesel']*1000"
   ]
  },
  {
   "cell_type": "code",
   "execution_count": null,
   "id": "098b14e8",
   "metadata": {},
   "outputs": [],
   "source": [
    "# Expand base on lowest emission\n",
    "n = 30\n",
    "LowEmission= subset.nsmallest(n, 'IncCost2($/MW)')\n",
    "LowEmission"
   ]
  },
  {
   "cell_type": "code",
   "execution_count": null,
   "id": "fdeb9b9b",
   "metadata": {},
   "outputs": [],
   "source": [
    "LowEmission['IOMaxCap(MW)'].sum()\n"
   ]
  },
  {
   "cell_type": "code",
   "execution_count": null,
   "id": "f290931e",
   "metadata": {},
   "outputs": [],
   "source": [
    "ThermalGen = pd.concat([ThermalGen, LowEmission], ignore_index=True)\n",
    "ThermalGen"
   ]
  },
  {
   "cell_type": "markdown",
   "id": "9d575e28",
   "metadata": {},
   "source": [
    "### Nuclear retire by region"
   ]
  },
  {
   "cell_type": "code",
   "execution_count": null,
   "id": "772bddad",
   "metadata": {},
   "outputs": [],
   "source": [
    "ThermalGen = pd.read_csv('Processed Data/'+str(Year)+'/ThermalGen_Full_C.csv', index_col=0)\n",
    "ThermalGen"
   ]
  },
  {
   "cell_type": "code",
   "execution_count": null,
   "id": "35381916",
   "metadata": {},
   "outputs": [],
   "source": [
    "Zone = 6\n",
    "# Filter the DataFrame based on 'Zone' and 'SubType' being 'ST-Coal'\n",
    "subset = ThermalGen[(ThermalGen['Zone']==Zone)&((ThermalGen['SubType']=='ST-Nuclear'))]\n",
    "subset"
   ]
  },
  {
   "cell_type": "code",
   "execution_count": null,
   "id": "8c614236",
   "metadata": {},
   "outputs": [],
   "source": [
    "subset['IOMaxCap(MW)'].sum()\n"
   ]
  },
  {
   "cell_type": "code",
   "execution_count": null,
   "id": "d8ce06b5",
   "metadata": {},
   "outputs": [],
   "source": [
    "GenRes[Zone-1][str(Year)]['Nuclear Power']*1000\n"
   ]
  },
  {
   "cell_type": "code",
   "execution_count": null,
   "id": "4cc4e67a",
   "metadata": {},
   "outputs": [],
   "source": [
    "### Retire ALL!\n",
    "ThermalGen = ThermalGen[~ThermalGen.index.isin(subset.index)]\n",
    "ThermalGen"
   ]
  },
  {
   "cell_type": "code",
   "execution_count": null,
   "id": "8e70b4ad",
   "metadata": {},
   "outputs": [],
   "source": [
    "# Retire base on top emission\n",
    "n = 4\n",
    "TopEmission= subset.nlargest(n, 'IncCost2($/MW)')\n",
    "TopEmission"
   ]
  },
  {
   "cell_type": "code",
   "execution_count": null,
   "id": "13b63cbc",
   "metadata": {},
   "outputs": [],
   "source": [
    "TopEmission['IOMaxCap(MW)'].sum()\n"
   ]
  },
  {
   "cell_type": "code",
   "execution_count": null,
   "id": "ad6060ef",
   "metadata": {},
   "outputs": [],
   "source": [
    "ThermalGen = ThermalGen[~ThermalGen.index.isin(TopEmission.index)]\n",
    "ThermalGen"
   ]
  },
  {
   "cell_type": "code",
   "execution_count": null,
   "id": "3120e09e",
   "metadata": {},
   "outputs": [],
   "source": [
    "### save temporally\n",
    "ThermalGen.to_csv('Processed Data/'+str(Year)+'/ThermalGen_Full_C.csv')"
   ]
  },
  {
   "cell_type": "code",
   "execution_count": null,
   "id": "8a87867e",
   "metadata": {},
   "outputs": [],
   "source": [
    "### Thermal Gen map"
   ]
  },
  {
   "cell_type": "code",
   "execution_count": null,
   "id": "fc3d660e",
   "metadata": {},
   "outputs": [],
   "source": [
    "mask = thermalgen['InitialDispatch(MW)'] != 0\n",
    "ThermalGen.loc[mask, 'InitialDispatch(MW)'] = ThermalGen.loc[mask, 'InitialDispatch(MW)'].clip(lower=ThermalGen.loc[mask, 'IOMinCap(MW)'], upper=ThermalGen.loc[mask, 'IOMaxCap(MW)'])"
   ]
  },
  {
   "cell_type": "code",
   "execution_count": null,
   "id": "504cba5c",
   "metadata": {},
   "outputs": [],
   "source": [
    "ThermalGen['Initial Status'] = (ThermalGen['InitialDispatch(MW)'] != 0).astype(int)"
   ]
  },
  {
   "cell_type": "code",
   "execution_count": null,
   "id": "b44f4521",
   "metadata": {},
   "outputs": [],
   "source": [
    "columns_to_drop = ['If Use Generic IO Curve', 'Generic IO Curve Name','IONumBlock', 'MinInput(MMBTu)',\n",
    "                   'IncHR2(MMBTu/MWh)', 'IncHR3(MMBTu/MWh)', 'IncHR4(MMBTu/MWh)', 'IncHR5(MMBTu/MWh)','IncHR6(MMBTu/MWh)',\n",
    "                  'Name', 'GeneratorName', 'Fuel Name', 'Startup Cost Fixed($)', 'Startup Fuel Name', 'StartFuel(MMBTu)',\n",
    "                  'Fuel Cost($/MMBTu)', 'Fuel Name_Start', 'Fuel Cost($/MMBTu)_Start']\n",
    "thermalgen = ThermalGen.drop(columns=columns_to_drop)"
   ]
  },
  {
   "cell_type": "code",
   "execution_count": null,
   "id": "2e1ce95a",
   "metadata": {},
   "outputs": [],
   "source": [
    "thermalgen.to_csv('Processed Data/'+str(Year)+'/ThermalGen_C.csv')"
   ]
  },
  {
   "cell_type": "code",
   "execution_count": null,
   "id": "a12d576b",
   "metadata": {},
   "outputs": [],
   "source": [
    "thermalgen"
   ]
  },
  {
   "cell_type": "code",
   "execution_count": null,
   "id": "a79d3be3",
   "metadata": {},
   "outputs": [],
   "source": [
    "thermalgen.loc[14]"
   ]
  },
  {
   "cell_type": "code",
   "execution_count": null,
   "id": "e0b85bb5",
   "metadata": {},
   "outputs": [],
   "source": [
    "thermalgenzone = pd.read_csv('Processed Data/'+str(Year)+'/ThermalGen_C.csv', usecols=['Generator Name','Zone'])"
   ]
  },
  {
   "cell_type": "code",
   "execution_count": null,
   "id": "961f2e66",
   "metadata": {},
   "outputs": [],
   "source": [
    "thermalgenmap = pd.get_dummies(thermalgenzone[\"Zone\"], dtype=int)\n",
    "thermalgenmap.to_csv('Processed Data/'+str(Year)+'/ThermalGenMap_C.csv')"
   ]
  },
  {
   "cell_type": "markdown",
   "id": "d0164ed4",
   "metadata": {},
   "source": [
    "### Storage Update"
   ]
  },
  {
   "cell_type": "code",
   "execution_count": null,
   "id": "7a72e9f3",
   "metadata": {},
   "outputs": [],
   "source": [
    "### PHS do nothing\n",
    "### ES add new units\n",
    "Storage = pd.read_csv('Processed Data/2022/Storage_C_4hr_5GW_Strategic.csv', index_col=0)\n"
   ]
  },
  {
   "cell_type": "code",
   "execution_count": null,
   "id": "b02321d4",
   "metadata": {},
   "outputs": [],
   "source": [
    "Zone = 6\n",
    "subset = Storage[(Storage['Zone'] == Zone)]\n",
    "subset"
   ]
  },
  {
   "cell_type": "code",
   "execution_count": null,
   "id": "6f914498",
   "metadata": {},
   "outputs": [],
   "source": [
    "subset['MaxCap(MW)'].sum()\n"
   ]
  },
  {
   "cell_type": "code",
   "execution_count": null,
   "id": "fd945e56",
   "metadata": {},
   "outputs": [],
   "source": [
    "GenRes[Zone-1][str(Year)]['Diurnal Storage']*1000\n"
   ]
  },
  {
   "cell_type": "code",
   "execution_count": null,
   "id": "8c961d11",
   "metadata": {},
   "outputs": [],
   "source": [
    "# Expand base on largest size\n",
    "n = 6\n",
    "Large = subset.nlargest(n, 'MaxCap(MW)')\n",
    "Large"
   ]
  },
  {
   "cell_type": "code",
   "execution_count": null,
   "id": "0a931996",
   "metadata": {},
   "outputs": [],
   "source": [
    "Large['MaxCap(MW)'].sum()\n"
   ]
  },
  {
   "cell_type": "code",
   "execution_count": null,
   "id": "b2253a86",
   "metadata": {},
   "outputs": [],
   "source": [
    "Storage = pd.concat([Storage, Large], ignore_index=True)\n",
    "Storage"
   ]
  },
  {
   "cell_type": "code",
   "execution_count": null,
   "id": "ce20e131",
   "metadata": {},
   "outputs": [],
   "source": [
    "Storage.to_csv('Processed Data/'+str(Year)+'/Storage_C_4hr_5GW_Strategic.csv')"
   ]
  },
  {
   "cell_type": "code",
   "execution_count": null,
   "id": "1af8eb69",
   "metadata": {},
   "outputs": [],
   "source": [
    "storagezone = pd.read_csv('Processed Data/'+str(Year)+'/Storage_C_4hr_5GW_Strategic.csv', usecols=['Name','Zone'])\n",
    "storagemap = pd.get_dummies(storagezone[\"Zone\"], dtype=int)\n",
    "storagemap.to_csv('Processed Data/'+str(Year)+'/StorageMap_C.csv')"
   ]
  },
  {
   "cell_type": "code",
   "execution_count": null,
   "id": "614d63ba",
   "metadata": {},
   "outputs": [],
   "source": [
    "StorageDABids = pd.read_csv('Processed Data/2022/StorageDABids.csv', index_col=0)\n",
    "StorageRTBids = pd.read_csv('Processed Data/2022/StorageRTBids.csv', index_col=0)\n",
    "StorageDABids.to_csv('Processed Data/'+str(Year)+'/StorageDABids.csv')\n",
    "StorageRTBids.to_csv('Processed Data/'+str(Year)+'/StorageRTBids.csv')"
   ]
  },
  {
   "cell_type": "code",
   "execution_count": null,
   "id": "8c17a9f6",
   "metadata": {},
   "outputs": [],
   "source": [
    "Storage = pd.read_csv('Processed Data/'+str(Year)+'/Storage_C_4hr_5GW_Strategic.csv', index_col=0)\n",
    "df = Storage"
   ]
  },
  {
   "cell_type": "code",
   "execution_count": null,
   "id": "f544628f",
   "metadata": {},
   "outputs": [],
   "source": [
    "Storage['SubType'].unique()"
   ]
  },
  {
   "cell_type": "code",
   "execution_count": null,
   "id": "2de2ef1f",
   "metadata": {
    "scrolled": false
   },
   "outputs": [],
   "source": [
    "# Filter battery storages\n",
    "battery_storages = df[df['SubType'] == 'Battery Storage']\n",
    "\n",
    "# Aggregate by 'Zone'\n",
    "aggregated = battery_storages.groupby('Zone').agg({\n",
    "    'Name': lambda x: f\"Agg_Region_{x.name}\",\n",
    "    'SubType': 'first',  # All are 'Battery Storage'\n",
    "    'DevStatus': 'first',\n",
    "    'Area Name': 'first',\n",
    "    'MinCap(MW)': 'sum',\n",
    "    'MaxCap(MW)': 'sum',\n",
    "    'InitialDispatch(MW)': 'sum',\n",
    "    'Efficiency': 'first',\n",
    "    'Duration(h)': 'first',\n",
    "    'MaxCap(MWh)': 'sum',\n",
    "    'Strategic': 'first'\n",
    "}).reset_index()\n",
    "\n",
    "# Ensure 'Zone' is a column\n",
    "aggregated['Zone'] = aggregated['Zone'].astype(int)  # Cast to int if needed\n",
    "\n",
    "# Remove original battery storage rows\n",
    "df = df[df['SubType'] != 'Battery Storage']\n",
    "\n",
    "# Append aggregated rows\n",
    "df = pd.concat([df, aggregated], ignore_index=True)\n",
    "\n",
    "df"
   ]
  },
  {
   "cell_type": "code",
   "execution_count": null,
   "id": "ef945426",
   "metadata": {},
   "outputs": [],
   "source": [
    "aggregated"
   ]
  },
  {
   "cell_type": "code",
   "execution_count": null,
   "id": "1b6d665f",
   "metadata": {},
   "outputs": [],
   "source": [
    "df.to_csv('Processed Data/'+str(Year)+'/Storage_C_4hr_5GW_Strategic_Agg.csv')"
   ]
  },
  {
   "cell_type": "code",
   "execution_count": null,
   "id": "e77643d1",
   "metadata": {},
   "outputs": [],
   "source": [
    "storagezone = pd.read_csv('Processed Data/'+str(Year)+'/Storage_C_4hr_5GW_Strategic_Agg.csv', usecols=['Name','Zone'])\n",
    "storagemap = pd.get_dummies(storagezone[\"Zone\"], dtype=int)\n",
    "storagemap.to_csv('Processed Data/'+str(Year)+'/StorageMap_C_Agg.csv')"
   ]
  },
  {
   "cell_type": "markdown",
   "id": "4d560605",
   "metadata": {},
   "source": [
    "## Renewable Update"
   ]
  },
  {
   "cell_type": "code",
   "execution_count": null,
   "id": "d8afd114",
   "metadata": {},
   "outputs": [],
   "source": [
    "### Geothermal do nothing\n",
    "### BIO and ICE do nothing"
   ]
  },
  {
   "cell_type": "markdown",
   "id": "1057f222",
   "metadata": {},
   "source": [
    "### Hydro do nothing"
   ]
  },
  {
   "cell_type": "code",
   "execution_count": null,
   "id": "b4c0110f",
   "metadata": {},
   "outputs": [],
   "source": [
    "HydroZone = pd.read_csv('Processed Data/2022/HydroZone_C.csv', index_col=0)\n",
    "HydroZoneCAP = pd.read_csv('Processed Data/2022/HydroZoneCap_C.csv', index_col=0)\n",
    "HydroZone.to_csv('Processed Data/'+str(Year)+'/HydroZone_C.csv')\n",
    "HydroZoneCAP.to_csv('Processed Data/'+str(Year)+'/HydroZoneCap_C.csv')"
   ]
  },
  {
   "cell_type": "markdown",
   "id": "dbb1266f",
   "metadata": {},
   "source": [
    "### Solar PV scale up capacity and profile by region\n"
   ]
  },
  {
   "cell_type": "code",
   "execution_count": null,
   "id": "385f7cb0",
   "metadata": {},
   "outputs": [],
   "source": [
    "SolarZone = pd.read_csv('Processed Data/2022/SolarZone_C.csv', index_col=0)\n",
    "SolarZoneRT = pd.read_csv('Processed Data/2022/realtimesolar_all.csv', header = None)\n"
   ]
  },
  {
   "cell_type": "code",
   "execution_count": null,
   "id": "3d8e3f61",
   "metadata": {},
   "outputs": [],
   "source": [
    "Zone = 6\n",
    "A = GenRes[Zone-1]['Region6']['Solar Thermal'] + GenRes[Zone-1]['Region6']['Solar Photovoltaic']\n",
    "B = GenRes[Zone-1][str(Year)]['Solar Thermal'] + GenRes[Zone-1][str(Year)]['Solar Photovoltaic']\n",
    "multuplier = (A+B)/A\n",
    "multuplier"
   ]
  },
  {
   "cell_type": "code",
   "execution_count": null,
   "id": "c9a42893",
   "metadata": {},
   "outputs": [],
   "source": [
    "GenRes[Zone-1]"
   ]
  },
  {
   "cell_type": "code",
   "execution_count": null,
   "id": "051b6b3e",
   "metadata": {},
   "outputs": [],
   "source": [
    "SolarZone.iloc[:, Zone-1] = SolarZone.iloc[:, Zone-1] * multuplier\n",
    "SolarZoneRT.iloc[:, Zone-1] = SolarZoneRT.iloc[:, Zone-1] * multuplier\n"
   ]
  },
  {
   "cell_type": "code",
   "execution_count": null,
   "id": "7d3eef15",
   "metadata": {},
   "outputs": [],
   "source": [
    "SolarZone.iloc[12]"
   ]
  },
  {
   "cell_type": "code",
   "execution_count": null,
   "id": "951b0814",
   "metadata": {},
   "outputs": [],
   "source": [
    "SolarZoneRT.iloc[145]"
   ]
  },
  {
   "cell_type": "code",
   "execution_count": null,
   "id": "dff41bfa",
   "metadata": {},
   "outputs": [],
   "source": [
    "SolarZone.to_csv('Processed Data/'+str(Year)+'/SolarZone_C.csv')\n",
    "SolarZoneRT.to_csv('Processed Data/'+str(Year)+'/realtimesolar_all.csv', header = None, index=False)"
   ]
  },
  {
   "cell_type": "markdown",
   "id": "36d74612",
   "metadata": {},
   "source": [
    "### Wind scale up capacity and profile by region"
   ]
  },
  {
   "cell_type": "code",
   "execution_count": null,
   "id": "469e80aa",
   "metadata": {},
   "outputs": [],
   "source": [
    "WindZone = pd.read_csv('Processed Data/2022/WindZone_C.csv', index_col=0)\n",
    "WindZoneRT = pd.read_csv('Processed Data/2022/realtimewind_all.csv', header = None)"
   ]
  },
  {
   "cell_type": "code",
   "execution_count": null,
   "id": "3ba55305",
   "metadata": {},
   "outputs": [],
   "source": [
    "Zone = 6\n",
    "A = GenRes[Zone-1]['Region6']['Wind']\n",
    "B = GenRes[Zone-1][str(Year)]['Wind'] \n",
    "multuplier = (A+B)/A\n",
    "multuplier"
   ]
  },
  {
   "cell_type": "code",
   "execution_count": null,
   "id": "32584cfd",
   "metadata": {},
   "outputs": [],
   "source": [
    "GenRes[Zone-1]"
   ]
  },
  {
   "cell_type": "code",
   "execution_count": null,
   "id": "d31fe8b2",
   "metadata": {},
   "outputs": [],
   "source": [
    "WindZone.iloc[:, Zone-1] = WindZone.iloc[:, Zone-1] * multuplier\n",
    "WindZoneRT.iloc[:, Zone-1] = WindZoneRT.iloc[:, Zone-1] * multuplier"
   ]
  },
  {
   "cell_type": "code",
   "execution_count": null,
   "id": "d19407c5",
   "metadata": {},
   "outputs": [],
   "source": [
    "WindZone.iloc[12]"
   ]
  },
  {
   "cell_type": "code",
   "execution_count": null,
   "id": "7cf6cef2",
   "metadata": {},
   "outputs": [],
   "source": [
    "WindZoneRT.iloc[145]"
   ]
  },
  {
   "cell_type": "code",
   "execution_count": null,
   "id": "d695860a",
   "metadata": {},
   "outputs": [],
   "source": [
    "WindZone.to_csv('Processed Data/'+str(Year)+'/WindZone_C.csv')\n",
    "WindZoneRT.to_csv('Processed Data/'+str(Year)+'/realtimewind_all.csv', header = None, index=False)"
   ]
  },
  {
   "cell_type": "markdown",
   "id": "a59a8c23",
   "metadata": {},
   "source": [
    "### Load"
   ]
  },
  {
   "cell_type": "code",
   "execution_count": null,
   "id": "1b91b10d",
   "metadata": {},
   "outputs": [],
   "source": [
    "LoadRT"
   ]
  },
  {
   "cell_type": "code",
   "execution_count": null,
   "id": "8c393b19",
   "metadata": {},
   "outputs": [],
   "source": [
    "Load = pd.read_csv('Processed Data/2022/Load_C.csv')\n",
    "LoadRT = pd.read_csv('Processed Data/2022/realtimeload_all.csv', header = None)\n",
    "Load.to_csv('Processed Data/'+str(Year)+'/Load_C.csv', index=False)\n",
    "LoadRT.to_csv('Processed Data/'+str(Year)+'/realtimeload_all.csv', header = None, index=False)"
   ]
  }
 ],
 "metadata": {
  "kernelspec": {
   "display_name": "Python 3 (ipykernel)",
   "language": "python",
   "name": "python3"
  },
  "language_info": {
   "codemirror_mode": {
    "name": "ipython",
    "version": 3
   },
   "file_extension": ".py",
   "mimetype": "text/x-python",
   "name": "python",
   "nbconvert_exporter": "python",
   "pygments_lexer": "ipython3",
   "version": "3.11.4"
  }
 },
 "nbformat": 4,
 "nbformat_minor": 5
}
