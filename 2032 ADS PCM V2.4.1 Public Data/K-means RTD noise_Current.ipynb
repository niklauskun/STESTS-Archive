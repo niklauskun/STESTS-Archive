{
 "cells": [
  {
   "cell_type": "code",
   "execution_count": 2,
   "id": "c2620856",
   "metadata": {},
   "outputs": [],
   "source": [
    "import pandas as pd\n",
    "import numpy as np\n",
    "from datetime import datetime\n",
    "import os\n",
    "import re\n",
    "from sklearn.cluster import KMeans\n",
    "from sklearn.metrics import pairwise_distances_argmin_min\n",
    "import matplotlib.pyplot as plt\n"
   ]
  },
  {
   "cell_type": "markdown",
   "id": "54797271",
   "metadata": {},
   "source": [
    "### Clear day-ahead load"
   ]
  },
  {
   "cell_type": "code",
   "execution_count": 6,
   "id": "a51dedf1",
   "metadata": {},
   "outputs": [],
   "source": [
    "# Specify the directory you want to use\n",
    "directory = './DAM/Load'\n",
    "\n",
    "dataframes = []  # list to store dataframes\n",
    "for filename in os.listdir(directory):\n",
    "    if filename.endswith(\".csv\"):\n",
    "        df = pd.read_csv(os.path.join(directory, filename), encoding='ISO-8859-1')\n",
    "        dataframes.append(df)\n",
    "combined_df = pd.concat(dataframes, ignore_index=True)"
   ]
  },
  {
   "cell_type": "code",
   "execution_count": 7,
   "id": "ebac63ac",
   "metadata": {},
   "outputs": [],
   "source": [
    "values = ['CA ISO-TAC', 'MWD-TAC', 'PGE-TAC','SCE-TAC','SDGE-TAC','VEA-TAC']\n",
    "df_selected = combined_df[combined_df['TAC_AREA_NAME'].isin(values)]\n",
    "df_sorted = df_selected.sort_values(by=['OPR_DT', 'OPR_HR',]).reset_index(drop=True)"
   ]
  },
  {
   "cell_type": "code",
   "execution_count": 8,
   "id": "b824c67c",
   "metadata": {},
   "outputs": [],
   "source": [
    "CAISO = df_sorted[df_sorted['TAC_AREA_NAME']=='CA ISO-TAC'][['INTERVALSTARTTIME_GMT','MW']].iloc[24:8784].reset_index(drop=True)\n",
    "Zone1 = df_sorted[df_sorted['TAC_AREA_NAME']=='PGE-TAC'][['INTERVALSTARTTIME_GMT','MW']].iloc[24:8784].reset_index(drop=True)\n",
    "Zone2_values = ['MWD-TAC','SCE-TAC','VEA-TAC']\n",
    "Zone2_sep = df_sorted[df_sorted['TAC_AREA_NAME'].isin(Zone2_values)]\n",
    "Zone2 = Zone2_sep.groupby(['INTERVALSTARTTIME_GMT'])['MW'].sum().iloc[24:8784].reset_index()\n",
    "Zone3 = df_sorted[df_sorted['TAC_AREA_NAME']=='SDGE-TAC'][['INTERVALSTARTTIME_GMT','MW']].iloc[24:8784].reset_index(drop=True)"
   ]
  },
  {
   "cell_type": "code",
   "execution_count": 9,
   "id": "5a902665",
   "metadata": {},
   "outputs": [],
   "source": [
    "train_pre = pd.concat([CAISO['INTERVALSTARTTIME_GMT'], CAISO['MW'], Zone1['MW'], Zone2['MW'], Zone3['MW']], axis=1)\n",
    "train_pre.columns = ['INTERVALSTARTTIME_GMT', 'CAISO', 'Zone1', 'Zone2', 'Zone3']\n",
    "train_pre['CAISO'] = train_pre[['Zone1', 'Zone2', 'Zone3']].sum(axis=1)\n",
    "train_pre['INTERVALSTARTTIME_GMT'] = pd.to_datetime(train_pre['INTERVALSTARTTIME_GMT'])\n",
    "train_pre.set_index('INTERVALSTARTTIME_GMT', inplace=True)"
   ]
  },
  {
   "cell_type": "code",
   "execution_count": 10,
   "id": "ca953961",
   "metadata": {},
   "outputs": [
    {
     "data": {
      "text/html": [
       "<div>\n",
       "<style scoped>\n",
       "    .dataframe tbody tr th:only-of-type {\n",
       "        vertical-align: middle;\n",
       "    }\n",
       "\n",
       "    .dataframe tbody tr th {\n",
       "        vertical-align: top;\n",
       "    }\n",
       "\n",
       "    .dataframe thead th {\n",
       "        text-align: right;\n",
       "    }\n",
       "</style>\n",
       "<table border=\"1\" class=\"dataframe\">\n",
       "  <thead>\n",
       "    <tr style=\"text-align: right;\">\n",
       "      <th></th>\n",
       "      <th>CAISO</th>\n",
       "      <th>Zone1</th>\n",
       "      <th>Zone2</th>\n",
       "      <th>Zone3</th>\n",
       "    </tr>\n",
       "    <tr>\n",
       "      <th>INTERVALSTARTTIME_GMT</th>\n",
       "      <th></th>\n",
       "      <th></th>\n",
       "      <th></th>\n",
       "      <th></th>\n",
       "    </tr>\n",
       "  </thead>\n",
       "  <tbody>\n",
       "    <tr>\n",
       "      <th>2022-01-01 08:00:00+00:00</th>\n",
       "      <td>22630.73</td>\n",
       "      <td>10247.46</td>\n",
       "      <td>10307.27</td>\n",
       "      <td>2076.0</td>\n",
       "    </tr>\n",
       "    <tr>\n",
       "      <th>2022-01-01 09:00:00+00:00</th>\n",
       "      <td>21765.85</td>\n",
       "      <td>9876.01</td>\n",
       "      <td>9899.84</td>\n",
       "      <td>1990.0</td>\n",
       "    </tr>\n",
       "    <tr>\n",
       "      <th>2022-01-01 10:00:00+00:00</th>\n",
       "      <td>21104.63</td>\n",
       "      <td>9598.49</td>\n",
       "      <td>9587.14</td>\n",
       "      <td>1919.0</td>\n",
       "    </tr>\n",
       "    <tr>\n",
       "      <th>2022-01-01 11:00:00+00:00</th>\n",
       "      <td>20740.12</td>\n",
       "      <td>9453.62</td>\n",
       "      <td>9417.50</td>\n",
       "      <td>1869.0</td>\n",
       "    </tr>\n",
       "    <tr>\n",
       "      <th>2022-01-01 12:00:00+00:00</th>\n",
       "      <td>20710.33</td>\n",
       "      <td>9498.25</td>\n",
       "      <td>9353.08</td>\n",
       "      <td>1859.0</td>\n",
       "    </tr>\n",
       "    <tr>\n",
       "      <th>...</th>\n",
       "      <td>...</td>\n",
       "      <td>...</td>\n",
       "      <td>...</td>\n",
       "      <td>...</td>\n",
       "    </tr>\n",
       "    <tr>\n",
       "      <th>2023-01-01 03:00:00+00:00</th>\n",
       "      <td>25297.50</td>\n",
       "      <td>11625.42</td>\n",
       "      <td>11119.08</td>\n",
       "      <td>2553.0</td>\n",
       "    </tr>\n",
       "    <tr>\n",
       "      <th>2023-01-01 04:00:00+00:00</th>\n",
       "      <td>24463.21</td>\n",
       "      <td>11225.39</td>\n",
       "      <td>10761.82</td>\n",
       "      <td>2476.0</td>\n",
       "    </tr>\n",
       "    <tr>\n",
       "      <th>2023-01-01 05:00:00+00:00</th>\n",
       "      <td>23822.35</td>\n",
       "      <td>10897.86</td>\n",
       "      <td>10500.49</td>\n",
       "      <td>2424.0</td>\n",
       "    </tr>\n",
       "    <tr>\n",
       "      <th>2023-01-01 06:00:00+00:00</th>\n",
       "      <td>23038.80</td>\n",
       "      <td>10464.78</td>\n",
       "      <td>10262.02</td>\n",
       "      <td>2312.0</td>\n",
       "    </tr>\n",
       "    <tr>\n",
       "      <th>2023-01-01 07:00:00+00:00</th>\n",
       "      <td>22090.16</td>\n",
       "      <td>9988.81</td>\n",
       "      <td>9902.35</td>\n",
       "      <td>2199.0</td>\n",
       "    </tr>\n",
       "  </tbody>\n",
       "</table>\n",
       "<p>8760 rows × 4 columns</p>\n",
       "</div>"
      ],
      "text/plain": [
       "                              CAISO     Zone1     Zone2   Zone3\n",
       "INTERVALSTARTTIME_GMT                                          \n",
       "2022-01-01 08:00:00+00:00  22630.73  10247.46  10307.27  2076.0\n",
       "2022-01-01 09:00:00+00:00  21765.85   9876.01   9899.84  1990.0\n",
       "2022-01-01 10:00:00+00:00  21104.63   9598.49   9587.14  1919.0\n",
       "2022-01-01 11:00:00+00:00  20740.12   9453.62   9417.50  1869.0\n",
       "2022-01-01 12:00:00+00:00  20710.33   9498.25   9353.08  1859.0\n",
       "...                             ...       ...       ...     ...\n",
       "2023-01-01 03:00:00+00:00  25297.50  11625.42  11119.08  2553.0\n",
       "2023-01-01 04:00:00+00:00  24463.21  11225.39  10761.82  2476.0\n",
       "2023-01-01 05:00:00+00:00  23822.35  10897.86  10500.49  2424.0\n",
       "2023-01-01 06:00:00+00:00  23038.80  10464.78  10262.02  2312.0\n",
       "2023-01-01 07:00:00+00:00  22090.16   9988.81   9902.35  2199.0\n",
       "\n",
       "[8760 rows x 4 columns]"
      ]
     },
     "execution_count": 10,
     "metadata": {},
     "output_type": "execute_result"
    }
   ],
   "source": [
    "train_pre"
   ]
  },
  {
   "cell_type": "code",
   "execution_count": 11,
   "id": "22886f50",
   "metadata": {},
   "outputs": [
    {
     "name": "stderr",
     "output_type": "stream",
     "text": [
      "C:\\Users\\wenmi\\AppData\\Local\\Temp\\ipykernel_18412\\3571447211.py:1: FutureWarning: 'T' is deprecated and will be removed in a future version, please use 'min' instead.\n",
      "  DAMLoad = train_pre.resample('5T').ffill()\n"
     ]
    }
   ],
   "source": [
    "DAMLoad = train_pre.resample('5T').ffill()"
   ]
  },
  {
   "cell_type": "code",
   "execution_count": 12,
   "id": "7e0a9fd5",
   "metadata": {
    "scrolled": true
   },
   "outputs": [
    {
     "data": {
      "text/plain": [
       "51317.22"
      ]
     },
     "execution_count": 12,
     "metadata": {},
     "output_type": "execute_result"
    }
   ],
   "source": [
    "train_pre['CAISO'].max()"
   ]
  },
  {
   "cell_type": "markdown",
   "id": "18d40735",
   "metadata": {},
   "source": [
    "### K-Means training"
   ]
  },
  {
   "cell_type": "code",
   "execution_count": 13,
   "id": "2ac9f899",
   "metadata": {
    "scrolled": true
   },
   "outputs": [
    {
     "name": "stderr",
     "output_type": "stream",
     "text": [
      "C:\\Users\\wenmi\\.conda\\envs\\STESTS\\Lib\\site-packages\\sklearn\\cluster\\_kmeans.py:1446: UserWarning: KMeans is known to have a memory leak on Windows with MKL, when there are less chunks than available threads. You can avoid it by setting the environment variable OMP_NUM_THREADS=2.\n",
      "  warnings.warn(\n"
     ]
    }
   ],
   "source": [
    "reshaped_data = train_pre[['CAISO', 'Zone1', 'Zone2', 'Zone3']].values.reshape(-1, 24*4)/max(train_pre['CAISO'])  # reshapes data to have 365 data points each of 24*4=96 features\n",
    "\n",
    "kmeans = KMeans(n_clusters= 8, random_state=0).fit(reshaped_data)\n",
    "\n",
    "labels = kmeans.labels_  # the label of the cluster each data point belongs to"
   ]
  },
  {
   "cell_type": "code",
   "execution_count": 14,
   "id": "14e8734b",
   "metadata": {},
   "outputs": [
    {
     "data": {
      "image/png": "[encoded data removed]",
      "text/plain": [
       "<Figure size 640x480 with 1 Axes>"
      ]
     },
     "metadata": {},
     "output_type": "display_data"
    }
   ],
   "source": [
    "# Generate some data\n",
    "x1 = np.linspace(0, 365, 365)\n",
    "y1 = labels\n",
    "\n",
    "# Create a figure and axis\n",
    "fig, ax = plt.subplots()\n",
    "\n",
    "# Plot the data\n",
    "ax.plot(x1, y1)\n",
    "\n",
    "# Show the plot\n",
    "plt.show()"
   ]
  },
  {
   "cell_type": "markdown",
   "id": "8c61d335",
   "metadata": {},
   "source": [
    "### Clear real-time load"
   ]
  },
  {
   "cell_type": "code",
   "execution_count": 15,
   "id": "93f7b893",
   "metadata": {},
   "outputs": [],
   "source": [
    "# Specify the directory you want to use\n",
    "directory = './RTD/Load'\n",
    "\n",
    "dataframes = []  # list to store dataframes\n",
    "for filename in os.listdir(directory):\n",
    "    if filename.endswith(\".csv\"):\n",
    "        df = pd.read_csv(os.path.join(directory, filename))\n",
    "        dataframes.append(df)\n",
    "combined_df = pd.concat(dataframes, ignore_index=True)"
   ]
  },
  {
   "cell_type": "code",
   "execution_count": 16,
   "id": "de9d76b6",
   "metadata": {},
   "outputs": [],
   "source": [
    "combined_df = combined_df.sort_values(by=['INTERVALSTARTTIME_GMT', 'TAC_AREA_NAME']).reset_index(drop=True)"
   ]
  },
  {
   "cell_type": "code",
   "execution_count": 17,
   "id": "9deb97e7",
   "metadata": {},
   "outputs": [
    {
     "data": {
      "text/html": [
       "<div>\n",
       "<style scoped>\n",
       "    .dataframe tbody tr th:only-of-type {\n",
       "        vertical-align: middle;\n",
       "    }\n",
       "\n",
       "    .dataframe tbody tr th {\n",
       "        vertical-align: top;\n",
       "    }\n",
       "\n",
       "    .dataframe thead th {\n",
       "        text-align: right;\n",
       "    }\n",
       "</style>\n",
       "<table border=\"1\" class=\"dataframe\">\n",
       "  <thead>\n",
       "    <tr style=\"text-align: right;\">\n",
       "      <th></th>\n",
       "      <th>INTERVALSTARTTIME_GMT</th>\n",
       "      <th>INTERVALENDTIME_GMT</th>\n",
       "      <th>LOAD_TYPE</th>\n",
       "      <th>OPR_DT</th>\n",
       "      <th>OPR_HR</th>\n",
       "      <th>OPR_INTERVAL</th>\n",
       "      <th>MARKET_RUN_ID</th>\n",
       "      <th>TAC_AREA_NAME</th>\n",
       "      <th>LABEL</th>\n",
       "      <th>XML_DATA_ITEM</th>\n",
       "      <th>POS</th>\n",
       "      <th>MW</th>\n",
       "      <th>EXECUTION_TYPE</th>\n",
       "      <th>GROUP</th>\n",
       "    </tr>\n",
       "  </thead>\n",
       "  <tbody>\n",
       "    <tr>\n",
       "      <th>0</th>\n",
       "      <td>2021-12-31T08:00:00-00:00</td>\n",
       "      <td>2021-12-31T08:05:00-00:00</td>\n",
       "      <td>0</td>\n",
       "      <td>2021-12-31</td>\n",
       "      <td>1</td>\n",
       "      <td>1</td>\n",
       "      <td>RTM</td>\n",
       "      <td>AZPS</td>\n",
       "      <td>RTM 5Min Load Forecast</td>\n",
       "      <td>SYS_FCST_5MIN_MW</td>\n",
       "      <td>5.8</td>\n",
       "      <td>2858.05</td>\n",
       "      <td>RTD</td>\n",
       "      <td>1</td>\n",
       "    </tr>\n",
       "    <tr>\n",
       "      <th>1</th>\n",
       "      <td>2021-12-31T08:00:00-00:00</td>\n",
       "      <td>2021-12-31T08:05:00-00:00</td>\n",
       "      <td>0</td>\n",
       "      <td>2021-12-31</td>\n",
       "      <td>1</td>\n",
       "      <td>1</td>\n",
       "      <td>RTM</td>\n",
       "      <td>BANC</td>\n",
       "      <td>RTM 5Min Load Forecast</td>\n",
       "      <td>SYS_FCST_5MIN_MW</td>\n",
       "      <td>5.8</td>\n",
       "      <td>1670.37</td>\n",
       "      <td>RTD</td>\n",
       "      <td>2</td>\n",
       "    </tr>\n",
       "    <tr>\n",
       "      <th>2</th>\n",
       "      <td>2021-12-31T08:00:00-00:00</td>\n",
       "      <td>2021-12-31T08:05:00-00:00</td>\n",
       "      <td>0</td>\n",
       "      <td>2021-12-31</td>\n",
       "      <td>1</td>\n",
       "      <td>1</td>\n",
       "      <td>RTM</td>\n",
       "      <td>BANCMID</td>\n",
       "      <td>RTM 5Min Load Forecast</td>\n",
       "      <td>SYS_FCST_5MIN_MW</td>\n",
       "      <td>5.8</td>\n",
       "      <td>240.14</td>\n",
       "      <td>RTD</td>\n",
       "      <td>3</td>\n",
       "    </tr>\n",
       "    <tr>\n",
       "      <th>3</th>\n",
       "      <td>2021-12-31T08:00:00-00:00</td>\n",
       "      <td>2021-12-31T08:05:00-00:00</td>\n",
       "      <td>0</td>\n",
       "      <td>2021-12-31</td>\n",
       "      <td>1</td>\n",
       "      <td>1</td>\n",
       "      <td>RTM</td>\n",
       "      <td>BANCRDNG</td>\n",
       "      <td>RTM 5Min Load Forecast</td>\n",
       "      <td>SYS_FCST_5MIN_MW</td>\n",
       "      <td>5.8</td>\n",
       "      <td>101.72</td>\n",
       "      <td>RTD</td>\n",
       "      <td>4</td>\n",
       "    </tr>\n",
       "    <tr>\n",
       "      <th>4</th>\n",
       "      <td>2021-12-31T08:00:00-00:00</td>\n",
       "      <td>2021-12-31T08:05:00-00:00</td>\n",
       "      <td>0</td>\n",
       "      <td>2021-12-31</td>\n",
       "      <td>1</td>\n",
       "      <td>1</td>\n",
       "      <td>RTM</td>\n",
       "      <td>BANCRSVL</td>\n",
       "      <td>RTM 5Min Load Forecast</td>\n",
       "      <td>SYS_FCST_5MIN_MW</td>\n",
       "      <td>5.8</td>\n",
       "      <td>109.24</td>\n",
       "      <td>RTD</td>\n",
       "      <td>5</td>\n",
       "    </tr>\n",
       "    <tr>\n",
       "      <th>...</th>\n",
       "      <td>...</td>\n",
       "      <td>...</td>\n",
       "      <td>...</td>\n",
       "      <td>...</td>\n",
       "      <td>...</td>\n",
       "      <td>...</td>\n",
       "      <td>...</td>\n",
       "      <td>...</td>\n",
       "      <td>...</td>\n",
       "      <td>...</td>\n",
       "      <td>...</td>\n",
       "      <td>...</td>\n",
       "      <td>...</td>\n",
       "      <td>...</td>\n",
       "    </tr>\n",
       "    <tr>\n",
       "      <th>3130566</th>\n",
       "      <td>2023-01-01T07:55:00-00:00</td>\n",
       "      <td>2023-01-01T08:00:00-00:00</td>\n",
       "      <td>0</td>\n",
       "      <td>2022-12-31</td>\n",
       "      <td>24</td>\n",
       "      <td>12</td>\n",
       "      <td>RTM</td>\n",
       "      <td>SRP</td>\n",
       "      <td>RTM 5Min Load Forecast</td>\n",
       "      <td>SYS_FCST_5MIN_MW</td>\n",
       "      <td>5.8</td>\n",
       "      <td>2676.27</td>\n",
       "      <td>RTD</td>\n",
       "      <td>926</td>\n",
       "    </tr>\n",
       "    <tr>\n",
       "      <th>3130567</th>\n",
       "      <td>2023-01-01T07:55:00-00:00</td>\n",
       "      <td>2023-01-01T08:00:00-00:00</td>\n",
       "      <td>0</td>\n",
       "      <td>2022-12-31</td>\n",
       "      <td>24</td>\n",
       "      <td>12</td>\n",
       "      <td>RTM</td>\n",
       "      <td>TEPC</td>\n",
       "      <td>RTM 5Min Load Forecast</td>\n",
       "      <td>SYS_FCST_5MIN_MW</td>\n",
       "      <td>5.8</td>\n",
       "      <td>1069.41</td>\n",
       "      <td>RTD</td>\n",
       "      <td>927</td>\n",
       "    </tr>\n",
       "    <tr>\n",
       "      <th>3130568</th>\n",
       "      <td>2023-01-01T07:55:00-00:00</td>\n",
       "      <td>2023-01-01T08:00:00-00:00</td>\n",
       "      <td>0</td>\n",
       "      <td>2022-12-31</td>\n",
       "      <td>24</td>\n",
       "      <td>12</td>\n",
       "      <td>RTM</td>\n",
       "      <td>TIDC</td>\n",
       "      <td>RTM 5Min Load Forecast</td>\n",
       "      <td>SYS_FCST_5MIN_MW</td>\n",
       "      <td>5.8</td>\n",
       "      <td>240.64</td>\n",
       "      <td>RTD</td>\n",
       "      <td>928</td>\n",
       "    </tr>\n",
       "    <tr>\n",
       "      <th>3130569</th>\n",
       "      <td>2023-01-01T07:55:00-00:00</td>\n",
       "      <td>2023-01-01T08:00:00-00:00</td>\n",
       "      <td>0</td>\n",
       "      <td>2022-12-31</td>\n",
       "      <td>24</td>\n",
       "      <td>12</td>\n",
       "      <td>RTM</td>\n",
       "      <td>TPWR</td>\n",
       "      <td>RTM 5Min Load Forecast</td>\n",
       "      <td>SYS_FCST_5MIN_MW</td>\n",
       "      <td>5.8</td>\n",
       "      <td>490.33</td>\n",
       "      <td>RTD</td>\n",
       "      <td>929</td>\n",
       "    </tr>\n",
       "    <tr>\n",
       "      <th>3130570</th>\n",
       "      <td>2023-01-01T07:55:00-00:00</td>\n",
       "      <td>2023-01-01T08:00:00-00:00</td>\n",
       "      <td>0</td>\n",
       "      <td>2022-12-31</td>\n",
       "      <td>24</td>\n",
       "      <td>12</td>\n",
       "      <td>RTM</td>\n",
       "      <td>VEA-TAC</td>\n",
       "      <td>RTM 5Min Load Forecast</td>\n",
       "      <td>SYS_FCST_5MIN_MW</td>\n",
       "      <td>5.5</td>\n",
       "      <td>64.41</td>\n",
       "      <td>RTD</td>\n",
       "      <td>930</td>\n",
       "    </tr>\n",
       "  </tbody>\n",
       "</table>\n",
       "<p>3130571 rows × 14 columns</p>\n",
       "</div>"
      ],
      "text/plain": [
       "             INTERVALSTARTTIME_GMT        INTERVALENDTIME_GMT  LOAD_TYPE  \\\n",
       "0        2021-12-31T08:00:00-00:00  2021-12-31T08:05:00-00:00          0   \n",
       "1        2021-12-31T08:00:00-00:00  2021-12-31T08:05:00-00:00          0   \n",
       "2        2021-12-31T08:00:00-00:00  2021-12-31T08:05:00-00:00          0   \n",
       "3        2021-12-31T08:00:00-00:00  2021-12-31T08:05:00-00:00          0   \n",
       "4        2021-12-31T08:00:00-00:00  2021-12-31T08:05:00-00:00          0   \n",
       "...                            ...                        ...        ...   \n",
       "3130566  2023-01-01T07:55:00-00:00  2023-01-01T08:00:00-00:00          0   \n",
       "3130567  2023-01-01T07:55:00-00:00  2023-01-01T08:00:00-00:00          0   \n",
       "3130568  2023-01-01T07:55:00-00:00  2023-01-01T08:00:00-00:00          0   \n",
       "3130569  2023-01-01T07:55:00-00:00  2023-01-01T08:00:00-00:00          0   \n",
       "3130570  2023-01-01T07:55:00-00:00  2023-01-01T08:00:00-00:00          0   \n",
       "\n",
       "             OPR_DT  OPR_HR  OPR_INTERVAL MARKET_RUN_ID TAC_AREA_NAME  \\\n",
       "0        2021-12-31       1             1           RTM          AZPS   \n",
       "1        2021-12-31       1             1           RTM          BANC   \n",
       "2        2021-12-31       1             1           RTM       BANCMID   \n",
       "3        2021-12-31       1             1           RTM      BANCRDNG   \n",
       "4        2021-12-31       1             1           RTM      BANCRSVL   \n",
       "...             ...     ...           ...           ...           ...   \n",
       "3130566  2022-12-31      24            12           RTM           SRP   \n",
       "3130567  2022-12-31      24            12           RTM          TEPC   \n",
       "3130568  2022-12-31      24            12           RTM          TIDC   \n",
       "3130569  2022-12-31      24            12           RTM          TPWR   \n",
       "3130570  2022-12-31      24            12           RTM       VEA-TAC   \n",
       "\n",
       "                          LABEL     XML_DATA_ITEM  POS       MW  \\\n",
       "0        RTM 5Min Load Forecast  SYS_FCST_5MIN_MW  5.8  2858.05   \n",
       "1        RTM 5Min Load Forecast  SYS_FCST_5MIN_MW  5.8  1670.37   \n",
       "2        RTM 5Min Load Forecast  SYS_FCST_5MIN_MW  5.8   240.14   \n",
       "3        RTM 5Min Load Forecast  SYS_FCST_5MIN_MW  5.8   101.72   \n",
       "4        RTM 5Min Load Forecast  SYS_FCST_5MIN_MW  5.8   109.24   \n",
       "...                         ...               ...  ...      ...   \n",
       "3130566  RTM 5Min Load Forecast  SYS_FCST_5MIN_MW  5.8  2676.27   \n",
       "3130567  RTM 5Min Load Forecast  SYS_FCST_5MIN_MW  5.8  1069.41   \n",
       "3130568  RTM 5Min Load Forecast  SYS_FCST_5MIN_MW  5.8   240.64   \n",
       "3130569  RTM 5Min Load Forecast  SYS_FCST_5MIN_MW  5.8   490.33   \n",
       "3130570  RTM 5Min Load Forecast  SYS_FCST_5MIN_MW  5.5    64.41   \n",
       "\n",
       "        EXECUTION_TYPE  GROUP  \n",
       "0                  RTD      1  \n",
       "1                  RTD      2  \n",
       "2                  RTD      3  \n",
       "3                  RTD      4  \n",
       "4                  RTD      5  \n",
       "...                ...    ...  \n",
       "3130566            RTD    926  \n",
       "3130567            RTD    927  \n",
       "3130568            RTD    928  \n",
       "3130569            RTD    929  \n",
       "3130570            RTD    930  \n",
       "\n",
       "[3130571 rows x 14 columns]"
      ]
     },
     "execution_count": 17,
     "metadata": {},
     "output_type": "execute_result"
    }
   ],
   "source": [
    "combined_df"
   ]
  },
  {
   "cell_type": "code",
   "execution_count": 18,
   "id": "50db195f",
   "metadata": {},
   "outputs": [],
   "source": [
    "values = ['CA ISO-TAC', 'MWD-TAC', 'PGE-TAC','SCE-TAC','SDGE-TAC','VEA-TAC']\n",
    "df_selected = combined_df[combined_df['TAC_AREA_NAME'].isin(values)]\n",
    "df_selected = df_selected[df_selected['XML_DATA_ITEM']=='SYS_FCST_5MIN_MW'].reset_index(drop=True)[['INTERVALSTARTTIME_GMT', 'TAC_AREA_NAME', 'MW']]"
   ]
  },
  {
   "cell_type": "code",
   "execution_count": 19,
   "id": "8a00a88e",
   "metadata": {
    "scrolled": true
   },
   "outputs": [
    {
     "name": "stderr",
     "output_type": "stream",
     "text": [
      "C:\\Users\\wenmi\\AppData\\Local\\Temp\\ipykernel_18412\\2980505800.py:3: FutureWarning: 'T' is deprecated and will be removed in a future version, please use 'min' instead.\n",
      "  df_resampled = df_pivot.resample('5T').asfreq()\n"
     ]
    }
   ],
   "source": [
    "df_selected['INTERVALSTARTTIME_GMT'] = pd.to_datetime(df_selected['INTERVALSTARTTIME_GMT'])\n",
    "df_pivot = df_selected.pivot(index='INTERVALSTARTTIME_GMT', columns='TAC_AREA_NAME', values='MW')\n",
    "df_resampled = df_pivot.resample('5T').asfreq()\n",
    "df_interpolated = df_resampled.interpolate(method='linear')"
   ]
  },
  {
   "cell_type": "code",
   "execution_count": 20,
   "id": "2d4ef161",
   "metadata": {},
   "outputs": [],
   "source": [
    "CAISO = df_interpolated['CA ISO-TAC'][288:105397]\n",
    "Zone1 = df_interpolated['PGE-TAC'][288:105397]\n",
    "Zone2 = (df_interpolated['MWD-TAC']+df_interpolated['SCE-TAC']+df_interpolated['VEA-TAC'])[288:105397]\n",
    "Zone3 = df_interpolated['SDGE-TAC'][288:105397]\n",
    "RTDLoad = pd.concat([CAISO, Zone1, Zone2, Zone3], axis=1)\n",
    "RTDLoad.columns = ['CAISO', 'Zone1', 'Zone2', 'Zone3']\n",
    "RTDLoad['CAISO'] = RTDLoad[['Zone1', 'Zone2', 'Zone3']].sum(axis=1)\n"
   ]
  },
  {
   "cell_type": "markdown",
   "id": "59d0ac94",
   "metadata": {},
   "source": [
    "### RTD load noise"
   ]
  },
  {
   "cell_type": "code",
   "execution_count": 21,
   "id": "49353f4b",
   "metadata": {},
   "outputs": [
    {
     "data": {
      "text/plain": [
       "0.0750120335207664"
      ]
     },
     "execution_count": 21,
     "metadata": {},
     "output_type": "execute_result"
    }
   ],
   "source": [
    "RTDLoadMAE = sum((abs((RTDLoad['CAISO'].values - DAMLoad['CAISO'].values))/RTDLoad['CAISO'].values))/105109\n",
    "\n",
    "RTDLoadMAE"
   ]
  },
  {
   "cell_type": "code",
   "execution_count": 22,
   "id": "4e2d9af0",
   "metadata": {},
   "outputs": [],
   "source": [
    "RTDLoadNoise = (DAMLoad - RTDLoad)/max(DAMLoad['CAISO'])"
   ]
  },
  {
   "cell_type": "code",
   "execution_count": 23,
   "id": "86d07984",
   "metadata": {},
   "outputs": [
    {
     "data": {
      "text/plain": [
       "0.14039069146769848"
      ]
     },
     "execution_count": 23,
     "metadata": {},
     "output_type": "execute_result"
    }
   ],
   "source": [
    "RTDLoadNoise['CAISO'].max()"
   ]
  },
  {
   "cell_type": "code",
   "execution_count": 24,
   "id": "204ea62a",
   "metadata": {},
   "outputs": [],
   "source": [
    "### find closest date to each cluster centroid\n",
    "closest, _ = pairwise_distances_argmin_min(kmeans.cluster_centers_, reshaped_data)\n",
    "noise_list = []\n",
    "for i in closest:\n",
    "    selected_rows = RTDLoadNoise.iloc[288*i:288*(i+1)].values\n",
    "    noise_list.append(selected_rows)\n",
    "noise_list = np.stack(noise_list)\n",
    "# j = 0\n",
    "# for i in closest:\n",
    "#     selected_rows = RTDLoadNoise.loc[RTDLoadNoise.index.date == train_pre.index.date[24*i]]\n",
    "#     selected_rows.to_csv(f\"./noise/cluster_{j}.csv\")\n",
    "#     j=j+1"
   ]
  },
  {
   "cell_type": "code",
   "execution_count": 25,
   "id": "e16f0f34",
   "metadata": {},
   "outputs": [
    {
     "data": {
      "text/plain": [
       "(8, 288)"
      ]
     },
     "execution_count": 25,
     "metadata": {},
     "output_type": "execute_result"
    }
   ],
   "source": [
    "noise_list[:, :, 0].shape"
   ]
  },
  {
   "cell_type": "code",
   "execution_count": 26,
   "id": "137dee7d",
   "metadata": {},
   "outputs": [
    {
     "data": {
      "text/plain": [
       "-0.013322038878957157"
      ]
     },
     "execution_count": 26,
     "metadata": {},
     "output_type": "execute_result"
    }
   ],
   "source": [
    "noise_list[:, :, 0].min()"
   ]
  },
  {
   "cell_type": "markdown",
   "id": "cbb39d11",
   "metadata": {},
   "source": [
    "### ADS day-ahead load prediction"
   ]
  },
  {
   "cell_type": "code",
   "execution_count": 36,
   "id": "fd18ee3e",
   "metadata": {},
   "outputs": [],
   "source": [
    "ADSLoad = pd.read_csv(\"./Processed Data/2022/Load.csv\")[['1','2','3']]\n",
    "ADSLoad['CAISO'] = ADSLoad[['1', '2', '3']].sum(axis=1)\n",
    "ADSLoad = ADSLoad[['CAISO', '1', '2', '3']]\n",
    "reshaped_ADSLoad = ADSLoad.values.reshape(-1, 24*4)/max(ADSLoad['CAISO'])  # reshapes data to have 365 data points each of 24*4=96 features"
   ]
  },
  {
   "cell_type": "code",
   "execution_count": 37,
   "id": "331a20e2",
   "metadata": {},
   "outputs": [
    {
     "data": {
      "text/plain": [
       "1.2262549101451716"
      ]
     },
     "execution_count": 37,
     "metadata": {},
     "output_type": "execute_result"
    }
   ],
   "source": [
    "ADSLoad['CAISO'].max()/train_pre['CAISO'].max()"
   ]
  },
  {
   "cell_type": "code",
   "execution_count": 38,
   "id": "7106fe87-12fe-486c-ae6c-5edeb6a3757e",
   "metadata": {},
   "outputs": [
    {
     "data": {
      "text/plain": [
       "1.4165691671861582"
      ]
     },
     "execution_count": 38,
     "metadata": {},
     "output_type": "execute_result"
    }
   ],
   "source": [
    "ADSLoad['CAISO'].mean()/train_pre['CAISO'].mean()"
   ]
  },
  {
   "cell_type": "code",
   "execution_count": 39,
   "id": "371dbb23",
   "metadata": {},
   "outputs": [],
   "source": [
    "ADSLoad_C = pd.read_csv(\"./Processed Data/2022/Load.csv\")"
   ]
  },
  {
   "cell_type": "code",
   "execution_count": 40,
   "id": "f795f242",
   "metadata": {},
   "outputs": [],
   "source": [
    "ADSLoad_C = ADSLoad_C.iloc[:,1:8]/(ADSLoad['CAISO'].max()/train_pre['CAISO'].max())\n",
    "ADSLoad_C.to_csv('Processed Data/2022/Load_C.csv')"
   ]
  },
  {
   "cell_type": "code",
   "execution_count": 41,
   "id": "fcf19d14",
   "metadata": {},
   "outputs": [
    {
     "data": {
      "text/html": [
       "<div>\n",
       "<style scoped>\n",
       "    .dataframe tbody tr th:only-of-type {\n",
       "        vertical-align: middle;\n",
       "    }\n",
       "\n",
       "    .dataframe tbody tr th {\n",
       "        vertical-align: top;\n",
       "    }\n",
       "\n",
       "    .dataframe thead th {\n",
       "        text-align: right;\n",
       "    }\n",
       "</style>\n",
       "<table border=\"1\" class=\"dataframe\">\n",
       "  <thead>\n",
       "    <tr style=\"text-align: right;\">\n",
       "      <th></th>\n",
       "      <th>1</th>\n",
       "      <th>2</th>\n",
       "      <th>3</th>\n",
       "      <th>4</th>\n",
       "      <th>5</th>\n",
       "      <th>6</th>\n",
       "      <th>7</th>\n",
       "    </tr>\n",
       "  </thead>\n",
       "  <tbody>\n",
       "    <tr>\n",
       "      <th>0</th>\n",
       "      <td>10560.134677</td>\n",
       "      <td>11487.856141</td>\n",
       "      <td>1603.255558</td>\n",
       "      <td>18480.659945</td>\n",
       "      <td>17909.816155</td>\n",
       "      <td>11461.781628</td>\n",
       "      <td>1509.474078</td>\n",
       "    </tr>\n",
       "    <tr>\n",
       "      <th>1</th>\n",
       "      <td>9764.093828</td>\n",
       "      <td>10636.344770</td>\n",
       "      <td>1484.193853</td>\n",
       "      <td>17656.198414</td>\n",
       "      <td>17459.665052</td>\n",
       "      <td>11169.835804</td>\n",
       "      <td>1447.496752</td>\n",
       "    </tr>\n",
       "    <tr>\n",
       "      <th>2</th>\n",
       "      <td>9174.450522</td>\n",
       "      <td>10130.918863</td>\n",
       "      <td>1350.453308</td>\n",
       "      <td>17299.013300</td>\n",
       "      <td>17400.134200</td>\n",
       "      <td>11037.726241</td>\n",
       "      <td>1414.877107</td>\n",
       "    </tr>\n",
       "    <tr>\n",
       "      <th>3</th>\n",
       "      <td>8817.452970</td>\n",
       "      <td>9767.682805</td>\n",
       "      <td>1240.362006</td>\n",
       "      <td>17174.243158</td>\n",
       "      <td>17454.772106</td>\n",
       "      <td>11066.268431</td>\n",
       "      <td>1385.519427</td>\n",
       "    </tr>\n",
       "    <tr>\n",
       "      <th>4</th>\n",
       "      <td>8744.054691</td>\n",
       "      <td>9627.255232</td>\n",
       "      <td>1204.480396</td>\n",
       "      <td>17429.491881</td>\n",
       "      <td>18157.725458</td>\n",
       "      <td>11302.760858</td>\n",
       "      <td>1377.364515</td>\n",
       "    </tr>\n",
       "    <tr>\n",
       "      <th>...</th>\n",
       "      <td>...</td>\n",
       "      <td>...</td>\n",
       "      <td>...</td>\n",
       "      <td>...</td>\n",
       "      <td>...</td>\n",
       "      <td>...</td>\n",
       "      <td>...</td>\n",
       "    </tr>\n",
       "    <tr>\n",
       "      <th>8779</th>\n",
       "      <td>15243.043551</td>\n",
       "      <td>16165.113661</td>\n",
       "      <td>2783.271220</td>\n",
       "      <td>21563.216409</td>\n",
       "      <td>23036.808877</td>\n",
       "      <td>15140.631729</td>\n",
       "      <td>1716.608825</td>\n",
       "    </tr>\n",
       "    <tr>\n",
       "      <th>8780</th>\n",
       "      <td>14946.561966</td>\n",
       "      <td>15979.703598</td>\n",
       "      <td>2733.526261</td>\n",
       "      <td>20970.354359</td>\n",
       "      <td>22496.138259</td>\n",
       "      <td>15200.162581</td>\n",
       "      <td>1699.483511</td>\n",
       "    </tr>\n",
       "    <tr>\n",
       "      <th>8781</th>\n",
       "      <td>14523.675178</td>\n",
       "      <td>15736.467059</td>\n",
       "      <td>2611.202592</td>\n",
       "      <td>20326.116368</td>\n",
       "      <td>21411.535059</td>\n",
       "      <td>15010.153148</td>\n",
       "      <td>1649.738552</td>\n",
       "    </tr>\n",
       "    <tr>\n",
       "      <th>8782</th>\n",
       "      <td>13795.956175</td>\n",
       "      <td>15126.602019</td>\n",
       "      <td>2457.074769</td>\n",
       "      <td>19408.688849</td>\n",
       "      <td>20483.506155</td>\n",
       "      <td>14484.161371</td>\n",
       "      <td>1578.790824</td>\n",
       "    </tr>\n",
       "    <tr>\n",
       "      <th>8783</th>\n",
       "      <td>12677.081145</td>\n",
       "      <td>14207.535363</td>\n",
       "      <td>2207.534484</td>\n",
       "      <td>18260.477340</td>\n",
       "      <td>19657.413643</td>\n",
       "      <td>13850.524764</td>\n",
       "      <td>1489.086800</td>\n",
       "    </tr>\n",
       "  </tbody>\n",
       "</table>\n",
       "<p>8784 rows × 7 columns</p>\n",
       "</div>"
      ],
      "text/plain": [
       "                 1             2            3             4             5  \\\n",
       "0     10560.134677  11487.856141  1603.255558  18480.659945  17909.816155   \n",
       "1      9764.093828  10636.344770  1484.193853  17656.198414  17459.665052   \n",
       "2      9174.450522  10130.918863  1350.453308  17299.013300  17400.134200   \n",
       "3      8817.452970   9767.682805  1240.362006  17174.243158  17454.772106   \n",
       "4      8744.054691   9627.255232  1204.480396  17429.491881  18157.725458   \n",
       "...            ...           ...          ...           ...           ...   \n",
       "8779  15243.043551  16165.113661  2783.271220  21563.216409  23036.808877   \n",
       "8780  14946.561966  15979.703598  2733.526261  20970.354359  22496.138259   \n",
       "8781  14523.675178  15736.467059  2611.202592  20326.116368  21411.535059   \n",
       "8782  13795.956175  15126.602019  2457.074769  19408.688849  20483.506155   \n",
       "8783  12677.081145  14207.535363  2207.534484  18260.477340  19657.413643   \n",
       "\n",
       "                 6            7  \n",
       "0     11461.781628  1509.474078  \n",
       "1     11169.835804  1447.496752  \n",
       "2     11037.726241  1414.877107  \n",
       "3     11066.268431  1385.519427  \n",
       "4     11302.760858  1377.364515  \n",
       "...            ...          ...  \n",
       "8779  15140.631729  1716.608825  \n",
       "8780  15200.162581  1699.483511  \n",
       "8781  15010.153148  1649.738552  \n",
       "8782  14484.161371  1578.790824  \n",
       "8783  13850.524764  1489.086800  \n",
       "\n",
       "[8784 rows x 7 columns]"
      ]
     },
     "execution_count": 41,
     "metadata": {},
     "output_type": "execute_result"
    }
   ],
   "source": [
    "ADSLoad_C"
   ]
  },
  {
   "cell_type": "code",
   "execution_count": 42,
   "id": "fc77a796",
   "metadata": {},
   "outputs": [
    {
     "name": "stderr",
     "output_type": "stream",
     "text": [
      "C:\\Users\\wenmi\\AppData\\Local\\Temp\\ipykernel_18412\\1359669237.py:2: SettingWithCopyWarning: \n",
      "A value is trying to be set on a copy of a slice from a DataFrame.\n",
      "Try using .loc[row_indexer,col_indexer] = value instead\n",
      "\n",
      "See the caveats in the documentation: https://pandas.pydata.org/pandas-docs/stable/user_guide/indexing.html#returning-a-view-versus-a-copy\n",
      "  ADSLoadC['CAISO'] = ADSLoadC[['1', '2', '3']].sum(axis=1)\n"
     ]
    }
   ],
   "source": [
    "ADSLoadC = ADSLoad_C[['1','2','3']]\n",
    "ADSLoadC['CAISO'] = ADSLoadC[['1', '2', '3']].sum(axis=1)\n",
    "ADSLoadC = ADSLoadC[['CAISO', '1', '2', '3']]"
   ]
  },
  {
   "cell_type": "code",
   "execution_count": 43,
   "id": "75394bf9",
   "metadata": {},
   "outputs": [
    {
     "data": {
      "text/plain": [
       "array([[0.46088324, 0.2057815 , 0.22385967, ..., 0.22390465, 0.24455603,\n",
       "        0.03650204],\n",
       "       [0.45385911, 0.20068848, 0.22286616, ..., 0.22230719, 0.2421857 ,\n",
       "        0.03774155],\n",
       "       [0.45247412, 0.20139492, 0.21880421, ..., 0.22754926, 0.22025985,\n",
       "        0.03550089],\n",
       "       ...,\n",
       "       [0.442139  , 0.19612003, 0.21234556, ..., 0.23688625, 0.26010888,\n",
       "        0.04060196],\n",
       "       [0.48440974, 0.21187809, 0.23812725, ..., 0.24415025, 0.26999463,\n",
       "        0.04066553],\n",
       "       [0.49644231, 0.21766192, 0.24458257, ..., 0.24703367, 0.27685707,\n",
       "        0.04301742]])"
      ]
     },
     "execution_count": 43,
     "metadata": {},
     "output_type": "execute_result"
    }
   ],
   "source": [
    "reshaped_ADSLoad"
   ]
  },
  {
   "cell_type": "code",
   "execution_count": 44,
   "id": "d818f7d4",
   "metadata": {
    "scrolled": true
   },
   "outputs": [
    {
     "data": {
      "text/plain": [
       "array([2, 2, 5, 5, 3, 3, 3, 2, 2, 2, 5, 2, 2, 2, 2, 2, 4, 4, 3, 3, 3, 3,\n",
       "       3, 4, 4, 3, 3, 3, 2, 2, 5, 5, 2, 2, 2, 2, 2, 5, 6, 2, 2, 2, 2, 2,\n",
       "       4, 6, 2, 3, 3, 3, 3, 4, 4, 2, 2, 2, 2, 2, 4, 4, 2, 2, 2, 2, 2, 5,\n",
       "       6, 2, 2, 2, 2, 2, 4, 4, 2, 2, 2, 2, 2, 4, 4, 2, 2, 2, 2, 2, 5, 6,\n",
       "       2, 2, 2, 2, 2, 4, 4, 3, 3, 3, 2, 2, 2, 4, 2, 2, 2, 2, 2, 2, 5, 3,\n",
       "       3, 3, 3, 2, 4, 4, 2, 2, 2, 2, 3, 3, 2, 3, 0, 0, 0, 3, 4, 4, 2, 2,\n",
       "       3, 3, 2, 4, 5, 2, 2, 3, 3, 2, 4, 5, 2, 0, 3, 3, 3, 3, 0, 0, 0, 0,\n",
       "       0, 0, 3, 3, 0, 7, 7, 7, 0, 3, 2, 0, 0, 0, 0, 7, 0, 0, 0, 0, 0, 0,\n",
       "       0, 0, 3, 0, 0, 2, 0, 7, 7, 0, 7, 7, 7, 7, 7, 0, 0, 7, 7, 7, 7, 7,\n",
       "       0, 0, 7, 7, 7, 7, 7, 0, 0, 7, 7, 7, 7, 7, 7, 0, 7, 7, 7, 7, 7, 7,\n",
       "       0, 7, 7, 7, 7, 7, 7, 0, 7, 0, 0, 0, 0, 3, 3, 0, 0, 0, 0, 0, 0, 0,\n",
       "       0, 7, 7, 7, 7, 7, 7, 7, 7, 7, 7, 7, 0, 3, 0, 0, 0, 7, 7, 0, 3, 0,\n",
       "       0, 7, 7, 0, 3, 3, 0, 0, 0, 0, 3, 2, 2, 3, 3, 3, 3, 3, 2, 5, 3, 3,\n",
       "       3, 3, 3, 2, 2, 3, 3, 3, 3, 3, 2, 2, 3, 3, 3, 3, 3, 2, 2, 3, 3, 3,\n",
       "       3, 2, 4, 4, 2, 2, 3, 3, 2, 2, 4, 2, 2, 2, 4, 5, 5, 5, 2, 2, 2, 2,\n",
       "       2, 2, 2, 3, 3, 0, 0, 3, 2, 2, 3, 3, 3, 3, 3, 2, 2, 3, 3, 3, 3, 3,\n",
       "       2, 4, 2, 4, 2, 3, 3, 2, 4, 2, 4, 2, 3, 3])"
      ]
     },
     "execution_count": 44,
     "metadata": {},
     "output_type": "execute_result"
    }
   ],
   "source": [
    "predictions = kmeans.predict(reshaped_ADSLoad)\n",
    "predictions"
   ]
  },
  {
   "cell_type": "code",
   "execution_count": 45,
   "id": "0c394323",
   "metadata": {},
   "outputs": [
    {
     "data": {
      "image/png": "[encoded data removed]",
      "text/plain": [
       "<Figure size 640x480 with 1 Axes>"
      ]
     },
     "metadata": {},
     "output_type": "display_data"
    }
   ],
   "source": [
    "# Generate some data\n",
    "x2 = np.linspace(0, 366, 366)\n",
    "y2 = predictions\n",
    "\n",
    "# Create a figure and axis\n",
    "fig, ax = plt.subplots()\n",
    "\n",
    "# Plot the data\n",
    "ax.plot(x1, y1)\n",
    "\n",
    "# Plot the data\n",
    "ax.plot(x2, y2)\n",
    "\n",
    "# Show the plot\n",
    "plt.show()"
   ]
  },
  {
   "cell_type": "markdown",
   "id": "09bc4ab2",
   "metadata": {},
   "source": [
    "### Apply noise to ADS load base on prediciton"
   ]
  },
  {
   "cell_type": "code",
   "execution_count": 46,
   "id": "98e23b1c",
   "metadata": {},
   "outputs": [
    {
     "data": {
      "text/plain": [
       "35579.44421083788"
      ]
     },
     "execution_count": 46,
     "metadata": {},
     "output_type": "execute_result"
    }
   ],
   "source": [
    "ADSLoad['CAISO'].mean()"
   ]
  },
  {
   "cell_type": "code",
   "execution_count": 47,
   "id": "740aa325",
   "metadata": {},
   "outputs": [
    {
     "data": {
      "text/plain": [
       "29014.721096305962"
      ]
     },
     "execution_count": 47,
     "metadata": {},
     "output_type": "execute_result"
    }
   ],
   "source": [
    "ADSLoadC['CAISO'].mean()"
   ]
  },
  {
   "cell_type": "code",
   "execution_count": 48,
   "id": "b6b1f341",
   "metadata": {},
   "outputs": [
    {
     "data": {
      "text/plain": [
       "1.2262549101451714"
      ]
     },
     "execution_count": 48,
     "metadata": {},
     "output_type": "execute_result"
    }
   ],
   "source": [
    "ADSLoad['CAISO'].mean()/ADSLoadC['CAISO'].mean()"
   ]
  },
  {
   "cell_type": "code",
   "execution_count": 49,
   "id": "1fdb0fe6",
   "metadata": {},
   "outputs": [
    {
     "data": {
      "text/plain": [
       "1.2262549101451716"
      ]
     },
     "execution_count": 49,
     "metadata": {},
     "output_type": "execute_result"
    }
   ],
   "source": [
    "ADSLoad['CAISO'].max()/ADSLoadC['CAISO'].max()"
   ]
  },
  {
   "cell_type": "code",
   "execution_count": 50,
   "id": "b2d556b8",
   "metadata": {},
   "outputs": [
    {
     "data": {
      "text/plain": [
       "62927.993"
      ]
     },
     "execution_count": 50,
     "metadata": {},
     "output_type": "execute_result"
    }
   ],
   "source": [
    "max(ADSLoad['CAISO'])"
   ]
  },
  {
   "cell_type": "code",
   "execution_count": 51,
   "id": "2b0f32cf",
   "metadata": {},
   "outputs": [
    {
     "data": {
      "text/plain": [
       "array([[1115.6835049 ,  586.50546097,  646.40801333, -117.22996941],\n",
       "       [1194.50717052,  618.89085315,  680.80446356, -105.18814619],\n",
       "       [1266.4024959 ,  657.89802184,  715.59331536, -107.0888413 ],\n",
       "       ...,\n",
       "       [1624.7509683 ,  749.41342579,  857.66720925,   17.67033326],\n",
       "       [1724.87468171,  802.11786182,  899.51928934,   23.23753055],\n",
       "       [1795.45791434,  836.07286029,  934.90900604,   24.47604801]])"
      ]
     },
     "execution_count": 51,
     "metadata": {},
     "output_type": "execute_result"
    }
   ],
   "source": [
    "noise_list_ADS = max(ADSLoad['CAISO'])*noise_list\n",
    "noise_list_ADS[1]"
   ]
  },
  {
   "cell_type": "code",
   "execution_count": 52,
   "id": "1f5fb5e1",
   "metadata": {},
   "outputs": [
    {
     "data": {
      "text/plain": [
       "array([[ 909.83,  478.29,  527.14,  -95.6 ],\n",
       "       [ 974.11,  504.7 ,  555.19,  -85.78],\n",
       "       [1032.74,  536.51,  583.56,  -87.33],\n",
       "       ...,\n",
       "       [1324.97,  611.14,  699.42,   14.41],\n",
       "       [1406.62,  654.12,  733.55,   18.95],\n",
       "       [1464.18,  681.81,  762.41,   19.96]])"
      ]
     },
     "execution_count": 52,
     "metadata": {},
     "output_type": "execute_result"
    }
   ],
   "source": [
    "noise_list_ADSC = max(ADSLoadC['CAISO'])*noise_list\n",
    "noise_list_ADSC[1]"
   ]
  },
  {
   "cell_type": "code",
   "execution_count": 53,
   "id": "4929b319",
   "metadata": {},
   "outputs": [],
   "source": [
    "ADSLoad_repeated = ADSLoad.loc[ADSLoad.index.repeat(12)].reset_index(drop=True)"
   ]
  },
  {
   "cell_type": "code",
   "execution_count": 54,
   "id": "8e297ab3",
   "metadata": {},
   "outputs": [],
   "source": [
    "ADSLoadC_repeated = ADSLoadC.loc[ADSLoad.index.repeat(12)].reset_index(drop=True)"
   ]
  },
  {
   "cell_type": "code",
   "execution_count": 55,
   "id": "bbd62987",
   "metadata": {
    "scrolled": true
   },
   "outputs": [
    {
     "data": {
      "text/plain": [
       "array([[23276.09637631, 10327.34467744, 11278.11614105,  1670.63555782],\n",
       "       [23187.55637631, 10290.15467744, 11232.46614105,  1664.93555782],\n",
       "       [23098.23637631, 10251.60467744, 11189.55614105,  1657.07555782],\n",
       "       ...,\n",
       "       [24338.31257861, 10714.43398094, 11756.63547645,  1867.24312122],\n",
       "       [24226.68257861, 10667.03398094, 11701.53547645,  1858.11312122],\n",
       "       [24125.11257861, 10624.14398094, 11650.34547645,  1850.62312122]])"
      ]
     },
     "execution_count": 55,
     "metadata": {},
     "output_type": "execute_result"
    }
   ],
   "source": [
    "-noise_list_ADSC[predictions[0]]+ADSLoadC_repeated[0:288].values"
   ]
  },
  {
   "cell_type": "code",
   "execution_count": 56,
   "id": "14803b85",
   "metadata": {},
   "outputs": [],
   "source": [
    "ADSRTDLoad = np.empty((0, 4))\n",
    "for i in range(len(reshaped_ADSLoad)):\n",
    "    adjust = -noise_list_ADS[predictions[i]]+ADSLoad_repeated[i*288:i*288+288].values\n",
    "    ADSRTDLoad = np.vstack((ADSRTDLoad, adjust))"
   ]
  },
  {
   "cell_type": "code",
   "execution_count": 57,
   "id": "ea336bc3",
   "metadata": {},
   "outputs": [],
   "source": [
    "ADSRTDLoadC = np.empty((0, 4))\n",
    "for i in range(len(reshaped_ADSLoad)):\n",
    "    adjustC = -noise_list_ADSC[predictions[i]]+ADSLoadC_repeated[i*288:i*288+288].values\n",
    "    ADSRTDLoadC = np.vstack((ADSRTDLoadC, adjustC))"
   ]
  },
  {
   "cell_type": "code",
   "execution_count": 58,
   "id": "89ec370e",
   "metadata": {},
   "outputs": [
    {
     "data": {
      "text/plain": [
       "105408"
      ]
     },
     "execution_count": 58,
     "metadata": {},
     "output_type": "execute_result"
    }
   ],
   "source": [
    "len(ADSRTDLoadC)"
   ]
  },
  {
   "cell_type": "code",
   "execution_count": 60,
   "id": "0502b39d",
   "metadata": {},
   "outputs": [
    {
     "data": {
      "text/plain": [
       "array([[22662.        , 21962.        , 14055.066     ,  1851.        ],\n",
       "       [22577.75      , 21916.        , 14025.23266667,  1844.66666667],\n",
       "       [22493.5       , 21870.        , 13995.39933333,  1838.33333333],\n",
       "       ...,\n",
       "       [22392.        , 24105.        , 16984.274     ,  1826.        ],\n",
       "       [22392.        , 24105.        , 16984.274     ,  1826.        ],\n",
       "       [22392.        , 24105.        , 16984.274     ,  1826.        ]])"
      ]
     },
     "execution_count": 60,
     "metadata": {},
     "output_type": "execute_result"
    }
   ],
   "source": [
    "ADSLoad_rest = pd.read_csv(\"./Processed Data/2022/Load.csv\")[['4','5','6','7']]\n",
    "new_index = np.arange(ADSLoad_rest.index.min(), ADSLoad_rest.index.max() + 1, 1/12)\n",
    "ADSLoad_rest_reindexed = ADSLoad_rest.reindex(new_index)\n",
    "ADSLoad_rest_interpolated = ADSLoad_rest_reindexed.interpolate(method='linear')\n",
    "ADSLoad_rest_interpolated.values"
   ]
  },
  {
   "cell_type": "code",
   "execution_count": 61,
   "id": "f33560da",
   "metadata": {},
   "outputs": [
    {
     "data": {
      "text/plain": [
       "array([[18480.65994477, 17909.81615511, 11461.78162772,  1509.47407809],\n",
       "       [18411.95481723, 17872.30356322, 11437.45280906,  1504.30930095],\n",
       "       [18343.24968969, 17834.79097132, 11413.12399041,  1499.14452381],\n",
       "       ...,\n",
       "       [18260.47734019, 19657.41364261, 13850.52476405,  1489.08679989],\n",
       "       [18260.47734019, 19657.41364261, 13850.52476405,  1489.08679989],\n",
       "       [18260.47734019, 19657.41364261, 13850.52476405,  1489.08679989]])"
      ]
     },
     "execution_count": 61,
     "metadata": {},
     "output_type": "execute_result"
    }
   ],
   "source": [
    "ADSLoadC_rest = pd.read_csv(\"./Processed Data/2022/Load_C.csv\")[['4','5','6','7']]\n",
    "new_index = np.arange(ADSLoadC_rest.index.min(), ADSLoadC_rest.index.max() + 1, 1/12)\n",
    "ADSLoadC_rest_reindexed = ADSLoadC_rest.reindex(new_index)\n",
    "ADSLoadC_rest_interpolated = ADSLoadC_rest_reindexed.interpolate(method='linear')\n",
    "ADSLoadC_rest_interpolated.values"
   ]
  },
  {
   "cell_type": "code",
   "execution_count": 62,
   "id": "3b00a5ae",
   "metadata": {},
   "outputs": [],
   "source": [
    "ADSLoad_RTD = np.hstack((ADSRTDLoad, ADSLoad_rest_interpolated))\n",
    "np.savetxt(\"realtimeload_fixed.csv\", ADSLoad_RTD, delimiter=\",\")\n"
   ]
  },
  {
   "cell_type": "code",
   "execution_count": 63,
   "id": "cfcb78dc",
   "metadata": {},
   "outputs": [],
   "source": [
    "ADSLoadC_RTD = np.hstack((ADSRTDLoadC, ADSLoadC_rest_interpolated))\n",
    "np.savetxt(\"realtimeload_C_fixed.csv\", ADSLoadC_RTD, delimiter=\",\")"
   ]
  },
  {
   "cell_type": "code",
   "execution_count": 64,
   "id": "288c1c8a",
   "metadata": {},
   "outputs": [
    {
     "data": {
      "text/plain": [
       "array([[23276.09637631, 10327.34467744, 11278.11614105,  1670.63555782],\n",
       "       [23187.55637631, 10290.15467744, 11232.46614105,  1664.93555782],\n",
       "       [23098.23637631, 10251.60467744, 11189.55614105,  1657.07555782],\n",
       "       ...,\n",
       "       [27537.38099149, 11842.9911447 , 13517.72536305,  2176.66448374],\n",
       "       [27409.99099149, 11789.8111447 , 13453.55536305,  2166.62448374],\n",
       "       [27294.93099149, 11743.3011447 , 13393.48536305,  2158.14448374]])"
      ]
     },
     "execution_count": 64,
     "metadata": {},
     "output_type": "execute_result"
    }
   ],
   "source": [
    "ADSRTDLoadC"
   ]
  },
  {
   "cell_type": "code",
   "execution_count": 65,
   "id": "f6bcb830",
   "metadata": {},
   "outputs": [
    {
     "data": {
      "text/html": [
       "<div>\n",
       "<style scoped>\n",
       "    .dataframe tbody tr th:only-of-type {\n",
       "        vertical-align: middle;\n",
       "    }\n",
       "\n",
       "    .dataframe tbody tr th {\n",
       "        vertical-align: top;\n",
       "    }\n",
       "\n",
       "    .dataframe thead th {\n",
       "        text-align: right;\n",
       "    }\n",
       "</style>\n",
       "<table border=\"1\" class=\"dataframe\">\n",
       "  <thead>\n",
       "    <tr style=\"text-align: right;\">\n",
       "      <th>TAC_AREA_NAME</th>\n",
       "      <th>CA ISO-TAC</th>\n",
       "      <th>MWD-TAC</th>\n",
       "      <th>PGE-TAC</th>\n",
       "      <th>SCE-TAC</th>\n",
       "      <th>SDGE-TAC</th>\n",
       "      <th>VEA-TAC</th>\n",
       "    </tr>\n",
       "    <tr>\n",
       "      <th>INTERVALSTARTTIME_GMT</th>\n",
       "      <th></th>\n",
       "      <th></th>\n",
       "      <th></th>\n",
       "      <th></th>\n",
       "      <th></th>\n",
       "      <th></th>\n",
       "    </tr>\n",
       "  </thead>\n",
       "  <tbody>\n",
       "    <tr>\n",
       "      <th>2021-12-31 08:00:00+00:00</th>\n",
       "      <td>22062.04</td>\n",
       "      <td>212.02</td>\n",
       "      <td>9385.72</td>\n",
       "      <td>9336.17</td>\n",
       "      <td>2002.17</td>\n",
       "      <td>70.63</td>\n",
       "    </tr>\n",
       "    <tr>\n",
       "      <th>2021-12-31 08:05:00+00:00</th>\n",
       "      <td>21971.23</td>\n",
       "      <td>211.99</td>\n",
       "      <td>9347.57</td>\n",
       "      <td>9292.39</td>\n",
       "      <td>1996.91</td>\n",
       "      <td>70.80</td>\n",
       "    </tr>\n",
       "    <tr>\n",
       "      <th>2021-12-31 08:10:00+00:00</th>\n",
       "      <td>21877.07</td>\n",
       "      <td>211.80</td>\n",
       "      <td>9305.30</td>\n",
       "      <td>9250.18</td>\n",
       "      <td>1992.05</td>\n",
       "      <td>70.25</td>\n",
       "    </tr>\n",
       "    <tr>\n",
       "      <th>2021-12-31 08:15:00+00:00</th>\n",
       "      <td>21781.70</td>\n",
       "      <td>211.40</td>\n",
       "      <td>9258.01</td>\n",
       "      <td>9210.23</td>\n",
       "      <td>1987.69</td>\n",
       "      <td>70.47</td>\n",
       "    </tr>\n",
       "    <tr>\n",
       "      <th>2021-12-31 08:20:00+00:00</th>\n",
       "      <td>21672.74</td>\n",
       "      <td>210.66</td>\n",
       "      <td>9202.12</td>\n",
       "      <td>9171.41</td>\n",
       "      <td>1977.69</td>\n",
       "      <td>69.99</td>\n",
       "    </tr>\n",
       "    <tr>\n",
       "      <th>...</th>\n",
       "      <td>...</td>\n",
       "      <td>...</td>\n",
       "      <td>...</td>\n",
       "      <td>...</td>\n",
       "      <td>...</td>\n",
       "      <td>...</td>\n",
       "    </tr>\n",
       "    <tr>\n",
       "      <th>2023-01-01 07:35:00+00:00</th>\n",
       "      <td>20993.08</td>\n",
       "      <td>206.81</td>\n",
       "      <td>8771.84</td>\n",
       "      <td>8897.09</td>\n",
       "      <td>2051.90</td>\n",
       "      <td>63.99</td>\n",
       "    </tr>\n",
       "    <tr>\n",
       "      <th>2023-01-01 07:40:00+00:00</th>\n",
       "      <td>20941.46</td>\n",
       "      <td>206.81</td>\n",
       "      <td>8756.46</td>\n",
       "      <td>8867.53</td>\n",
       "      <td>2049.83</td>\n",
       "      <td>63.81</td>\n",
       "    </tr>\n",
       "    <tr>\n",
       "      <th>2023-01-01 07:45:00+00:00</th>\n",
       "      <td>20734.96</td>\n",
       "      <td>206.82</td>\n",
       "      <td>8604.44</td>\n",
       "      <td>8807.64</td>\n",
       "      <td>2054.20</td>\n",
       "      <td>63.85</td>\n",
       "    </tr>\n",
       "    <tr>\n",
       "      <th>2023-01-01 07:50:00+00:00</th>\n",
       "      <td>20673.72</td>\n",
       "      <td>206.79</td>\n",
       "      <td>8574.65</td>\n",
       "      <td>8779.28</td>\n",
       "      <td>2052.77</td>\n",
       "      <td>64.48</td>\n",
       "    </tr>\n",
       "    <tr>\n",
       "      <th>2023-01-01 07:55:00+00:00</th>\n",
       "      <td>20624.15</td>\n",
       "      <td>206.70</td>\n",
       "      <td>8558.20</td>\n",
       "      <td>8748.99</td>\n",
       "      <td>2052.95</td>\n",
       "      <td>64.41</td>\n",
       "    </tr>\n",
       "  </tbody>\n",
       "</table>\n",
       "<p>105408 rows × 6 columns</p>\n",
       "</div>"
      ],
      "text/plain": [
       "TAC_AREA_NAME              CA ISO-TAC  MWD-TAC  PGE-TAC  SCE-TAC  SDGE-TAC  \\\n",
       "INTERVALSTARTTIME_GMT                                                        \n",
       "2021-12-31 08:00:00+00:00    22062.04   212.02  9385.72  9336.17   2002.17   \n",
       "2021-12-31 08:05:00+00:00    21971.23   211.99  9347.57  9292.39   1996.91   \n",
       "2021-12-31 08:10:00+00:00    21877.07   211.80  9305.30  9250.18   1992.05   \n",
       "2021-12-31 08:15:00+00:00    21781.70   211.40  9258.01  9210.23   1987.69   \n",
       "2021-12-31 08:20:00+00:00    21672.74   210.66  9202.12  9171.41   1977.69   \n",
       "...                               ...      ...      ...      ...       ...   \n",
       "2023-01-01 07:35:00+00:00    20993.08   206.81  8771.84  8897.09   2051.90   \n",
       "2023-01-01 07:40:00+00:00    20941.46   206.81  8756.46  8867.53   2049.83   \n",
       "2023-01-01 07:45:00+00:00    20734.96   206.82  8604.44  8807.64   2054.20   \n",
       "2023-01-01 07:50:00+00:00    20673.72   206.79  8574.65  8779.28   2052.77   \n",
       "2023-01-01 07:55:00+00:00    20624.15   206.70  8558.20  8748.99   2052.95   \n",
       "\n",
       "TAC_AREA_NAME              VEA-TAC  \n",
       "INTERVALSTARTTIME_GMT               \n",
       "2021-12-31 08:00:00+00:00    70.63  \n",
       "2021-12-31 08:05:00+00:00    70.80  \n",
       "2021-12-31 08:10:00+00:00    70.25  \n",
       "2021-12-31 08:15:00+00:00    70.47  \n",
       "2021-12-31 08:20:00+00:00    69.99  \n",
       "...                            ...  \n",
       "2023-01-01 07:35:00+00:00    63.99  \n",
       "2023-01-01 07:40:00+00:00    63.81  \n",
       "2023-01-01 07:45:00+00:00    63.85  \n",
       "2023-01-01 07:50:00+00:00    64.48  \n",
       "2023-01-01 07:55:00+00:00    64.41  \n",
       "\n",
       "[105408 rows x 6 columns]"
      ]
     },
     "execution_count": 65,
     "metadata": {},
     "output_type": "execute_result"
    }
   ],
   "source": [
    "df_interpolated"
   ]
  },
  {
   "cell_type": "code",
   "execution_count": 66,
   "id": "d16d443a",
   "metadata": {},
   "outputs": [
    {
     "data": {
      "text/html": [
       "<div>\n",
       "<style scoped>\n",
       "    .dataframe tbody tr th:only-of-type {\n",
       "        vertical-align: middle;\n",
       "    }\n",
       "\n",
       "    .dataframe tbody tr th {\n",
       "        vertical-align: top;\n",
       "    }\n",
       "\n",
       "    .dataframe thead th {\n",
       "        text-align: right;\n",
       "    }\n",
       "</style>\n",
       "<table border=\"1\" class=\"dataframe\">\n",
       "  <thead>\n",
       "    <tr style=\"text-align: right;\">\n",
       "      <th></th>\n",
       "      <th>4</th>\n",
       "      <th>5</th>\n",
       "      <th>6</th>\n",
       "      <th>7</th>\n",
       "    </tr>\n",
       "  </thead>\n",
       "  <tbody>\n",
       "    <tr>\n",
       "      <th>0.000000</th>\n",
       "      <td>18480.659945</td>\n",
       "      <td>17909.816155</td>\n",
       "      <td>11461.781628</td>\n",
       "      <td>1509.474078</td>\n",
       "    </tr>\n",
       "    <tr>\n",
       "      <th>0.083333</th>\n",
       "      <td>18411.954817</td>\n",
       "      <td>17872.303563</td>\n",
       "      <td>11437.452809</td>\n",
       "      <td>1504.309301</td>\n",
       "    </tr>\n",
       "    <tr>\n",
       "      <th>0.166667</th>\n",
       "      <td>18343.249690</td>\n",
       "      <td>17834.790971</td>\n",
       "      <td>11413.123990</td>\n",
       "      <td>1499.144524</td>\n",
       "    </tr>\n",
       "    <tr>\n",
       "      <th>0.250000</th>\n",
       "      <td>18274.544562</td>\n",
       "      <td>17797.278379</td>\n",
       "      <td>11388.795172</td>\n",
       "      <td>1493.979747</td>\n",
       "    </tr>\n",
       "    <tr>\n",
       "      <th>0.333333</th>\n",
       "      <td>18205.839435</td>\n",
       "      <td>17759.765788</td>\n",
       "      <td>11364.466353</td>\n",
       "      <td>1488.814970</td>\n",
       "    </tr>\n",
       "    <tr>\n",
       "      <th>...</th>\n",
       "      <td>...</td>\n",
       "      <td>...</td>\n",
       "      <td>...</td>\n",
       "      <td>...</td>\n",
       "    </tr>\n",
       "    <tr>\n",
       "      <th>8783.583333</th>\n",
       "      <td>18260.477340</td>\n",
       "      <td>19657.413643</td>\n",
       "      <td>13850.524764</td>\n",
       "      <td>1489.086800</td>\n",
       "    </tr>\n",
       "    <tr>\n",
       "      <th>8783.666667</th>\n",
       "      <td>18260.477340</td>\n",
       "      <td>19657.413643</td>\n",
       "      <td>13850.524764</td>\n",
       "      <td>1489.086800</td>\n",
       "    </tr>\n",
       "    <tr>\n",
       "      <th>8783.750000</th>\n",
       "      <td>18260.477340</td>\n",
       "      <td>19657.413643</td>\n",
       "      <td>13850.524764</td>\n",
       "      <td>1489.086800</td>\n",
       "    </tr>\n",
       "    <tr>\n",
       "      <th>8783.833333</th>\n",
       "      <td>18260.477340</td>\n",
       "      <td>19657.413643</td>\n",
       "      <td>13850.524764</td>\n",
       "      <td>1489.086800</td>\n",
       "    </tr>\n",
       "    <tr>\n",
       "      <th>8783.916667</th>\n",
       "      <td>18260.477340</td>\n",
       "      <td>19657.413643</td>\n",
       "      <td>13850.524764</td>\n",
       "      <td>1489.086800</td>\n",
       "    </tr>\n",
       "  </tbody>\n",
       "</table>\n",
       "<p>105408 rows × 4 columns</p>\n",
       "</div>"
      ],
      "text/plain": [
       "                        4             5             6            7\n",
       "0.000000     18480.659945  17909.816155  11461.781628  1509.474078\n",
       "0.083333     18411.954817  17872.303563  11437.452809  1504.309301\n",
       "0.166667     18343.249690  17834.790971  11413.123990  1499.144524\n",
       "0.250000     18274.544562  17797.278379  11388.795172  1493.979747\n",
       "0.333333     18205.839435  17759.765788  11364.466353  1488.814970\n",
       "...                   ...           ...           ...          ...\n",
       "8783.583333  18260.477340  19657.413643  13850.524764  1489.086800\n",
       "8783.666667  18260.477340  19657.413643  13850.524764  1489.086800\n",
       "8783.750000  18260.477340  19657.413643  13850.524764  1489.086800\n",
       "8783.833333  18260.477340  19657.413643  13850.524764  1489.086800\n",
       "8783.916667  18260.477340  19657.413643  13850.524764  1489.086800\n",
       "\n",
       "[105408 rows x 4 columns]"
      ]
     },
     "execution_count": 66,
     "metadata": {},
     "output_type": "execute_result"
    }
   ],
   "source": [
    "ADSLoadC_rest_interpolated"
   ]
  }
 ],
 "metadata": {
  "kernelspec": {
   "display_name": "Python 3 (ipykernel)",
   "language": "python",
   "name": "python3"
  },
  "language_info": {
   "codemirror_mode": {
    "name": "ipython",
    "version": 3
   },
   "file_extension": ".py",
   "mimetype": "text/x-python",
   "name": "python",
   "nbconvert_exporter": "python",
   "pygments_lexer": "ipython3",
   "version": "3.12.2"
  }
 },
 "nbformat": 4,
 "nbformat_minor": 5
}
