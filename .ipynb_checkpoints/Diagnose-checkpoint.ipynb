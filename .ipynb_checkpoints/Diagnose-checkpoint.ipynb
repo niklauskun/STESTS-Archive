{
 "cells": [
  {
   "cell_type": "code",
   "execution_count": 1,
   "id": "32711b55",
   "metadata": {},
   "outputs": [],
   "source": [
    "import pandas as pd\n",
    "import numpy as np\n",
    "import matplotlib.pyplot as plt\n"
   ]
  },
  {
   "cell_type": "markdown",
   "id": "6fe38fb3",
   "metadata": {},
   "source": [
    "### Storage Parameters"
   ]
  },
  {
   "cell_type": "code",
   "execution_count": 16,
   "id": "082e37e0",
   "metadata": {},
   "outputs": [],
   "source": [
    "Ts = 1/12\n",
    "c = 20\n",
    "eta = 0.9\n",
    "### For Intelligent Storage Ratio\n",
    "case_template = 'Strategic/2022/UC25ED1_Strategic_true_ratio{}_Seg1_BAW0_MC20.0_hetefalse'\n",
    "ratios = [round(i * 0.1, 1) for i in range(10)]\n",
    "\n",
    "### For random bidding model seletction\n",
    "# case_template = 'Strategic/2022/EDH/UC25ED{}_Strategic_true_ratio1.0_Seg1_BAW0_MC20.0_1'\n",
    "# ratios = [1, 6, 13]\n",
    "\n",
    "### For Future Cases\n",
    "# case_template = 'Strategic/{}/UC25ED1_Strategic_true_ratio1.0_Seg1_BAW0_MC20.0_1'\n",
    "# ratios = [2022]\n",
    "\n",
    "# case = 'Strategic/MC20/Strategic/UC25ED1_Strategic_true_ratio0.3_Seg1_BAW0_MC20.0'\n",
    "# case = 'Strategic/UC25ED1_Strategic_true_Seg1_Load1.0_Fuel1.2_Error0.25_ratio1.0_MIP0.1_DARTDP_Hete'\n",
    "# case = 'Strategic/BidAhead/UC25ED1_Strategic_true_Seg1_Load1.0_Fuel1.2_Error0.25_ratio1.0_MIP0.1_DARTDP_BAW36'"
   ]
  },
  {
   "cell_type": "markdown",
   "id": "52c36b38",
   "metadata": {},
   "source": [
    "### Price Stats"
   ]
  },
  {
   "cell_type": "code",
   "execution_count": 17,
   "id": "d500f916",
   "metadata": {},
   "outputs": [],
   "source": [
    "# Initialize lists to hold DataFrames\n",
    "mean_prices_dfs = []\n",
    "std_prices_dfs = []"
   ]
  },
  {
   "cell_type": "code",
   "execution_count": 18,
   "id": "743caf0b",
   "metadata": {},
   "outputs": [],
   "source": [
    "# Loop over ratios from 0.0 to 1.0 (assuming increment by 0.1)\n",
    "for ratio in ratios:\n",
    "    case = case_template.format(ratio)\n",
    "    try:\n",
    "        # Try to read the CSV file for the current case\n",
    "        price = pd.read_csv('output/'+case+'/EDprice.csv', header=None)\n",
    "    except FileNotFoundError:\n",
    "        print(f\"File for case {case} not found.\")\n",
    "        continue\n",
    "\n",
    "    # Calculate stats and transpose\n",
    "    pricestats = pd.concat([price.mean()*12, (price*12).std()], axis=1).T\n",
    "\n",
    "    # Now, instead of appending Series objects, you create DataFrame slices for each and append them\n",
    "    mean_prices_dfs.append(pricestats.iloc[[0]])\n",
    "    std_prices_dfs.append(pricestats.iloc[[1]])"
   ]
  },
  {
   "cell_type": "code",
   "execution_count": 19,
   "id": "05ee5aac",
   "metadata": {},
   "outputs": [],
   "source": [
    "# Convert lists of series to DataFrames\n",
    "mean_prices_df = pd.concat(mean_prices_dfs).reset_index(drop=True)\n",
    "std_prices_df = pd.concat(std_prices_dfs).reset_index(drop=True)\n",
    "mean_prices_df.index = ratios\n",
    "std_prices_df.index = ratios"
   ]
  },
  {
   "cell_type": "code",
   "execution_count": 20,
   "id": "53494bbb",
   "metadata": {},
   "outputs": [
    {
     "data": {
      "text/html": [
       "<div>\n",
       "<style scoped>\n",
       "    .dataframe tbody tr th:only-of-type {\n",
       "        vertical-align: middle;\n",
       "    }\n",
       "\n",
       "    .dataframe tbody tr th {\n",
       "        vertical-align: top;\n",
       "    }\n",
       "\n",
       "    .dataframe thead th {\n",
       "        text-align: right;\n",
       "    }\n",
       "</style>\n",
       "<table border=\"1\" class=\"dataframe\">\n",
       "  <thead>\n",
       "    <tr style=\"text-align: right;\">\n",
       "      <th></th>\n",
       "      <th>0</th>\n",
       "      <th>1</th>\n",
       "      <th>2</th>\n",
       "      <th>3</th>\n",
       "      <th>4</th>\n",
       "      <th>5</th>\n",
       "    </tr>\n",
       "  </thead>\n",
       "  <tbody>\n",
       "    <tr>\n",
       "      <th>0.0</th>\n",
       "      <td>51.030188</td>\n",
       "      <td>73.123167</td>\n",
       "      <td>50.529619</td>\n",
       "      <td>27.823027</td>\n",
       "      <td>45.768823</td>\n",
       "      <td>51.929097</td>\n",
       "    </tr>\n",
       "    <tr>\n",
       "      <th>0.1</th>\n",
       "      <td>50.460097</td>\n",
       "      <td>70.328156</td>\n",
       "      <td>49.698226</td>\n",
       "      <td>27.587923</td>\n",
       "      <td>45.728589</td>\n",
       "      <td>51.256231</td>\n",
       "    </tr>\n",
       "    <tr>\n",
       "      <th>0.2</th>\n",
       "      <td>49.936698</td>\n",
       "      <td>67.955184</td>\n",
       "      <td>48.406070</td>\n",
       "      <td>27.268612</td>\n",
       "      <td>45.645659</td>\n",
       "      <td>49.882803</td>\n",
       "    </tr>\n",
       "    <tr>\n",
       "      <th>0.3</th>\n",
       "      <td>49.521564</td>\n",
       "      <td>65.883869</td>\n",
       "      <td>47.584370</td>\n",
       "      <td>27.018708</td>\n",
       "      <td>45.624939</td>\n",
       "      <td>49.228131</td>\n",
       "    </tr>\n",
       "    <tr>\n",
       "      <th>0.4</th>\n",
       "      <td>49.301380</td>\n",
       "      <td>64.466815</td>\n",
       "      <td>46.403689</td>\n",
       "      <td>26.884551</td>\n",
       "      <td>45.689785</td>\n",
       "      <td>48.263436</td>\n",
       "    </tr>\n",
       "    <tr>\n",
       "      <th>0.5</th>\n",
       "      <td>48.803645</td>\n",
       "      <td>62.702073</td>\n",
       "      <td>45.509986</td>\n",
       "      <td>26.536370</td>\n",
       "      <td>45.493783</td>\n",
       "      <td>47.554532</td>\n",
       "    </tr>\n",
       "    <tr>\n",
       "      <th>0.6</th>\n",
       "      <td>48.421653</td>\n",
       "      <td>61.621206</td>\n",
       "      <td>44.639841</td>\n",
       "      <td>26.289900</td>\n",
       "      <td>45.278226</td>\n",
       "      <td>46.722937</td>\n",
       "    </tr>\n",
       "    <tr>\n",
       "      <th>0.7</th>\n",
       "      <td>48.036728</td>\n",
       "      <td>60.621001</td>\n",
       "      <td>44.129377</td>\n",
       "      <td>25.908531</td>\n",
       "      <td>45.039827</td>\n",
       "      <td>46.202861</td>\n",
       "    </tr>\n",
       "    <tr>\n",
       "      <th>0.8</th>\n",
       "      <td>47.828990</td>\n",
       "      <td>60.110434</td>\n",
       "      <td>43.571083</td>\n",
       "      <td>25.848337</td>\n",
       "      <td>44.904207</td>\n",
       "      <td>45.680187</td>\n",
       "    </tr>\n",
       "    <tr>\n",
       "      <th>0.9</th>\n",
       "      <td>47.655027</td>\n",
       "      <td>59.544156</td>\n",
       "      <td>43.081824</td>\n",
       "      <td>25.610854</td>\n",
       "      <td>44.823673</td>\n",
       "      <td>45.128373</td>\n",
       "    </tr>\n",
       "  </tbody>\n",
       "</table>\n",
       "</div>"
      ],
      "text/plain": [
       "             0          1          2          3          4          5\n",
       "0.0  51.030188  73.123167  50.529619  27.823027  45.768823  51.929097\n",
       "0.1  50.460097  70.328156  49.698226  27.587923  45.728589  51.256231\n",
       "0.2  49.936698  67.955184  48.406070  27.268612  45.645659  49.882803\n",
       "0.3  49.521564  65.883869  47.584370  27.018708  45.624939  49.228131\n",
       "0.4  49.301380  64.466815  46.403689  26.884551  45.689785  48.263436\n",
       "0.5  48.803645  62.702073  45.509986  26.536370  45.493783  47.554532\n",
       "0.6  48.421653  61.621206  44.639841  26.289900  45.278226  46.722937\n",
       "0.7  48.036728  60.621001  44.129377  25.908531  45.039827  46.202861\n",
       "0.8  47.828990  60.110434  43.571083  25.848337  44.904207  45.680187\n",
       "0.9  47.655027  59.544156  43.081824  25.610854  44.823673  45.128373"
      ]
     },
     "execution_count": 20,
     "metadata": {},
     "output_type": "execute_result"
    }
   ],
   "source": [
    "mean_prices_df"
   ]
  },
  {
   "cell_type": "code",
   "execution_count": 21,
   "id": "ff419a49",
   "metadata": {},
   "outputs": [
    {
     "data": {
      "text/html": [
       "<div>\n",
       "<style scoped>\n",
       "    .dataframe tbody tr th:only-of-type {\n",
       "        vertical-align: middle;\n",
       "    }\n",
       "\n",
       "    .dataframe tbody tr th {\n",
       "        vertical-align: top;\n",
       "    }\n",
       "\n",
       "    .dataframe thead th {\n",
       "        text-align: right;\n",
       "    }\n",
       "</style>\n",
       "<table border=\"1\" class=\"dataframe\">\n",
       "  <thead>\n",
       "    <tr style=\"text-align: right;\">\n",
       "      <th></th>\n",
       "      <th>0</th>\n",
       "      <th>1</th>\n",
       "      <th>2</th>\n",
       "      <th>3</th>\n",
       "      <th>4</th>\n",
       "      <th>5</th>\n",
       "    </tr>\n",
       "  </thead>\n",
       "  <tbody>\n",
       "    <tr>\n",
       "      <th>0.0</th>\n",
       "      <td>31.651227</td>\n",
       "      <td>83.201130</td>\n",
       "      <td>37.817100</td>\n",
       "      <td>35.785628</td>\n",
       "      <td>26.980911</td>\n",
       "      <td>39.180601</td>\n",
       "    </tr>\n",
       "    <tr>\n",
       "      <th>0.1</th>\n",
       "      <td>29.954826</td>\n",
       "      <td>69.557537</td>\n",
       "      <td>36.349180</td>\n",
       "      <td>35.176930</td>\n",
       "      <td>26.539708</td>\n",
       "      <td>37.115657</td>\n",
       "    </tr>\n",
       "    <tr>\n",
       "      <th>0.2</th>\n",
       "      <td>28.609913</td>\n",
       "      <td>57.268904</td>\n",
       "      <td>34.836613</td>\n",
       "      <td>34.468580</td>\n",
       "      <td>26.102083</td>\n",
       "      <td>34.846981</td>\n",
       "    </tr>\n",
       "    <tr>\n",
       "      <th>0.3</th>\n",
       "      <td>27.702844</td>\n",
       "      <td>50.617388</td>\n",
       "      <td>32.978433</td>\n",
       "      <td>33.791884</td>\n",
       "      <td>25.755351</td>\n",
       "      <td>32.756836</td>\n",
       "    </tr>\n",
       "    <tr>\n",
       "      <th>0.4</th>\n",
       "      <td>27.062676</td>\n",
       "      <td>47.652193</td>\n",
       "      <td>30.622470</td>\n",
       "      <td>33.376578</td>\n",
       "      <td>25.427508</td>\n",
       "      <td>30.800682</td>\n",
       "    </tr>\n",
       "    <tr>\n",
       "      <th>0.5</th>\n",
       "      <td>26.352509</td>\n",
       "      <td>44.760982</td>\n",
       "      <td>29.199618</td>\n",
       "      <td>32.844511</td>\n",
       "      <td>24.867303</td>\n",
       "      <td>29.612879</td>\n",
       "    </tr>\n",
       "    <tr>\n",
       "      <th>0.6</th>\n",
       "      <td>25.627221</td>\n",
       "      <td>42.405571</td>\n",
       "      <td>27.696054</td>\n",
       "      <td>32.198129</td>\n",
       "      <td>24.279376</td>\n",
       "      <td>28.148133</td>\n",
       "    </tr>\n",
       "    <tr>\n",
       "      <th>0.7</th>\n",
       "      <td>25.039909</td>\n",
       "      <td>40.767855</td>\n",
       "      <td>26.437227</td>\n",
       "      <td>31.629109</td>\n",
       "      <td>23.744640</td>\n",
       "      <td>27.095445</td>\n",
       "    </tr>\n",
       "    <tr>\n",
       "      <th>0.8</th>\n",
       "      <td>24.778715</td>\n",
       "      <td>39.931326</td>\n",
       "      <td>25.447058</td>\n",
       "      <td>31.401189</td>\n",
       "      <td>23.514040</td>\n",
       "      <td>26.154628</td>\n",
       "    </tr>\n",
       "    <tr>\n",
       "      <th>0.9</th>\n",
       "      <td>24.413631</td>\n",
       "      <td>39.428211</td>\n",
       "      <td>24.951534</td>\n",
       "      <td>31.036590</td>\n",
       "      <td>23.142644</td>\n",
       "      <td>25.538229</td>\n",
       "    </tr>\n",
       "  </tbody>\n",
       "</table>\n",
       "</div>"
      ],
      "text/plain": [
       "             0          1          2          3          4          5\n",
       "0.0  31.651227  83.201130  37.817100  35.785628  26.980911  39.180601\n",
       "0.1  29.954826  69.557537  36.349180  35.176930  26.539708  37.115657\n",
       "0.2  28.609913  57.268904  34.836613  34.468580  26.102083  34.846981\n",
       "0.3  27.702844  50.617388  32.978433  33.791884  25.755351  32.756836\n",
       "0.4  27.062676  47.652193  30.622470  33.376578  25.427508  30.800682\n",
       "0.5  26.352509  44.760982  29.199618  32.844511  24.867303  29.612879\n",
       "0.6  25.627221  42.405571  27.696054  32.198129  24.279376  28.148133\n",
       "0.7  25.039909  40.767855  26.437227  31.629109  23.744640  27.095445\n",
       "0.8  24.778715  39.931326  25.447058  31.401189  23.514040  26.154628\n",
       "0.9  24.413631  39.428211  24.951534  31.036590  23.142644  25.538229"
      ]
     },
     "execution_count": 21,
     "metadata": {},
     "output_type": "execute_result"
    }
   ],
   "source": [
    "std_prices_df"
   ]
  },
  {
   "cell_type": "code",
   "execution_count": 22,
   "id": "3f2f7e2f",
   "metadata": {},
   "outputs": [
    {
     "data": {
      "image/png": "[encoded data removed]",
      "text/plain": [
       "<Figure size 800x600 with 1 Axes>"
      ]
     },
     "metadata": {},
     "output_type": "display_data"
    }
   ],
   "source": [
    "# Selecting the columns for Regions 1, 2, and 3\n",
    "regions = [0, 1, 2]\n",
    "mean_prices = mean_prices_df.iloc[:, regions]\n",
    "std_prices = std_prices_df.iloc[:, regions]\n",
    "\n",
    "# Preparing ISR values from the index\n",
    "isr_values = mean_prices.index\n",
    "\n",
    "# New colors and error bar theme\n",
    "new_colors = ['#0072B2', '#D55E00', '#CC79A7']  # Updated color palette\n",
    "new_labels = ['Region 1', 'Region 2', 'Region 3']\n",
    "line_styles = ['-', '--', '-.']  # Different line styles for visual distinction\n",
    "marker_styles = ['o', 's', 'd']  # Different marker styles for each region\n",
    "plt.figure(figsize=(8, 6))\n",
    "\n",
    "\n",
    "for region, color, label, line_style, marker_style in zip(regions, new_colors, new_labels, line_styles, marker_styles):\n",
    "    plt.errorbar(isr_values, mean_prices.iloc[:, region], yerr=std_prices.iloc[:, region], \n",
    "                 label=label, color=color, fmt=line_style + marker_style, capsize=5, elinewidth=2, capthick=2, markeredgewidth=2)\n",
    "\n",
    "plt.title('CAISO Real-Time Price Variability by Region and ISR')\n",
    "plt.xlabel('Intelligent Storage Ratio (ISR)')\n",
    "plt.ylabel('Mean Price ($/MWh)')\n",
    "plt.ylim([-20,190])\n",
    "plt.legend()\n",
    "plt.grid(True, which='both', linestyle='--', linewidth=0.5)\n",
    "plt.tight_layout()\n",
    "\n",
    "\n",
    "# Save the plot to a file suitable for inclusion in your paper\n",
    "# plt.savefig('/mnt/data/caiso_price_variability.png', dpi=300)\n",
    "\n",
    "# Show the plot\n",
    "plt.show()\n"
   ]
  },
  {
   "cell_type": "markdown",
   "id": "953ddbe8",
   "metadata": {},
   "source": [
    "### Total System Cost"
   ]
  },
  {
   "cell_type": "code",
   "execution_count": 28,
   "id": "358a3952",
   "metadata": {},
   "outputs": [
    {
     "data": {
      "text/plain": [
       "[1.9367220363429292,\n",
       " 1.9367220363429292,\n",
       " 1.9367220363429292,\n",
       " 1.9367220363429292,\n",
       " 1.9367220363429292,\n",
       " 1.9367220363429292,\n",
       " 1.9367220363429292,\n",
       " 1.9367220363429292,\n",
       " 1.9367220363429292,\n",
       " 1.9367220363429292]"
      ]
     },
     "execution_count": 28,
     "metadata": {},
     "output_type": "execute_result"
    }
   ],
   "source": [
    "total_system_ll = []\n",
    "# Loop over ratios from 0.0 to 1.0 (assuming increment by 0.1)\n",
    "for ratio in ratios:\n",
    "    case = case_template.format(ratio, ratio)\n",
    "    try:\n",
    "        # Read the CSV file for the current case\n",
    "        ll = pd.read_csv(f'output/{case}/EDSlack.csv', header=None)\n",
    "    except FileNotFoundError:\n",
    "        print(f\"File for case {case} not found.\")\n",
    "        # Optionally, append a NaN or some indicator of missing data\n",
    "        total_system_ll.append(float('nan'))\n",
    "        continue\n",
    "\n",
    "    # Sum the total ll\n",
    "    total_ll = ll.sum()\n",
    "    total_system_ll.append(total_cost_normalized)\n",
    "total_system_ll  "
   ]
  },
  {
   "cell_type": "code",
   "execution_count": 23,
   "id": "745363d2",
   "metadata": {},
   "outputs": [
    {
     "data": {
      "text/html": [
       "<div>\n",
       "<style scoped>\n",
       "    .dataframe tbody tr th:only-of-type {\n",
       "        vertical-align: middle;\n",
       "    }\n",
       "\n",
       "    .dataframe tbody tr th {\n",
       "        vertical-align: top;\n",
       "    }\n",
       "\n",
       "    .dataframe thead th {\n",
       "        text-align: right;\n",
       "    }\n",
       "</style>\n",
       "<table border=\"1\" class=\"dataframe\">\n",
       "  <thead>\n",
       "    <tr style=\"text-align: right;\">\n",
       "      <th></th>\n",
       "      <th>Total System Cost</th>\n",
       "    </tr>\n",
       "  </thead>\n",
       "  <tbody>\n",
       "    <tr>\n",
       "      <th>0.0</th>\n",
       "      <td>1.956048</td>\n",
       "    </tr>\n",
       "    <tr>\n",
       "      <th>0.1</th>\n",
       "      <td>1.953829</td>\n",
       "    </tr>\n",
       "    <tr>\n",
       "      <th>0.2</th>\n",
       "      <td>1.949673</td>\n",
       "    </tr>\n",
       "    <tr>\n",
       "      <th>0.3</th>\n",
       "      <td>1.946691</td>\n",
       "    </tr>\n",
       "    <tr>\n",
       "      <th>0.4</th>\n",
       "      <td>1.943906</td>\n",
       "    </tr>\n",
       "    <tr>\n",
       "      <th>0.5</th>\n",
       "      <td>1.941334</td>\n",
       "    </tr>\n",
       "    <tr>\n",
       "      <th>0.6</th>\n",
       "      <td>1.939424</td>\n",
       "    </tr>\n",
       "    <tr>\n",
       "      <th>0.7</th>\n",
       "      <td>1.938753</td>\n",
       "    </tr>\n",
       "    <tr>\n",
       "      <th>0.8</th>\n",
       "      <td>1.937092</td>\n",
       "    </tr>\n",
       "    <tr>\n",
       "      <th>0.9</th>\n",
       "      <td>1.936722</td>\n",
       "    </tr>\n",
       "  </tbody>\n",
       "</table>\n",
       "</div>"
      ],
      "text/plain": [
       "     Total System Cost\n",
       "0.0           1.956048\n",
       "0.1           1.953829\n",
       "0.2           1.949673\n",
       "0.3           1.946691\n",
       "0.4           1.943906\n",
       "0.5           1.941334\n",
       "0.6           1.939424\n",
       "0.7           1.938753\n",
       "0.8           1.937092\n",
       "0.9           1.936722"
      ]
     },
     "execution_count": 23,
     "metadata": {},
     "output_type": "execute_result"
    }
   ],
   "source": [
    "total_system_costs = []\n",
    "# Loop over ratios from 0.0 to 1.0 (assuming increment by 0.1)\n",
    "for ratio in ratios:\n",
    "    case = case_template.format(ratio, ratio)\n",
    "    try:\n",
    "        # Read the CSV file for the current case\n",
    "        cost = pd.read_csv(f'output/{case}/EDcost.csv', header=None)\n",
    "    except FileNotFoundError:\n",
    "        print(f\"File for case {case} not found.\")\n",
    "        # Optionally, append a NaN or some indicator of missing data\n",
    "        total_system_costs.append(float('nan'))\n",
    "        continue\n",
    "\n",
    "    # Sum the total cost and normalize\n",
    "    total_cost_normalized = cost.sum().values[0] / (10**10)\n",
    "    total_system_costs.append(total_cost_normalized)\n",
    "\n",
    "# Convert the list to a DataFrame\n",
    "total_system_costs_df = pd.DataFrame(total_system_costs, columns=['Total System Cost'])\n",
    "\n",
    "# Adjust the index to represent ratios directly, if desired\n",
    "# total_system_costs_df.index = [str(round(i * 0.1, 1)) for i in range(11)]\n",
    "total_system_costs_df.index = ratios\n",
    "\n",
    "\n",
    "total_system_costs_df"
   ]
  },
  {
   "cell_type": "code",
   "execution_count": 24,
   "id": "4ddaab4c",
   "metadata": {},
   "outputs": [
    {
     "data": {
      "image/png": "[encoded data removed]",
      "text/plain": [
       "<Figure size 800x600 with 2 Axes>"
      ]
     },
     "metadata": {},
     "output_type": "display_data"
    }
   ],
   "source": [
    "# Calculate percentage reduction compared to 0.0 ISR\n",
    "initial_cost = total_system_costs_df['Total System Cost'].iloc[0]\n",
    "percentage_reduction = (total_system_costs_df['Total System Cost'] - initial_cost) / initial_cost * 100\n",
    "\n",
    "# Plotting\n",
    "fig, ax1 = plt.subplots(figsize=(8, 6))\n",
    "\n",
    "color = '#0072B2'\n",
    "ax1.set_xlabel('Intelligent Storage Ratio (ISR)', fontsize=12)\n",
    "ax1.set_ylabel('Total System Cost (Billion $)', color=color, fontsize=12)\n",
    "ax1.plot(ratios, total_system_costs_df['Total System Cost'], '-o', color=color, label='Total System Cost')\n",
    "ax1.tick_params(axis='y', labelcolor=color)\n",
    "ax1.grid(True, which='both', linestyle='--', linewidth=0.5)\n",
    "\n",
    "# Instantiate a second y-axis for percentage reduction\n",
    "ax2 = ax1.twinx() \n",
    "color = '#D55E00'\n",
    "ax2.set_ylabel('Percentage Reduction (%)', color=color, fontsize=12)  \n",
    "ax2.bar(ratios, percentage_reduction, width=0.05, color=color, alpha=0.6, label='Percentage Reduction')\n",
    "ax2.tick_params(axis='y', labelcolor=color)\n",
    "\n",
    "fig.tight_layout()  \n",
    "plt.title('Total System Cost and Percentage Reduction Across WECC vs ISR', fontsize=14)\n",
    "plt.show()\n"
   ]
  },
  {
   "cell_type": "markdown",
   "id": "3dec2295",
   "metadata": {},
   "source": [
    "### Storage Profit & Utilization (Aggregated ISR 0.1-0.9)"
   ]
  },
  {
   "cell_type": "code",
   "execution_count": 26,
   "id": "abe98101",
   "metadata": {},
   "outputs": [],
   "source": [
    "# case = 'Strategic/MC20/UC25ED1_Strategic_true_ratio0.9_Seg5_BAW0_MC20.0'\n",
    "# case = 'Strategic/EDH6/UC25ED6_Strategic_true_ratio1.0_Seg1_BAW0_MC20.0_1'\n",
    "case = 'Strategic/2022/UC25ED1_Strategic_true_ratio0.9_Seg1_BAW0_MC20.0_hetefalse'\n",
    "\n",
    "\n",
    "ESD = pd.read_csv('output/'+case+'/EDESD.csv',header=None)\n",
    "ESC = pd.read_csv('output/'+case+'/EDESC.csv',header=None)\n",
    "price = pd.read_csv('output/'+case+'/EDprice.csv',header=None)\n",
    "ES = pd.read_csv('output/'+case+'/Strategic/ADDED_ES.csv')"
   ]
  },
  {
   "cell_type": "code",
   "execution_count": 27,
   "id": "a5a72488",
   "metadata": {
    "scrolled": true
   },
   "outputs": [
    {
     "data": {
      "text/html": [
       "<div>\n",
       "<style scoped>\n",
       "    .dataframe tbody tr th:only-of-type {\n",
       "        vertical-align: middle;\n",
       "    }\n",
       "\n",
       "    .dataframe tbody tr th {\n",
       "        vertical-align: top;\n",
       "    }\n",
       "\n",
       "    .dataframe thead th {\n",
       "        text-align: right;\n",
       "    }\n",
       "</style>\n",
       "<table border=\"1\" class=\"dataframe\">\n",
       "  <thead>\n",
       "    <tr style=\"text-align: right;\">\n",
       "      <th></th>\n",
       "      <th>0</th>\n",
       "      <th>1</th>\n",
       "      <th>2</th>\n",
       "      <th>3</th>\n",
       "      <th>4</th>\n",
       "      <th>5</th>\n",
       "      <th>6</th>\n",
       "      <th>7</th>\n",
       "      <th>8</th>\n",
       "      <th>9</th>\n",
       "      <th>10</th>\n",
       "      <th>11</th>\n",
       "    </tr>\n",
       "  </thead>\n",
       "  <tbody>\n",
       "    <tr>\n",
       "      <th></th>\n",
       "      <td>S1</td>\n",
       "      <td>NS1</td>\n",
       "      <td>S2</td>\n",
       "      <td>NS2</td>\n",
       "      <td>S3</td>\n",
       "      <td>NS3</td>\n",
       "      <td>S4</td>\n",
       "      <td>NS4</td>\n",
       "      <td>S5</td>\n",
       "      <td>NS5</td>\n",
       "      <td>S6</td>\n",
       "      <td>NS6</td>\n",
       "    </tr>\n",
       "    <tr>\n",
       "      <th>Revenue (k$)</th>\n",
       "      <td>526.764174</td>\n",
       "      <td>6.900974</td>\n",
       "      <td>85057.218316</td>\n",
       "      <td>3145.746366</td>\n",
       "      <td>27943.759693</td>\n",
       "      <td>349.33596</td>\n",
       "      <td>916.645048</td>\n",
       "      <td>23.128564</td>\n",
       "      <td>77.331709</td>\n",
       "      <td>1.823467</td>\n",
       "      <td>5375.748115</td>\n",
       "      <td>37.253067</td>\n",
       "    </tr>\n",
       "    <tr>\n",
       "      <th>Profit (k$)</th>\n",
       "      <td>321.054003</td>\n",
       "      <td>4.380594</td>\n",
       "      <td>31674.461928</td>\n",
       "      <td>2109.226093</td>\n",
       "      <td>13340.27164</td>\n",
       "      <td>236.535044</td>\n",
       "      <td>603.650759</td>\n",
       "      <td>15.334725</td>\n",
       "      <td>49.408573</td>\n",
       "      <td>1.220519</td>\n",
       "      <td>2882.336442</td>\n",
       "      <td>22.649691</td>\n",
       "    </tr>\n",
       "    <tr>\n",
       "      <th>Unit Profit (k$/MWh)</th>\n",
       "      <td>5.364311</td>\n",
       "      <td>0.658736</td>\n",
       "      <td>2.400328</td>\n",
       "      <td>1.438557</td>\n",
       "      <td>3.649969</td>\n",
       "      <td>0.582455</td>\n",
       "      <td>5.883536</td>\n",
       "      <td>1.345151</td>\n",
       "      <td>5.489841</td>\n",
       "      <td>1.220519</td>\n",
       "      <td>4.852418</td>\n",
       "      <td>81.229466</td>\n",
       "    </tr>\n",
       "    <tr>\n",
       "      <th>Cycle</th>\n",
       "      <td>190.949755</td>\n",
       "      <td>21.055808</td>\n",
       "      <td>224.744878</td>\n",
       "      <td>39.27436</td>\n",
       "      <td>221.977316</td>\n",
       "      <td>15.431464</td>\n",
       "      <td>169.479256</td>\n",
       "      <td>37.981671</td>\n",
       "      <td>172.365036</td>\n",
       "      <td>33.497136</td>\n",
       "      <td>233.203486</td>\n",
       "      <td>12.292405</td>\n",
       "    </tr>\n",
       "  </tbody>\n",
       "</table>\n",
       "</div>"
      ],
      "text/plain": [
       "                              0          1             2            3   \\\n",
       "                              S1        NS1            S2          NS2   \n",
       "Revenue (k$)          526.764174   6.900974  85057.218316  3145.746366   \n",
       "Profit (k$)           321.054003   4.380594  31674.461928  2109.226093   \n",
       "Unit Profit (k$/MWh)    5.364311   0.658736      2.400328     1.438557   \n",
       "Cycle                 190.949755  21.055808    224.744878     39.27436   \n",
       "\n",
       "                                4           5           6          7   \\\n",
       "                                S3         NS3          S4        NS4   \n",
       "Revenue (k$)          27943.759693   349.33596  916.645048  23.128564   \n",
       "Profit (k$)            13340.27164  236.535044  603.650759  15.334725   \n",
       "Unit Profit (k$/MWh)      3.649969    0.582455    5.883536   1.345151   \n",
       "Cycle                   221.977316   15.431464  169.479256  37.981671   \n",
       "\n",
       "                              8          9            10         11  \n",
       "                              S5        NS5           S6        NS6  \n",
       "Revenue (k$)           77.331709   1.823467  5375.748115  37.253067  \n",
       "Profit (k$)            49.408573   1.220519  2882.336442  22.649691  \n",
       "Unit Profit (k$/MWh)    5.489841   1.220519     4.852418  81.229466  \n",
       "Cycle                 172.365036  33.497136   233.203486  12.292405  "
      ]
     },
     "execution_count": 27,
     "metadata": {},
     "output_type": "execute_result"
    }
   ],
   "source": [
    "data = [\n",
    "    ['S1', sum((ESD[35]-ESC[35])*price[0])/1000, sum((ESD[35]-ESC[35])*price[0] - Ts*c*ESD[35])/1000, sum((ESD[35]-ESC[35])*price[0] - Ts*c*ESD[35])/1000/ES['ESOC'][0], sum(ESD[35])/eta*Ts/ES['ESOC'][0]],\n",
    "    ['NS1', sum((ESD[36]-ESC[36])*price[0])/1000, sum((ESD[36]-ESC[36])*price[0] - Ts*c*ESD[36])/1000, sum((ESD[36]-ESC[36])*price[0] - Ts*c*ESD[36])/1000/ES['ESOC'][1], sum(ESD[36])/eta*Ts/ES['ESOC'][1]],\n",
    "    ['S2', sum((ESD[37]-ESC[37])*price[1])/1000, sum((ESD[37]-ESC[37])*price[1] - Ts*c*ESD[37])/1000, sum((ESD[37]-ESC[37])*price[1] - Ts*c*ESD[37])/1000/ES['ESOC'][2], sum(ESD[37])/eta*Ts/ES['ESOC'][2]],\n",
    "    ['NS2', sum((ESD[38]-ESC[38])*price[1])/1000, sum((ESD[38]-ESC[38])*price[1] - Ts*c*ESD[38])/1000, sum((ESD[38]-ESC[38])*price[1] - Ts*c*ESD[38])/1000/ES['ESOC'][3], sum(ESD[38])/eta*Ts/ES['ESOC'][3]],\n",
    "    ['S3', sum((ESD[39]-ESC[39])*price[2])/1000, sum((ESD[39]-ESC[39])*price[2] - Ts*c*ESD[39])/1000, sum((ESD[39]-ESC[39])*price[2] - Ts*c*ESD[39])/1000/ES['ESOC'][4], sum(ESD[39])/eta*Ts/ES['ESOC'][4]],\n",
    "    ['NS3', sum((ESD[40]-ESC[40])*price[2])/1000, sum((ESD[40]-ESC[40])*price[2] - Ts*c*ESD[40])/1000, sum((ESD[40]-ESC[40])*price[2] - Ts*c*ESD[40])/1000/ES['ESOC'][5], sum(ESD[40])/eta*Ts/ES['ESOC'][5]],\n",
    "    ['S4', sum((ESD[41]-ESC[41])*price[3])/1000, sum((ESD[41]-ESC[41])*price[3] - Ts*c*ESD[41])/1000, sum((ESD[41]-ESC[41])*price[3] - Ts*c*ESD[41])/1000/ES['ESOC'][6], sum(ESD[41])/eta*Ts/ES['ESOC'][6]],\n",
    "    ['NS4', sum((ESD[42]-ESC[42])*price[3])/1000, sum((ESD[42]-ESC[42])*price[3] - Ts*c*ESD[42])/1000, sum((ESD[42]-ESC[42])*price[3] - Ts*c*ESD[42])/1000/ES['ESOC'][7], sum(ESD[42])/eta*Ts/ES['ESOC'][7]],\n",
    "    ['S5', sum((ESD[43]-ESC[43])*price[4])/1000, sum((ESD[43]-ESC[43])*price[4] - Ts*c*ESD[43])/1000, sum((ESD[43]-ESC[43])*price[4] - Ts*c*ESD[43])/1000/ES['ESOC'][8], sum(ESD[43])/eta*Ts/ES['ESOC'][8]],\n",
    "    ['NS5', sum((ESD[44]-ESC[44])*price[4])/1000, sum((ESD[44]-ESC[44])*price[4] - Ts*c*ESD[44])/1000, sum((ESD[44]-ESC[44])*price[4] - Ts*c*ESD[44])/1000/ES['ESOC'][9], sum(ESD[44])/eta*Ts/ES['ESOC'][9]],\n",
    "    ['S6', sum((ESD[45]-ESC[45])*price[5])/1000, sum((ESD[45]-ESC[45])*price[5] - Ts*c*ESD[45])/1000, sum((ESD[45]-ESC[45])*price[5] - Ts*c*ESD[45])/1000/ES['ESOC'][10], sum(ESD[45])/eta*Ts/ES['ESOC'][10]],\n",
    "    ['NS6', sum((ESD[46]-ESC[46])*price[5])/1000, sum((ESD[46]-ESC[46])*price[5] - Ts*c*ESD[46])/1000, sum((ESD[45]-ESC[45])*price[5] - Ts*c*ESD[46])/1000/ES['ESOC'][11], sum(ESD[46])/eta*Ts/ES['ESOC'][11]],\n",
    "]\n",
    "column_names = ['', 'Revenue (k$)', 'Profit (k$)', 'Unit Profit (k$/MWh)', 'Cycle']\n",
    "df = pd.DataFrame(data, columns=column_names)\n",
    "df.T\n"
   ]
  },
  {
   "cell_type": "code",
   "execution_count": null,
   "id": "3b429eed",
   "metadata": {},
   "outputs": [],
   "source": []
  },
  {
   "cell_type": "markdown",
   "id": "015b74e5",
   "metadata": {},
   "source": [
    "### Storage Profit & Utilization (Heterogeneous ISR 0.0/1.0)"
   ]
  },
  {
   "cell_type": "code",
   "execution_count": 80,
   "id": "4a8a3731",
   "metadata": {},
   "outputs": [],
   "source": [
    "case = 'Strategic/{}/BS/UC25ED1_Strategic_true_ratio0.0_Seg1_BAW0_MC20.0_1'\n"
   ]
  },
  {
   "cell_type": "code",
   "execution_count": 81,
   "id": "32f04cb4",
   "metadata": {},
   "outputs": [
    {
     "data": {
      "text/plain": [
       "'Strategic/{}/BS/UC25ED1_Strategic_true_ratio0.0_Seg1_BAW0_MC20.0_1'"
      ]
     },
     "execution_count": 81,
     "metadata": {},
     "output_type": "execute_result"
    }
   ],
   "source": [
    "case"
   ]
  },
  {
   "cell_type": "code",
   "execution_count": 82,
   "id": "fdfbc897",
   "metadata": {},
   "outputs": [],
   "source": [
    "Ts = 1/12\n",
    "c = 20\n",
    "eta = 0.9\n",
    "ratios = [2022]"
   ]
  },
  {
   "cell_type": "code",
   "execution_count": 83,
   "id": "41eb2f7c",
   "metadata": {},
   "outputs": [
    {
     "name": "stdout",
     "output_type": "stream",
     "text": [
      "File for case Strategic/2022/BS/UC25ED1_Strategic_true_ratio[2022]_Seg1_BAW0_MC20.0_1 not found.\n"
     ]
    }
   ],
   "source": [
    "for ratio in ratios:\n",
    "    case = case_template.format(ratios)\n",
    "    try:\n",
    "        # Try to read the CSV file for the current case\n",
    "        ESInfo = pd.read_csv('output/'+case+'/Strategic/storage_to_index_map.csv')\n",
    "    except FileNotFoundError:\n",
    "        print(f\"File for case {case} not found.\")\n",
    "        continue"
   ]
  },
  {
   "cell_type": "code",
   "execution_count": null,
   "id": "34d68277",
   "metadata": {},
   "outputs": [],
   "source": [
    "ESD1 = pd.read_csv('output/Strategic/2022/UC25ED1_Strategic_true_ratio1.0_Seg1_BAW0_MC20.0_1/EDESD.csv',header=None)\n",
    "ESC1 = pd.read_csv('output/Strategic/2022/UC25ED1_Strategic_true_ratio1.0_Seg1_BAW0_MC20.0_1/EDESC.csv',header=None)\n",
    "price1 = pd.read_csv('output/Strategic/2022/UC25ED1_Strategic_true_ratio1.0_Seg1_BAW0_MC20.0_1/EDprice.csv',header=None)\n",
    "DAprice1 = pd.read_csv('output/Strategic/2022/UC25ED1_Strategic_true_ratio1.0_Seg1_BAW0_MC20.0_1/UCprice.csv',header=None)"
   ]
  },
  {
   "cell_type": "code",
   "execution_count": null,
   "id": "59ee03b5",
   "metadata": {},
   "outputs": [],
   "source": [
    "repeated_indices = np.repeat(DAprice1.index, 12)\n",
    "repeated_DAprice1 = DAprice1.loc[repeated_indices].reset_index(drop=True)"
   ]
  },
  {
   "cell_type": "code",
   "execution_count": null,
   "id": "555e0896",
   "metadata": {},
   "outputs": [],
   "source": [
    "plt.figure(figsize=(10, 6))  # Optional: Specifies the figure size\n",
    "plt.plot(range(2017), price1.loc[0:2016,0]*12, label='RT')  # Plot first column\n",
    "plt.plot(range(2017), repeated_DAprice1.loc[0:2016,0], label='DA', linestyle='--')  # Plot second column with a different style\n",
    "\n",
    "# Adding labels and title\n",
    "# plt.xlabel('Index')  # Adjust as per your requirement\n",
    "plt.ylabel('$/MWh')  # Adjust as per your requirement\n",
    "# plt.title('Line Plot of Two DataFrame Columns')\n",
    "plt.legend()\n",
    "\n",
    "# Show plot\n",
    "plt.show()"
   ]
  },
  {
   "cell_type": "code",
   "execution_count": null,
   "id": "b9b52488",
   "metadata": {},
   "outputs": [],
   "source": [
    "Zone2Price1 = price1[0]\n",
    "SD1 = ESD1[35]\n",
    "SC1 = ESC1[35]\n",
    "NSD1 = ESD1[36]\n",
    "NSC1 = ESC1[36]\n",
    "Zone2Price5 = price5[0]\n",
    "SD5 = ESD5[35]\n",
    "SC5 = ESC5[35]\n",
    "NSD5 = ESD5[36]\n",
    "NSC5 = ESC5[36]\n",
    "Zone2Price1mar = price1mar[0]\n",
    "SD1mar = ESD1mar[35]\n",
    "SC1mar = ESC1mar[35]\n",
    "NSD1mar = ESD1mar[36]\n",
    "NSC1mar = ESC1mar[36]\n",
    "Zone2Price5mar = price5mar[1]\n",
    "SD5mar = ESD5mar[35]\n",
    "SC5mar = ESC5mar[35]\n",
    "NSD5mar = ESD5mar[36]\n",
    "NSC5mar = ESC5mar[36]"
   ]
  },
  {
   "cell_type": "code",
   "execution_count": null,
   "id": "e9fe9bf1",
   "metadata": {},
   "outputs": [],
   "source": [
    "S1 = SD1-SC1\n",
    "NS1 = NSD1-NSC1\n",
    "S5 = SD5-SC5\n",
    "NS5 = NSD5-NSC5\n",
    "S1mar = SD1mar-SC1mar\n",
    "NS1mar = NSD1mar-NSC1mar\n",
    "S5mar = SD5mar-SC5mar\n",
    "NS5mar = NSD5mar-NSC5mar"
   ]
  },
  {
   "cell_type": "code",
   "execution_count": null,
   "id": "e24fe92f",
   "metadata": {},
   "outputs": [],
   "source": [
    "Revenue_S1 = sum(S1*Zone2Price1) \n",
    "Profit_S1 = sum(S1*Zone2Price1 - Ts*c*SD1)\n",
    "Cycle_S1 = sum(SD1)/eta*Ts/E\n",
    "Revenue_NS1 = sum(NS1*Zone2Price1)\n",
    "Profit_NS1 = sum(NS1*Zone2Price1 - Ts*c*NSD1)\n",
    "Cycle_NS1 = sum(NSD1)/eta*Ts/E\n"
   ]
  },
  {
   "cell_type": "code",
   "execution_count": null,
   "id": "d2b957c3",
   "metadata": {},
   "outputs": [],
   "source": [
    "Revenue_S5 = sum(S5*Zone2Price5) \n",
    "Profit_S5 = sum(S5*Zone2Price5 - Ts*c*SD5)\n",
    "Cycle_S5 = sum(SD5)/eta*Ts/E\n",
    "Revenue_NS5 = sum(NS5*Zone2Price5)\n",
    "Profit_NS5 = sum(NS5*Zone2Price5 - Ts*c*NSD5) \n",
    "Cycle_NS5 = sum(NSD5)/eta*Ts/E\n"
   ]
  },
  {
   "cell_type": "code",
   "execution_count": null,
   "id": "5431d51c",
   "metadata": {},
   "outputs": [],
   "source": [
    "Revenue_S1mar = sum(S1mar*Zone2Price1mar) \n",
    "Profit_S1mar = sum(S1mar*Zone2Price1mar - Ts*c*SD1mar)\n",
    "Cycle_S1mar = sum(SD1mar)/eta*Ts/E1\n",
    "Revenue_NS1mar = sum(NS1mar*Zone2Price1mar)\n",
    "Profit_NS1mar = sum(NS1mar*Zone2Price1mar - Ts*c*NSD1mar) \n",
    "Cycle_NS1mar = sum(NSD1mar)/eta*Ts/E2"
   ]
  },
  {
   "cell_type": "code",
   "execution_count": null,
   "id": "3340d760",
   "metadata": {},
   "outputs": [],
   "source": [
    "Revenue_S5mar = sum(S5mar*Zone2Price5mar) \n",
    "Profit_S5mar = sum(S5mar*Zone2Price5mar - Ts*c*SD5mar)\n",
    "Cycle_S5mar = sum(SD5mar)/eta*Ts/E1\n",
    "Revenue_NS5mar = sum(NS5mar*Zone2Price5mar)\n",
    "Profit_NS5mar = sum(NS5mar*Zone2Price5mar - Ts*c*NSD5mar) \n",
    "Cycle_NS5mar = sum(NSD5mar)/eta*Ts/E2"
   ]
  },
  {
   "cell_type": "code",
   "execution_count": null,
   "id": "f2463306",
   "metadata": {
    "scrolled": true
   },
   "outputs": [],
   "source": [
    "data = [\n",
    "    ['S-1Seg', Revenue_S1/1000, Profit_S1/1000, Profit_S1/1000/E, Cycle_S1, Profit_S1/1000/E/27.992],\n",
    "    ['NS-1Seg', Revenue_NS1/1000, Profit_NS1/1000, Profit_NS1/1000/E, Cycle_NS1, Profit_NS1/1000/E/27.992],\n",
    "    ['S-5Seg', Revenue_S5/1000, Profit_S5/1000, Profit_S5/1000/E, Cycle_S5, Profit_S5/1000/E/27.992],\n",
    "    ['NS-5Seg', Revenue_NS5/1000, Profit_NS5/1000, Profit_NS5/1000/E, Cycle_NS5, Profit_NS5/1000/E/27.992],\n",
    "    ['S-1Seg_mar', Revenue_S1mar/1000, Profit_S1mar/1000, Profit_S1mar/1000/E1, Cycle_S1mar, Profit_S1mar/1000/E1/27.992],\n",
    "    ['NS-1Seg_mar', Revenue_NS1mar/1000, Profit_NS1mar/1000, Profit_NS1mar/1000/E2, Cycle_NS1mar, Profit_NS1mar/1000/E2/27.992],\n",
    "    ['S-5Seg_mar', Revenue_S5mar/1000, Profit_S5mar/1000, Profit_S5mar/1000/E1, Cycle_S5mar, Profit_S5mar/1000/E1/27.992],\n",
    "    ['NS-5Seg_mar', Revenue_NS5mar/1000, Profit_NS5mar/1000, Profit_NS5mar/1000/E2, Cycle_NS5mar, Profit_NS5mar/1000/E2/27.992],\n",
    "]\n",
    "column_names = ['', 'Revenue (k$)', 'Profit (k$)', 'Unit Profit (k$/MWh)', 'Cycle', 'Profit Ratio']\n",
    "df = pd.DataFrame(data, columns=column_names)\n",
    "df\n"
   ]
  },
  {
   "cell_type": "code",
   "execution_count": null,
   "id": "d5d51804",
   "metadata": {},
   "outputs": [],
   "source": [
    "# Set the positions and width for the bars\n",
    "positions = range(len(df))\n",
    "width = 0.35\n",
    "\n",
    "# Plotting the bar chart\n",
    "fig, ax1 = plt.subplots()\n",
    "\n",
    "# Bars for Revenue and Profit\n",
    "revenue_bars = ax1.bar(positions, df['Revenue (k$)']/100, width, label='Revenue (k$)', color='blue')\n",
    "profit_bars = ax1.bar([p + width for p in positions], df['Profit (k$)']/100, width, label='Profit (k$)', color='orange')\n",
    "\n",
    "# Add the second y-axis for the Profit Ratio\n",
    "ax2 = ax1.twinx()\n",
    "profit_ratio_dots, = ax2.plot([p + width/2 for p in positions], df['Profit Ratio'], 'ro', label='Profit Ratio')\n",
    "\n",
    "# Set the ticks and ticklabels for the x-axis\n",
    "ax1.set_xticks([p + width/2 for p in positions])\n",
    "ax1.set_xticklabels(['S-1Seg', 'NS-1Seg', 'S-5Seg', 'NS-5Seg','S-1Seg', 'NS-1Seg', 'S-5Seg', 'NS-5Seg'])\n",
    "\n",
    "# Set the axis labels\n",
    "# ax1.set_xlabel('Segment')\n",
    "ax1.set_ylabel('Revenue/Profit (k$)')\n",
    "ax2.set_ylabel('Profit Ratio')\n",
    "\n",
    "# Set the title of the graph\n",
    "plt.title('Revenue, Profit and Profit Ratio (per MWh)')\n",
    "\n",
    "# Create a legend by first getting handles and labels for the first y-axis and then the second y-axis\n",
    "handles, labels = ax1.get_legend_handles_labels()\n",
    "handles2, labels2 = ax2.get_legend_handles_labels()\n",
    "ax1.legend(handles + [profit_ratio_dots], labels + labels2, loc='upper right')\n",
    "\n",
    "# Adjust layout to make room for the legend\n",
    "plt.tight_layout()\n",
    "\n",
    "# Show the plot\n",
    "plt.show()"
   ]
  },
  {
   "cell_type": "markdown",
   "id": "2dc067a1",
   "metadata": {},
   "source": [
    "## Generator Type"
   ]
  },
  {
   "cell_type": "code",
   "execution_count": null,
   "id": "a51a8e21-073a-4a3a-95c4-25184eb5263d",
   "metadata": {},
   "outputs": [],
   "source": [
    "Zone = 3"
   ]
  },
  {
   "cell_type": "code",
   "execution_count": null,
   "id": "b13e4f61",
   "metadata": {},
   "outputs": [],
   "source": [
    "ThermalGen = pd.read_csv('2032 ADS PCM V2.4.1 Public Data/Processed Data/2022/ThermalGen_Full_C.csv')"
   ]
  },
  {
   "cell_type": "code",
   "execution_count": null,
   "id": "5b6beeb5-2f88-4c6a-af12-0aafb4c2504d",
   "metadata": {},
   "outputs": [],
   "source": [
    "ThermalGen['SubType'].unique()"
   ]
  },
  {
   "cell_type": "code",
   "execution_count": null,
   "id": "b003c0ed-d1c6-4e6a-8814-7fc3fede92f0",
   "metadata": {},
   "outputs": [],
   "source": [
    "ThermalGen['Fuel Name'].unique()"
   ]
  },
  {
   "cell_type": "markdown",
   "id": "56e9d94c-d5ae-416a-9e19-9e78143bf75a",
   "metadata": {},
   "source": [
    "### Coal"
   ]
  },
  {
   "cell_type": "code",
   "execution_count": null,
   "id": "a7b1bfbc-50da-48da-86a0-be55d404e15f",
   "metadata": {},
   "outputs": [],
   "source": [
    "ThermalGen[(ThermalGen['Zone']==Zone)&((ThermalGen['SubType']=='ST-Coal'))]"
   ]
  },
  {
   "cell_type": "code",
   "execution_count": null,
   "id": "57452ef6-947c-49a9-bc6c-32ea387b6e91",
   "metadata": {},
   "outputs": [],
   "source": [
    "ThermalGen[(ThermalGen['Zone']==Zone)&((ThermalGen['SubType']=='ST-Coal'))]['Fuel Name'].unique()"
   ]
  },
  {
   "cell_type": "code",
   "execution_count": null,
   "id": "6c2a132b-e76a-4b19-96b7-43447bf3c776",
   "metadata": {},
   "outputs": [],
   "source": [
    "ThermalGen[(ThermalGen['Zone']==Zone)&((ThermalGen['SubType']=='ST-Coal'))]['IOMaxCap(MW)'].sum()/1000"
   ]
  },
  {
   "cell_type": "markdown",
   "id": "d902d169-99a3-4244-996c-61526b20abef",
   "metadata": {},
   "source": [
    "### ST"
   ]
  },
  {
   "cell_type": "code",
   "execution_count": null,
   "id": "1a226260-e6cd-4e4e-b4f2-ecfbca60f100",
   "metadata": {},
   "outputs": [],
   "source": [
    "ThermalGen[(ThermalGen['Zone']==Zone)&((ThermalGen['SubType']=='ST-NatGas')|(ThermalGen['SubType']=='ST-Other')|(ThermalGen['SubType']=='ST-WasteHeat'))]"
   ]
  },
  {
   "cell_type": "code",
   "execution_count": null,
   "id": "e5f219db-c528-413b-8ba7-37fa29b58c82",
   "metadata": {},
   "outputs": [],
   "source": [
    "ThermalGen[(ThermalGen['Zone']==Zone)&((ThermalGen['SubType']=='ST-NatGas')|(ThermalGen['SubType']=='ST-Other')|(ThermalGen['SubType']=='ST-WasteHeat'))]['IOMaxCap(MW)'].sum()/1000"
   ]
  },
  {
   "cell_type": "markdown",
   "id": "645d1cc1-4033-44cd-9870-5544221b8059",
   "metadata": {},
   "source": [
    "### CC"
   ]
  },
  {
   "cell_type": "code",
   "execution_count": null,
   "id": "13428e35-cdf6-4b78-9a22-aad0b05b62c5",
   "metadata": {},
   "outputs": [],
   "source": [
    "ThermalGen[(ThermalGen['Zone']==Zone)&((ThermalGen['SubType']=='CCWhole-NatGas-SingleShaft')|(ThermalGen['SubType']=='CCWhole-NatGas-Aero')|(ThermalGen['SubType']=='CCWhole-NatGas-Industrial')|(ThermalGen['SubType']=='CCPart-Steam'))]"
   ]
  },
  {
   "cell_type": "code",
   "execution_count": null,
   "id": "9a1e60f4-df82-4194-8c31-114ce01f7fcc",
   "metadata": {},
   "outputs": [],
   "source": [
    "ThermalGen[(ThermalGen['Zone']==Zone)&((ThermalGen['SubType']=='CCWhole-NatGas-SingleShaft')|(ThermalGen['SubType']=='CCWhole-NatGas-Aero')|(ThermalGen['SubType']=='CCWhole-NatGas-Industrial')|(ThermalGen['SubType']=='CCPart-Steam'))]['IOMaxCap(MW)'].sum()/1000"
   ]
  },
  {
   "cell_type": "markdown",
   "id": "af8dee0d-821d-4ce5-b1ab-910976870f34",
   "metadata": {},
   "source": [
    "### CT"
   ]
  },
  {
   "cell_type": "code",
   "execution_count": null,
   "id": "5788eca1-05bf-4feb-811e-772009ccb6c7",
   "metadata": {},
   "outputs": [],
   "source": [
    "ThermalGen[(ThermalGen['Zone']==Zone)&((ThermalGen['SubType']=='CT-NatGas-Aero')|(ThermalGen['SubType']=='CT-NatGas-Industrial')|(ThermalGen['SubType']=='CT-OilDistillate')|(ThermalGen['SubType']=='CT-Aero')|(ThermalGen['SubType']=='CT-AB-Cogen'))]"
   ]
  },
  {
   "cell_type": "code",
   "execution_count": null,
   "id": "b2dd1b47-5f18-48af-95da-96811a304705",
   "metadata": {
    "scrolled": true
   },
   "outputs": [],
   "source": [
    "ThermalGen[(ThermalGen['Zone']==Zone)&((ThermalGen['SubType']=='CT-NatGas-Aero')|(ThermalGen['SubType']=='CT-NatGas-Industrial')|(ThermalGen['SubType']=='CT-OilDistillate')|(ThermalGen['SubType']=='CT-Aero')|(ThermalGen['SubType']=='CT-AB-Cogen'))]['IOMaxCap(MW)'].sum()/1000"
   ]
  },
  {
   "cell_type": "markdown",
   "id": "76550704-ff74-4711-98b2-3e803f452579",
   "metadata": {},
   "source": [
    "### Nuclear"
   ]
  },
  {
   "cell_type": "code",
   "execution_count": null,
   "id": "8561c320-f0fd-4a03-847a-7eeb32a9188a",
   "metadata": {},
   "outputs": [],
   "source": [
    "ThermalGen[(ThermalGen['Zone']==Zone)&((ThermalGen['SubType']=='ST-Nuclear'))]"
   ]
  },
  {
   "cell_type": "code",
   "execution_count": null,
   "id": "bd3ef2fc-b194-4d6a-b51a-65d71583b141",
   "metadata": {},
   "outputs": [],
   "source": [
    "ThermalGen[(ThermalGen['Zone']==Zone)&((ThermalGen['SubType']=='ST-Nuclear'))]['IOMaxCap(MW)'].sum()/1000"
   ]
  },
  {
   "cell_type": "markdown",
   "id": "44daa6e0-26ac-4fc2-869f-30dc26085097",
   "metadata": {},
   "source": [
    "### Geothermal"
   ]
  },
  {
   "cell_type": "code",
   "execution_count": null,
   "id": "eecd1b4d-a125-4f54-80b4-c2ac437c57ed",
   "metadata": {},
   "outputs": [],
   "source": [
    "ThermalGen[(ThermalGen['Zone']==Zone)&((ThermalGen['SubType']=='Geo-BinaryCycle')|(ThermalGen['SubType']=='Geo-DoubleFlash'))]"
   ]
  },
  {
   "cell_type": "code",
   "execution_count": null,
   "id": "c9563cc9-48f4-4505-abe5-8e21ba85ae15",
   "metadata": {},
   "outputs": [],
   "source": [
    "ThermalGen[(ThermalGen['Zone']==Zone)&((ThermalGen['SubType']=='Geo-BinaryCycle')|(ThermalGen['SubType']=='Geo-DoubleFlash'))]['IOMaxCap(MW)'].sum()/1000"
   ]
  },
  {
   "cell_type": "markdown",
   "id": "7b45a8a6-c089-4b3f-bbbb-e847c0c059d3",
   "metadata": {},
   "source": [
    "## BIO & ICE"
   ]
  },
  {
   "cell_type": "code",
   "execution_count": null,
   "id": "d5ced21c-574e-4092-a625-4377de6a6059",
   "metadata": {},
   "outputs": [],
   "source": [
    "Zone = 6"
   ]
  },
  {
   "cell_type": "code",
   "execution_count": null,
   "id": "a8522199-0db6-4f8c-aa6e-e9b780b5599f",
   "metadata": {
    "scrolled": true
   },
   "outputs": [],
   "source": [
    "ThermalGen[(ThermalGen['Zone']==Zone)&((ThermalGen['SubType']=='Bio-ICE')|(ThermalGen['SubType']=='Bio-CT')|(ThermalGen['SubType']=='Bio-ST')|(ThermalGen['SubType']=='Bio-CC'))]"
   ]
  },
  {
   "cell_type": "code",
   "execution_count": null,
   "id": "d3a87dd2-ffb9-4187-8dbc-9513143925e7",
   "metadata": {
    "scrolled": true
   },
   "outputs": [],
   "source": [
    "ThermalGen[(ThermalGen['Zone']==Zone)&((ThermalGen['SubType']=='Bio-ICE')|(ThermalGen['SubType']=='Bio-CT')|(ThermalGen['SubType']=='Bio-ST')|(ThermalGen['SubType']=='Bio-CC'))]['Fuel Name'].unique()"
   ]
  },
  {
   "cell_type": "code",
   "execution_count": null,
   "id": "c4690524-b1a7-4c35-b165-61f5feaf3238",
   "metadata": {},
   "outputs": [],
   "source": [
    "ThermalGen[(ThermalGen['Zone']==Zone)&((ThermalGen['SubType']=='Bio-ICE')|(ThermalGen['SubType']=='Bio-CT')|(ThermalGen['SubType']=='Bio-ST')|(ThermalGen['SubType']=='Bio-CC'))]['IOMaxCap(MW)'].sum()/1000"
   ]
  },
  {
   "cell_type": "code",
   "execution_count": null,
   "id": "21003754-f1b4-4410-a1ac-b63268c60a0e",
   "metadata": {
    "scrolled": true
   },
   "outputs": [],
   "source": [
    "ThermalGen[(ThermalGen['Zone']==Zone)&((ThermalGen['SubType']=='ICE-NatGas')|(ThermalGen['SubType']=='ICE-OilDistillate'))]"
   ]
  },
  {
   "cell_type": "code",
   "execution_count": null,
   "id": "eb1611f0-80ba-436f-acf9-8121d94ab05d",
   "metadata": {},
   "outputs": [],
   "source": [
    "ThermalGen[(ThermalGen['Zone']==Zone)&((ThermalGen['SubType']=='ICE-NatGas')|(ThermalGen['SubType']=='ICE-OilDistillate'))]['Fuel Name'].unique()"
   ]
  },
  {
   "cell_type": "code",
   "execution_count": null,
   "id": "e86d4d5c-6706-488f-8743-613eab99297d",
   "metadata": {},
   "outputs": [],
   "source": [
    "ThermalGen[(ThermalGen['Zone']==Zone)&((ThermalGen['SubType']=='ICE-NatGas')|(ThermalGen['SubType']=='ICE-OilDistillate'))]['IOMaxCap(MW)'].sum()/1000"
   ]
  },
  {
   "cell_type": "markdown",
   "id": "02982306-4a50-459d-8ba1-5bf8c6fb2afe",
   "metadata": {},
   "source": [
    "### Renewables"
   ]
  },
  {
   "cell_type": "code",
   "execution_count": null,
   "id": "1219d0a3-860c-481e-b9b1-0e4bd982e9df",
   "metadata": {},
   "outputs": [],
   "source": [
    "HydroGen = pd.read_csv('2032 ADS PCM V2.4.1 Public Data/Processed Data/2022/HydroZoneCap_C.csv')"
   ]
  },
  {
   "cell_type": "code",
   "execution_count": null,
   "id": "207f7399-ffa6-4ca4-ad55-bdef4828c431",
   "metadata": {},
   "outputs": [],
   "source": [
    "HydroGen['MaxCap(MW)']/1000"
   ]
  },
  {
   "cell_type": "code",
   "execution_count": null,
   "id": "aca500a3-92a7-4af6-af12-ed437fe694f6",
   "metadata": {},
   "outputs": [],
   "source": [
    "SolarGen = pd.read_csv('2032 ADS PCM V2.4.1 Public Data/Processed Data/2022/Solar_C.csv')"
   ]
  },
  {
   "cell_type": "code",
   "execution_count": null,
   "id": "6ee47ac5-b269-46f4-92e9-4415d065098f",
   "metadata": {},
   "outputs": [],
   "source": [
    "SolarGen['SubType'].unique()"
   ]
  },
  {
   "cell_type": "code",
   "execution_count": null,
   "id": "fc598f36-f37b-4c03-b6b8-0e521c090521",
   "metadata": {},
   "outputs": [],
   "source": [
    "SolarGen[(SolarGen['Zone']==Zone)&(SolarGen['SubType']=='SolarThermal-CSP6')]['Capacity(MW)'].sum()/1000"
   ]
  },
  {
   "cell_type": "code",
   "execution_count": null,
   "id": "6eef4121-22b9-4e31-8822-ff035b69abfa",
   "metadata": {},
   "outputs": [],
   "source": [
    "SolarGen[(SolarGen['Zone']==Zone)&(SolarGen['SubType']!='SolarThermal-CSP6')]['Capacity(MW)'].sum()/1000"
   ]
  },
  {
   "cell_type": "code",
   "execution_count": null,
   "id": "3570d6e4-02ee-484c-b9d6-70246bdc2821",
   "metadata": {},
   "outputs": [],
   "source": [
    "WindGen = pd.read_csv('2032 ADS PCM V2.4.1 Public Data/Processed Data/2022/Wind_C.csv')"
   ]
  },
  {
   "cell_type": "code",
   "execution_count": null,
   "id": "5e656363-c8d7-48a7-92ff-125804e1c312",
   "metadata": {},
   "outputs": [],
   "source": [
    "WindGen[WindGen['Zone']==Zone]['Capacity(MW)'].sum()/1000"
   ]
  },
  {
   "cell_type": "markdown",
   "id": "ecf12778-b2dd-4ae7-ab52-6e66ce9126f0",
   "metadata": {},
   "source": [
    "### Storage"
   ]
  },
  {
   "cell_type": "code",
   "execution_count": null,
   "id": "aaef9fb0-62c9-44a3-bd43-9d0f2b634056",
   "metadata": {},
   "outputs": [],
   "source": [
    "Storage = pd.read_csv('2032 ADS PCM V2.4.1 Public Data/Processed Data/2022/Storage_C_4hr_5GW_Strategic.csv')"
   ]
  },
  {
   "cell_type": "code",
   "execution_count": null,
   "id": "51ec5746-1e4b-4b56-b83b-5551ce1d961f",
   "metadata": {},
   "outputs": [],
   "source": [
    "Storage['SubType'].unique()"
   ]
  },
  {
   "cell_type": "code",
   "execution_count": null,
   "id": "3add63cd-f263-4afc-86a4-d21c9bf8974a",
   "metadata": {},
   "outputs": [],
   "source": [
    "Storage[(Storage['Zone']==Zone)&((Storage['SubType']=='PS-Hydro')|(Storage['SubType']=='PS-HydroRPS'))]"
   ]
  },
  {
   "cell_type": "code",
   "execution_count": null,
   "id": "c213abe9-ae62-4764-9c47-b2563ddf8f51",
   "metadata": {},
   "outputs": [],
   "source": [
    "Storage[(Storage['Zone']==Zone)&((Storage['SubType']=='PS-Hydro')|(Storage['SubType']=='PS-HydroRPS'))]['MaxCap(MW)'].sum()/1000"
   ]
  },
  {
   "cell_type": "code",
   "execution_count": null,
   "id": "e70cf910-b372-43fd-9fe3-089ac08c9b97",
   "metadata": {},
   "outputs": [],
   "source": [
    "Storage[(Storage['Zone']==Zone)&((Storage['SubType']=='Battery Storage'))]"
   ]
  },
  {
   "cell_type": "code",
   "execution_count": null,
   "id": "1bcdd452-3a6c-4d93-906f-f277c09f091d",
   "metadata": {},
   "outputs": [],
   "source": [
    "Storage[(Storage['Zone']==Zone)&((Storage['SubType']=='Battery Storage'))]['MaxCap(MW)'].sum()/1000"
   ]
  },
  {
   "cell_type": "markdown",
   "id": "779553db",
   "metadata": {},
   "source": [
    "## Plot"
   ]
  },
  {
   "cell_type": "code",
   "execution_count": null,
   "id": "05390d04",
   "metadata": {},
   "outputs": [],
   "source": [
    "HistoryPrice = pd.read_csv('output/20220101-20221231 CAISO Real-time Price.csv')\n",
    "HistoryPrice = HistoryPrice.drop_duplicates(subset=['Date', 'hub'])\n",
    "Pivot_HistoryPrice = HistoryPrice.pivot(index='Date', columns='hub', values='price')\n",
    "\n",
    "case1 = 'Strategic/UC25ED1_Strategic_true_Seg1_Load1.0_Fuel1.2_Error0.25_ratio0.1_MIP0.1_DARTDP'\n",
    "RTPrice1 = pd.read_csv('output/'+case1+'/EDprice.csv',header=None)*12\n",
    "case5 = 'Strategic/UC25ED1_Strategic_true_Seg5_Load1.0_Fuel1.2_Error0.25_ratio0.1_MIP0.1_DARTDP'\n",
    "RTPrice5 = pd.read_csv('output/'+case5+'/EDprice.csv',header=None)*12\n",
    "case1mar = 'Strategic/UC25ED1_Strategic_true_Seg1_Load1.0_Fuel1.2_Error0.25_Margin_MIP0.1_NSDAB'\n",
    "RTPrice1mar = pd.read_csv('output/'+case1+'/EDprice.csv',header=None)*12\n",
    "case5mar = 'Strategic/UC25ED1_Strategic_true_Seg5_Load1.0_Fuel1.2_Error0.25_Margin_MIP0.1_NSDAB'\n",
    "RTPrice5mar = pd.read_csv('output/'+case5+'/EDprice.csv',header=None)*12\n",
    "case3 = 'DecUpdate/UC25ED1_Strategic_false_Seg1_Load1.0_Fuel1.2_Error0.25_5GWBES_1yr_ESBid_Emergen'\n",
    "RTPrice3 = pd.read_csv('output/'+case3+'/EDprice.csv',header=None)*12\n",
    "\n",
    "# Create a 2x4 grid of subplots\n",
    "# fig, axs = plt.subplots(2, 4, figsize=(16, 9))\n",
    "fig, axs = plt.subplots(1, 2, figsize=(10, 6))\n",
    "\n",
    "# Loop through each column and each subplot\n",
    "for idx, (col, ax) in enumerate(zip([0,1], axs.flatten())):\n",
    "    sorted_vals = np.sort(Pivot_HistoryPrice.iloc[:,col].values)[::-1]\n",
    "    sorted_vals1 = np.sort(RTPrice1[col].values)[::-1]\n",
    "    sorted_vals2 = np.sort(RTPrice5[col].values)[::-1]\n",
    "    sorted_vals1mar = np.sort(RTPrice1mar[col].values)[::-1]\n",
    "    sorted_vals2mar = np.sort(RTPrice5mar[col].values)[::-1]\n",
    "    sorted_vals3 = np.sort(RTPrice3[col].values)[::-1]\n",
    "    \n",
    "    # Calculate the \"reverse\" cumulative distribution\n",
    "    cdf = np.arange(1, len(sorted_vals) + 1) / float(len(sorted_vals))\n",
    "    cdf1 = np.arange(1, len(sorted_vals1) + 1) / float(len(sorted_vals1))\n",
    "    cdf2 = np.arange(1, len(sorted_vals2) + 1) / float(len(sorted_vals2))\n",
    "    cdf1mar = np.arange(1, len(sorted_vals1mar) + 1) / float(len(sorted_vals1mar))\n",
    "    cdf2mar = np.arange(1, len(sorted_vals2mar) + 1) / float(len(sorted_vals2mar))\n",
    "    cdf3 = np.arange(1, len(sorted_vals3) + 1) / float(len(sorted_vals3))\n",
    "\n",
    "    \n",
    "    # Plot the CDF\n",
    "    ax.plot(cdf,sorted_vals)\n",
    "    ax.plot(cdf1,sorted_vals1)\n",
    "    ax.plot(cdf2,sorted_vals2)\n",
    "#     ax.plot(cdf1mar,sorted_vals1mar, linestyle='--')\n",
    "#     ax.plot(cdf2mar,sorted_vals2mar, linestyle='--')\n",
    "    ax.plot(cdf3,sorted_vals3)\n",
    "\n",
    "    ax.set_xlim(0.00, 1)\n",
    "    ax.set_ylim(-50, 500)\n",
    "    ax.legend(['Historical','Seg1', 'Seg5', 'Base'],fontsize=20)\n",
    "    ax.set_title(f\"High Price CDF of Region {idx+1}\",fontsize=20)\n",
    "    ax.tick_params(axis='both', which='major', labelsize=20)\n",
    "    ax.set_ylabel(\"Real-time Price ($/MWh)\",fontsize=20)\n",
    "\n",
    "plt.tight_layout()\n",
    "plt.show()"
   ]
  },
  {
   "cell_type": "code",
   "execution_count": null,
   "id": "ff8e78a1",
   "metadata": {},
   "outputs": [],
   "source": [
    "HistoryPrice = pd.read_csv('output/20220101-20221231 CAISO Real-time Price.csv')\n",
    "HistoryPrice = HistoryPrice.drop_duplicates(subset=['Date', 'hub'])\n",
    "Pivot_HistoryPrice = HistoryPrice.pivot(index='Date', columns='hub', values='price')\n",
    "\n",
    "case1 = 'Strategic/MarginalCost/UC25ED1_Strategic_true_ratio1.0_Seg1_BAW0_MC10.0'\n",
    "RTPrice1 = pd.read_csv('output/'+case1+'/EDprice.csv',header=None)*12\n",
    "case2 = 'Strategic/MarginalCost/UC25ED1_Strategic_true_ratio1.0_Seg1_BAW0_MC20.0'\n",
    "RTPrice2 = pd.read_csv('output/'+case2+'/EDprice.csv',header=None)*12\n",
    "case3 = 'Strategic/MarginalCost/UC25ED1_Strategic_true_ratio1.0_Seg1_BAW0_MC30.0'\n",
    "RTPrice3 = pd.read_csv('output/'+case3+'/EDprice.csv',header=None)*12\n",
    "case4 = 'Strategic/MarginalCost/UC25ED1_Strategic_true_ratio1.0_Seg1_BAW0_MC40.0'\n",
    "RTPrice4 = pd.read_csv('output/'+case4+'/EDprice.csv',header=None)*12\n",
    "case5 = 'Strategic/MarginalCost/UC25ED1_Strategic_true_ratio1.0_Seg1_BAW0_MC50.0'\n",
    "RTPrice5 = pd.read_csv('output/'+case5+'/EDprice.csv',header=None)*12\n",
    "\n",
    "# Create a 2x4 grid of subplots\n",
    "# fig, axs = plt.subplots(2, 4, figsize=(16, 9))\n",
    "fig, axs = plt.subplots(1, 2, figsize=(10, 6))\n",
    "\n",
    "# Loop through each column and each subplot\n",
    "for idx, (col, ax) in enumerate(zip([0,1], axs.flatten())):\n",
    "    sorted_vals = np.sort(Pivot_HistoryPrice.iloc[:,col].values)[::-1]\n",
    "    sorted_vals1 = np.sort(RTPrice1[col].values)[::-1]\n",
    "    sorted_vals2 = np.sort(RTPrice2[col].values)[::-1]\n",
    "    sorted_vals3 = np.sort(RTPrice3[col].values)[::-1]\n",
    "    sorted_vals4 = np.sort(RTPrice4[col].values)[::-1]\n",
    "    sorted_vals5 = np.sort(RTPrice5[col].values)[::-1]\n",
    "\n",
    "    \n",
    "    # Calculate the \"reverse\" cumulative distribution\n",
    "    cdf = np.arange(1, len(sorted_vals) + 1) / float(len(sorted_vals))\n",
    "    cdf1 = np.arange(1, len(sorted_vals1) + 1) / float(len(sorted_vals1))\n",
    "    cdf2 = np.arange(1, len(sorted_vals2) + 1) / float(len(sorted_vals2))\n",
    "    cdf3 = np.arange(1, len(sorted_vals3) + 1) / float(len(sorted_vals3))\n",
    "    cdf4 = np.arange(1, len(sorted_vals4) + 1) / float(len(sorted_vals4))\n",
    "    cdf5 = np.arange(1, len(sorted_vals5) + 1) / float(len(sorted_vals5))\n",
    "    \n",
    "    # Plot the CDF\n",
    "    ax.plot(cdf,sorted_vals)\n",
    "    ax.plot(cdf1,sorted_vals1)\n",
    "    ax.plot(cdf2,sorted_vals2)\n",
    "    ax.plot(cdf3,sorted_vals3)\n",
    "    ax.plot(cdf4,sorted_vals4)\n",
    "    ax.plot(cdf5,sorted_vals5)\n",
    "\n",
    "    ax.set_xlim(0.01, 0.5)\n",
    "    ax.set_ylim(50, 500)\n",
    "    ax.legend(['Historical','MC10', 'MC20', 'MC30', 'MC40', 'MC50'],fontsize=20)\n",
    "    ax.set_title(f\"High Price CDF of Region {idx+1}\",fontsize=20)\n",
    "    ax.tick_params(axis='both', which='major', labelsize=20)\n",
    "    ax.set_ylabel(\"Real-time Price ($/MWh)\",fontsize=20)\n",
    "\n",
    "plt.tight_layout()\n",
    "plt.show()"
   ]
  },
  {
   "cell_type": "code",
   "execution_count": null,
   "id": "01ba47c4",
   "metadata": {},
   "outputs": [],
   "source": [
    "HistoryPrice = pd.read_csv('output/20220101-20221231 CAISO Real-time Price.csv')\n",
    "HistoryPrice = HistoryPrice.drop_duplicates(subset=['Date', 'hub'])\n",
    "Pivot_HistoryPrice = HistoryPrice.pivot(index='Date', columns='hub', values='price')\n",
    "\n",
    "case1 = 'Strategic/MarginalCost/UC25ED1_Strategic_true_ratio1.0_Seg1_BAW0_MC10.0'\n",
    "RTPrice1 = pd.read_csv('output/'+case1+'/EDprice.csv',header=None)*12\n",
    "case2 = 'Strategic/MarginalCost/UC25ED1_Strategic_true_ratio1.0_Seg1_BAW0_MC20.0'\n",
    "RTPrice2 = pd.read_csv('output/'+case2+'/EDprice.csv',header=None)*12\n",
    "case3 = 'Strategic/MarginalCost/UC25ED1_Strategic_true_ratio1.0_Seg1_BAW0_MC30.0'\n",
    "RTPrice3 = pd.read_csv('output/'+case3+'/EDprice.csv',header=None)*12\n",
    "case4 = 'Strategic/MarginalCost/UC25ED1_Strategic_true_ratio1.0_Seg1_BAW0_MC40.0'\n",
    "RTPrice4 = pd.read_csv('output/'+case4+'/EDprice.csv',header=None)*12\n",
    "case5 = 'Strategic/MarginalCost/UC25ED1_Strategic_true_ratio1.0_Seg1_BAW0_MC50.0'\n",
    "RTPrice5 = pd.read_csv('output/'+case5+'/EDprice.csv',header=None)*12\n",
    "\n",
    "# Create a 2x4 grid of subplots\n",
    "# fig, axs = plt.subplots(2, 4, figsize=(16, 9))\n",
    "fig, axs = plt.subplots(1, 2, figsize=(10, 6))\n",
    "\n",
    "# Loop through each column and each subplot\n",
    "for idx, (col, ax) in enumerate(zip([0,1], axs.flatten())):\n",
    "    sorted_vals = np.sort(Pivot_HistoryPrice.iloc[:,col].values)[::-1]\n",
    "    sorted_vals1 = np.sort(RTPrice1[col].values)[::-1]\n",
    "    sorted_vals2 = np.sort(RTPrice2[col].values)[::-1]\n",
    "    sorted_vals3 = np.sort(RTPrice3[col].values)[::-1]\n",
    "    sorted_vals4 = np.sort(RTPrice4[col].values)[::-1]\n",
    "    sorted_vals5 = np.sort(RTPrice5[col].values)[::-1]\n",
    "\n",
    "    \n",
    "    # Calculate the \"reverse\" cumulative distribution\n",
    "    cdf = np.arange(1, len(sorted_vals) + 1) / float(len(sorted_vals))\n",
    "    cdf1 = np.arange(1, len(sorted_vals1) + 1) / float(len(sorted_vals1))\n",
    "    cdf2 = np.arange(1, len(sorted_vals2) + 1) / float(len(sorted_vals2))\n",
    "    cdf3 = np.arange(1, len(sorted_vals3) + 1) / float(len(sorted_vals3))\n",
    "    cdf4 = np.arange(1, len(sorted_vals4) + 1) / float(len(sorted_vals4))\n",
    "    cdf5 = np.arange(1, len(sorted_vals5) + 1) / float(len(sorted_vals5))\n",
    "    \n",
    "    # Plot the CDF\n",
    "    ax.plot(cdf,sorted_vals)\n",
    "    ax.plot(cdf1,sorted_vals1)\n",
    "    ax.plot(cdf2,sorted_vals2)\n",
    "    ax.plot(cdf3,sorted_vals3)\n",
    "    ax.plot(cdf4,sorted_vals4)\n",
    "    ax.plot(cdf5,sorted_vals5)\n",
    "\n",
    "    ax.set_xlim(0.7, 1.01)\n",
    "    ax.set_ylim(-50, 200)\n",
    "    ax.legend(['Historical','MC10', 'MC20', 'MC30', 'MC40', 'MC50'],fontsize=20)\n",
    "    ax.set_title(f\"Low Price CDF of Region {idx+1}\",fontsize=20)\n",
    "    ax.tick_params(axis='both', which='major', labelsize=20)\n",
    "    ax.set_ylabel(\"Real-time Price ($/MWh)\",fontsize=20)\n",
    "\n",
    "plt.tight_layout()\n",
    "plt.show()"
   ]
  },
  {
   "cell_type": "code",
   "execution_count": null,
   "id": "487e67a5",
   "metadata": {},
   "outputs": [],
   "source": [
    "HistoryPrice = pd.read_csv('output/20220101-20221231 CAISO Real-time Price.csv')\n",
    "HistoryPrice = HistoryPrice.drop_duplicates(subset=['Date', 'hub'])\n",
    "Pivot_HistoryPrice = HistoryPrice.pivot(index='Date', columns='hub', values='price')\n",
    "\n",
    "case1 = 'Strategic/UC25ED1_Strategic_true_Seg1_Load1.0_Fuel1.2_Error0.25_25MW_MIP0.1_NSDAB'\n",
    "RTPrice1 = pd.read_csv('output/'+case1+'/EDprice.csv',header=None)*12\n",
    "case5 = 'Strategic/UC25ED1_Strategic_true_Seg5_Load1.0_Fuel1.2_Error0.25_25MW_MIP0.1_NSDAB'\n",
    "RTPrice5 = pd.read_csv('output/'+case5+'/EDprice.csv',header=None)*12\n",
    "case1mar = 'Strategic/UC25ED1_Strategic_true_Seg1_Load1.0_Fuel1.2_Error0.25_Margin_MIP0.1_NSDAB'\n",
    "RTPrice1mar = pd.read_csv('output/'+case1+'/EDprice.csv',header=None)*12\n",
    "case5mar = 'Strategic/UC25ED1_Strategic_true_Seg5_Load1.0_Fuel1.2_Error0.25_Margin_MIP0.1_NSDAB'\n",
    "RTPrice5mar = pd.read_csv('output/'+case5+'/EDprice.csv',header=None)*12\n",
    "case3 = 'DecUpdate/UC25ED1_Strategic_false_Seg1_Load1.0_Fuel1.2_Error0.25_5GWBES_1yr_ESBid_Emergen'\n",
    "RTPrice3 = pd.read_csv('output/'+case3+'/EDprice.csv',header=None)*12\n",
    "\n",
    "# Create a 2x4 grid of subplots\n",
    "# fig, axs = plt.subplots(2, 4, figsize=(16, 9))\n",
    "fig, axs = plt.subplots(1, 2, figsize=(10, 6))\n",
    "\n",
    "# Loop through each column and each subplot\n",
    "for idx, (col, ax) in enumerate(zip([0,1], axs.flatten())):\n",
    "    sorted_vals = np.sort(Pivot_HistoryPrice.iloc[:,col].values)[::-1]\n",
    "    sorted_vals1 = np.sort(RTPrice1[col].values)[::-1]\n",
    "    sorted_vals2 = np.sort(RTPrice5[col].values)[::-1]\n",
    "    sorted_vals1mar = np.sort(RTPrice1mar[col].values)[::-1]\n",
    "    sorted_vals2mar = np.sort(RTPrice5mar[col].values)[::-1]\n",
    "    sorted_vals3 = np.sort(RTPrice3[col].values)[::-1]\n",
    "    \n",
    "    # Calculate the \"reverse\" cumulative distribution\n",
    "    cdf = np.arange(1, len(sorted_vals) + 1) / float(len(sorted_vals))\n",
    "    cdf1 = np.arange(1, len(sorted_vals1) + 1) / float(len(sorted_vals1))\n",
    "    cdf2 = np.arange(1, len(sorted_vals2) + 1) / float(len(sorted_vals2))\n",
    "    cdf1mar = np.arange(1, len(sorted_vals1mar) + 1) / float(len(sorted_vals1mar))\n",
    "    cdf2mar = np.arange(1, len(sorted_vals2mar) + 1) / float(len(sorted_vals2mar))\n",
    "    cdf3 = np.arange(1, len(sorted_vals3) + 1) / float(len(sorted_vals3))\n",
    "\n",
    "    \n",
    "    # Plot the CDF\n",
    "    ax.plot(cdf,sorted_vals)\n",
    "    ax.plot(cdf1,sorted_vals1)\n",
    "    ax.plot(cdf2,sorted_vals2)\n",
    "#     ax.plot(cdf1mar,sorted_vals1mar, linestyle='--')\n",
    "#     ax.plot(cdf2mar,sorted_vals2mar, linestyle='--')\n",
    "    ax.plot(cdf3,sorted_vals3)\n",
    "\n",
    "    ax.set_xlim(0.7, 0.9)\n",
    "    ax.set_ylim(10, 60)\n",
    "    ax.legend(['Historical', 'Seg1', 'Seg5', 'Base'],fontsize=20)\n",
    "    ax.set_title(f\"Low Price CDF of Region {idx+1}\",fontsize=20)\n",
    "    ax.tick_params(axis='both', which='major', labelsize=20)\n",
    "    ax.set_ylabel(\"Real-time Price ($/MWh)\",fontsize=20)\n",
    "\n",
    "plt.tight_layout()\n",
    "plt.show()"
   ]
  },
  {
   "cell_type": "code",
   "execution_count": null,
   "id": "53824e5d",
   "metadata": {},
   "outputs": [],
   "source": [
    "sorted_vals_S1 = np.sort(S1)[::-1]\n",
    "sorted_vals_S5 = np.sort(S5)[::-1]\n",
    "plt.plot(range(len(S1)), sorted_vals_S1, label='1Seg', color='blue', linewidth=2)\n",
    "plt.plot(range(len(S5)), sorted_vals_S5, label='5Seg', color='red', linewidth=2)\n",
    "plt.title('Power CDF')\n",
    "plt.legend()"
   ]
  },
  {
   "cell_type": "code",
   "execution_count": null,
   "id": "e3545662",
   "metadata": {},
   "outputs": [],
   "source": [
    "ESOC1 = pd.read_csv('output/Strategic/UC25ED1_Strategic_true_Seg1_Load1.0_Fuel1.2_Error0.25_test/EDSOCini.csv',header=None)\n",
    "ESOC5 = pd.read_csv('output/Strategic/UC25ED1_Strategic_true_Seg5_Load1.0_Fuel1.2_Error0.25_test/EDSOCini.csv',header=None)\n",
    "SOC1 = ESOC1[45]\n",
    "SOC5 = ESOC5[45]\n",
    "\n",
    "\n",
    "sorted_vals_SOC1 = np.sort(SOC1)[::-1]\n",
    "sorted_vals_SOC5 = np.sort(SOC5)[::-1]\n",
    "plt.plot(range(len(S1)), sorted_vals_SOC1, label='1Seg', color='blue', linewidth=2)\n",
    "plt.plot(range(len(S5)), sorted_vals_SOC5, label='5Seg', color='red', linewidth=2)\n",
    "plt.title('SOC CDF')\n",
    "plt.legend()"
   ]
  },
  {
   "cell_type": "code",
   "execution_count": null,
   "id": "80f2bb7d",
   "metadata": {},
   "outputs": [],
   "source": [
    "# ESOC = pd.read_csv('output/Strategic/UC25ED1_Strategic_true_Seg5_Load1.0_Fuel1.2_Error0.25_test/EDSOCini.csv',header=None)\n",
    "# plt.plot(range(len(ESOC)), ESOC[45], label='Series 1', color='blue', linewidth=2)\n"
   ]
  }
 ],
 "metadata": {
  "kernelspec": {
   "display_name": "Python 3 (ipykernel)",
   "language": "python",
   "name": "python3"
  },
  "language_info": {
   "codemirror_mode": {
    "name": "ipython",
    "version": 3
   },
   "file_extension": ".py",
   "mimetype": "text/x-python",
   "name": "python",
   "nbconvert_exporter": "python",
   "pygments_lexer": "ipython3",
   "version": "3.11.4"
  }
 },
 "nbformat": 4,
 "nbformat_minor": 5
}
