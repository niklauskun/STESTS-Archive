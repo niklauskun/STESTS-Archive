{
 "cells": [
  {
   "cell_type": "code",
   "execution_count": 42,
   "id": "32711b55",
   "metadata": {},
   "outputs": [],
   "source": [
    "import pandas as pd\n",
    "import numpy as np\n",
    "import matplotlib.pyplot as plt\n"
   ]
  },
  {
   "cell_type": "markdown",
   "id": "6fe38fb3",
   "metadata": {},
   "source": [
    "### Storage Parameters"
   ]
  },
  {
   "cell_type": "code",
   "execution_count": 43,
   "id": "082e37e0",
   "metadata": {},
   "outputs": [],
   "source": [
    "Ts = 1/12\n",
    "c = 10\n",
    "eta = 0.9\n",
    "# P = 8.3125\n",
    "# E = 4*P\n",
    "# E1 = 0.00665\n",
    "# E2 = 66.49335\n"
   ]
  },
  {
   "cell_type": "code",
   "execution_count": 107,
   "id": "bcf8e91e",
   "metadata": {},
   "outputs": [],
   "source": [
    "# price = pd.read_csv('output/Strategic/UC25ED1_Strategic_true_Seg5_Load1.0_Fuel1.2_Error0.25_ratio0.5_MIP0.1_DARTDP/EDprice.csv',header=None)\n"
   ]
  },
  {
   "cell_type": "code",
   "execution_count": 108,
   "id": "84c6fd32",
   "metadata": {},
   "outputs": [
    {
     "data": {
      "text/html": [
       "<div>\n",
       "<style scoped>\n",
       "    .dataframe tbody tr th:only-of-type {\n",
       "        vertical-align: middle;\n",
       "    }\n",
       "\n",
       "    .dataframe tbody tr th {\n",
       "        vertical-align: top;\n",
       "    }\n",
       "\n",
       "    .dataframe thead th {\n",
       "        text-align: right;\n",
       "    }\n",
       "</style>\n",
       "<table border=\"1\" class=\"dataframe\">\n",
       "  <thead>\n",
       "    <tr style=\"text-align: right;\">\n",
       "      <th></th>\n",
       "      <th>0</th>\n",
       "      <th>1</th>\n",
       "      <th>2</th>\n",
       "      <th>3</th>\n",
       "      <th>4</th>\n",
       "      <th>5</th>\n",
       "      <th>6</th>\n",
       "    </tr>\n",
       "  </thead>\n",
       "  <tbody>\n",
       "    <tr>\n",
       "      <th>0</th>\n",
       "      <td>68.162860</td>\n",
       "      <td>75.437581</td>\n",
       "      <td>61.760545</td>\n",
       "      <td>92.260737</td>\n",
       "      <td>66.430410</td>\n",
       "      <td>61.683545</td>\n",
       "      <td>74.479164</td>\n",
       "    </tr>\n",
       "    <tr>\n",
       "      <th>1</th>\n",
       "      <td>33.012221</td>\n",
       "      <td>41.067282</td>\n",
       "      <td>44.728852</td>\n",
       "      <td>507.169053</td>\n",
       "      <td>32.713392</td>\n",
       "      <td>42.552797</td>\n",
       "      <td>66.065588</td>\n",
       "    </tr>\n",
       "  </tbody>\n",
       "</table>\n",
       "</div>"
      ],
      "text/plain": [
       "           0          1          2           3          4          5  \\\n",
       "0  68.162860  75.437581  61.760545   92.260737  66.430410  61.683545   \n",
       "1  33.012221  41.067282  44.728852  507.169053  32.713392  42.552797   \n",
       "\n",
       "           6  \n",
       "0  74.479164  \n",
       "1  66.065588  "
      ]
     },
     "execution_count": 108,
     "metadata": {},
     "output_type": "execute_result"
    }
   ],
   "source": [
    "# df = pd.concat([price.mean()*12, (price*12).std()], axis=1)\n",
    "# df.T"
   ]
  },
  {
   "cell_type": "code",
   "execution_count": 109,
   "id": "1402a903",
   "metadata": {},
   "outputs": [],
   "source": [
    "# cost = pd.read_csv('output/Strategic/UC25ED1_Strategic_true_Seg5_Load1.0_Fuel1.2_Error0.25_ratio0.5_MIP0.1_DARTDP/EDcost.csv',header=None)"
   ]
  },
  {
   "cell_type": "code",
   "execution_count": 110,
   "id": "e7ffad9a",
   "metadata": {},
   "outputs": [
    {
     "data": {
      "text/plain": [
       "0    2.746065\n",
       "dtype: float64"
      ]
     },
     "execution_count": 110,
     "metadata": {},
     "output_type": "execute_result"
    }
   ],
   "source": [
    "# cost.sum()/(10**10)"
   ]
  },
  {
   "cell_type": "code",
   "execution_count": 120,
   "id": "abe98101",
   "metadata": {},
   "outputs": [],
   "source": [
    "ESD = pd.read_csv('output/Strategic/UC25ED1_Strategic_true_Seg5_Load1.0_Fuel1.2_Error0.25_ratio0.3_MIP0.1_DARTDP/EDESD.csv',header=None)\n",
    "ESC = pd.read_csv('output/Strategic/UC25ED1_Strategic_true_Seg5_Load1.0_Fuel1.2_Error0.25_ratio0.3_MIP0.1_DARTDP/EDESC.csv',header=None)\n",
    "price = pd.read_csv('output/Strategic/UC25ED1_Strategic_true_Seg5_Load1.0_Fuel1.2_Error0.25_ratio0.3_MIP0.1_DARTDP/EDprice.csv',header=None)\n",
    "ES = pd.read_csv('output/Strategic/UC25ED1_Strategic_true_Seg5_Load1.0_Fuel1.2_Error0.25_ratio0.3_MIP0.1_DARTDP/Strategic/ADDED_ES.csv')"
   ]
  },
  {
   "cell_type": "code",
   "execution_count": 121,
   "id": "a5a72488",
   "metadata": {
    "scrolled": true
   },
   "outputs": [
    {
     "data": {
      "text/html": [
       "<div>\n",
       "<style scoped>\n",
       "    .dataframe tbody tr th:only-of-type {\n",
       "        vertical-align: middle;\n",
       "    }\n",
       "\n",
       "    .dataframe tbody tr th {\n",
       "        vertical-align: top;\n",
       "    }\n",
       "\n",
       "    .dataframe thead th {\n",
       "        text-align: right;\n",
       "    }\n",
       "</style>\n",
       "<table border=\"1\" class=\"dataframe\">\n",
       "  <thead>\n",
       "    <tr style=\"text-align: right;\">\n",
       "      <th></th>\n",
       "      <th>0</th>\n",
       "      <th>1</th>\n",
       "      <th>2</th>\n",
       "      <th>3</th>\n",
       "      <th>4</th>\n",
       "      <th>5</th>\n",
       "      <th>6</th>\n",
       "      <th>7</th>\n",
       "      <th>8</th>\n",
       "      <th>9</th>\n",
       "      <th>10</th>\n",
       "      <th>11</th>\n",
       "    </tr>\n",
       "  </thead>\n",
       "  <tbody>\n",
       "    <tr>\n",
       "      <th></th>\n",
       "      <td>S1</td>\n",
       "      <td>NS1</td>\n",
       "      <td>S2</td>\n",
       "      <td>NS2</td>\n",
       "      <td>S3</td>\n",
       "      <td>NS3</td>\n",
       "      <td>S4</td>\n",
       "      <td>NS4</td>\n",
       "      <td>S5</td>\n",
       "      <td>NS5</td>\n",
       "      <td>S6</td>\n",
       "      <td>NS6</td>\n",
       "    </tr>\n",
       "    <tr>\n",
       "      <th>Revenue (k$)</th>\n",
       "      <td>221.60098</td>\n",
       "      <td>86.607378</td>\n",
       "      <td>44524.731883</td>\n",
       "      <td>-13993.124924</td>\n",
       "      <td>16276.242362</td>\n",
       "      <td>11025.815061</td>\n",
       "      <td>8586.556782</td>\n",
       "      <td>13611.390315</td>\n",
       "      <td>34.727927</td>\n",
       "      <td>27.042142</td>\n",
       "      <td>1379.871948</td>\n",
       "      <td>1042.0273</td>\n",
       "    </tr>\n",
       "    <tr>\n",
       "      <th>Profit (k$)</th>\n",
       "      <td>184.665919</td>\n",
       "      <td>12.215623</td>\n",
       "      <td>36298.882031</td>\n",
       "      <td>-29777.227944</td>\n",
       "      <td>13452.121646</td>\n",
       "      <td>5246.838332</td>\n",
       "      <td>8064.629115</td>\n",
       "      <td>12892.187585</td>\n",
       "      <td>28.901702</td>\n",
       "      <td>15.133618</td>\n",
       "      <td>1170.314289</td>\n",
       "      <td>619.748071</td>\n",
       "    </tr>\n",
       "    <tr>\n",
       "      <th>Unit Profit (k$/MWh)</th>\n",
       "      <td>9.256437</td>\n",
       "      <td>0.262419</td>\n",
       "      <td>8.252315</td>\n",
       "      <td>-2.901283</td>\n",
       "      <td>10.258615</td>\n",
       "      <td>1.714821</td>\n",
       "      <td>43.781917</td>\n",
       "      <td>29.995783</td>\n",
       "      <td>9.633901</td>\n",
       "      <td>2.161945</td>\n",
       "      <td>11.14585</td>\n",
       "      <td>3.908542</td>\n",
       "    </tr>\n",
       "    <tr>\n",
       "      <th>Cycle</th>\n",
       "      <td>205.709055</td>\n",
       "      <td>177.567143</td>\n",
       "      <td>207.788179</td>\n",
       "      <td>170.876831</td>\n",
       "      <td>239.297789</td>\n",
       "      <td>209.859962</td>\n",
       "      <td>314.831503</td>\n",
       "      <td>185.926977</td>\n",
       "      <td>215.786124</td>\n",
       "      <td>189.024184</td>\n",
       "      <td>221.754136</td>\n",
       "      <td>191.509854</td>\n",
       "    </tr>\n",
       "  </tbody>\n",
       "</table>\n",
       "</div>"
      ],
      "text/plain": [
       "                              0           1             2             3   \\\n",
       "                              S1         NS1            S2           NS2   \n",
       "Revenue (k$)           221.60098   86.607378  44524.731883 -13993.124924   \n",
       "Profit (k$)           184.665919   12.215623  36298.882031 -29777.227944   \n",
       "Unit Profit (k$/MWh)    9.256437    0.262419      8.252315     -2.901283   \n",
       "Cycle                 205.709055  177.567143    207.788179    170.876831   \n",
       "\n",
       "                                4             5            6             7   \\\n",
       "                                S3           NS3           S4           NS4   \n",
       "Revenue (k$)          16276.242362  11025.815061  8586.556782  13611.390315   \n",
       "Profit (k$)           13452.121646   5246.838332  8064.629115  12892.187585   \n",
       "Unit Profit (k$/MWh)     10.258615      1.714821    43.781917     29.995783   \n",
       "Cycle                   239.297789    209.859962   314.831503    185.926977   \n",
       "\n",
       "                              8           9            10          11  \n",
       "                              S5         NS5           S6         NS6  \n",
       "Revenue (k$)           34.727927   27.042142  1379.871948   1042.0273  \n",
       "Profit (k$)            28.901702   15.133618  1170.314289  619.748071  \n",
       "Unit Profit (k$/MWh)    9.633901    2.161945     11.14585    3.908542  \n",
       "Cycle                 215.786124  189.024184   221.754136  191.509854  "
      ]
     },
     "execution_count": 121,
     "metadata": {},
     "output_type": "execute_result"
    }
   ],
   "source": [
    "data = [\n",
    "    ['S1', sum((ESD[35]-ESC[35])*price[0])/1000, sum((ESD[35]-ESC[35])*price[0] - Ts*c*ESD[35])/1000, sum((ESD[35]-ESC[35])*price[0] - Ts*c*ESD[35])/1000/ES['ESOC'][0], sum(ESD[35])/eta*Ts/ES['ESOC'][0]],\n",
    "    ['NS1', sum((ESD[36]-ESC[36])*price[0])/1000, sum((ESD[36]-ESC[36])*price[0] - Ts*c*ESD[36])/1000, sum((ESD[36]-ESC[36])*price[0] - Ts*c*ESD[36])/1000/ES['ESOC'][1], sum(ESD[36])/eta*Ts/ES['ESOC'][1]],\n",
    "    ['S2', sum((ESD[37]-ESC[37])*price[1])/1000, sum((ESD[37]-ESC[37])*price[1] - Ts*c*ESD[37])/1000, sum((ESD[37]-ESC[37])*price[1] - Ts*c*ESD[37])/1000/ES['ESOC'][2], sum(ESD[37])/eta*Ts/ES['ESOC'][2]],\n",
    "    ['NS2', sum((ESD[38]-ESC[38])*price[1])/1000, sum((ESD[38]-ESC[38])*price[1] - Ts*c*ESD[38])/1000, sum((ESD[38]-ESC[38])*price[1] - Ts*c*ESD[38])/1000/ES['ESOC'][3], sum(ESD[38])/eta*Ts/ES['ESOC'][3]],\n",
    "    ['S3', sum((ESD[39]-ESC[39])*price[2])/1000, sum((ESD[39]-ESC[39])*price[2] - Ts*c*ESD[39])/1000, sum((ESD[39]-ESC[39])*price[2] - Ts*c*ESD[39])/1000/ES['ESOC'][4], sum(ESD[39])/eta*Ts/ES['ESOC'][4]],\n",
    "    ['NS3', sum((ESD[40]-ESC[40])*price[2])/1000, sum((ESD[40]-ESC[40])*price[2] - Ts*c*ESD[40])/1000, sum((ESD[40]-ESC[40])*price[2] - Ts*c*ESD[40])/1000/ES['ESOC'][5], sum(ESD[40])/eta*Ts/ES['ESOC'][5]],\n",
    "    ['S4', sum((ESD[41]-ESC[41])*price[3])/1000, sum((ESD[41]-ESC[41])*price[3] - Ts*c*ESD[41])/1000, sum((ESD[41]-ESC[41])*price[3] - Ts*c*ESD[41])/1000/ES['ESOC'][6], sum(ESD[41])/eta*Ts/ES['ESOC'][6]],\n",
    "    ['NS4', sum((ESD[42]-ESC[42])*price[3])/1000, sum((ESD[42]-ESC[42])*price[3] - Ts*c*ESD[42])/1000, sum((ESD[42]-ESC[42])*price[3] - Ts*c*ESD[42])/1000/ES['ESOC'][7], sum(ESD[42])/eta*Ts/ES['ESOC'][7]],\n",
    "    ['S5', sum((ESD[43]-ESC[43])*price[4])/1000, sum((ESD[43]-ESC[43])*price[4] - Ts*c*ESD[43])/1000, sum((ESD[43]-ESC[43])*price[4] - Ts*c*ESD[43])/1000/ES['ESOC'][8], sum(ESD[43])/eta*Ts/ES['ESOC'][8]],\n",
    "    ['NS5', sum((ESD[44]-ESC[44])*price[4])/1000, sum((ESD[44]-ESC[44])*price[4] - Ts*c*ESD[44])/1000, sum((ESD[44]-ESC[44])*price[4] - Ts*c*ESD[44])/1000/ES['ESOC'][9], sum(ESD[44])/eta*Ts/ES['ESOC'][9]],\n",
    "    ['S6', sum((ESD[45]-ESC[45])*price[5])/1000, sum((ESD[45]-ESC[45])*price[5] - Ts*c*ESD[45])/1000, sum((ESD[45]-ESC[45])*price[5] - Ts*c*ESD[45])/1000/ES['ESOC'][10], sum(ESD[45])/eta*Ts/ES['ESOC'][10]],\n",
    "    ['NS6', sum((ESD[46]-ESC[46])*price[5])/1000, sum((ESD[46]-ESC[46])*price[5] - Ts*c*ESD[46])/1000, sum((ESD[45]-ESC[45])*price[5] - Ts*c*ESD[46])/1000/ES['ESOC'][11], sum(ESD[46])/eta*Ts/ES['ESOC'][11]],\n",
    "]\n",
    "column_names = ['', 'Revenue (k$)', 'Profit (k$)', 'Unit Profit (k$/MWh)', 'Cycle']\n",
    "df = pd.DataFrame(data, columns=column_names)\n",
    "df.T\n"
   ]
  },
  {
   "cell_type": "code",
   "execution_count": 117,
   "id": "34d68277",
   "metadata": {},
   "outputs": [],
   "source": [
    "ESD1 = pd.read_csv('output/Strategic/UC25ED1_Strategic_true_Seg1_Load1.0_Fuel1.2_Error0.25_ratio0.0001_MIP0.1_DARTDP/EDESD.csv',header=None)\n",
    "ESC1 = pd.read_csv('output/Strategic/UC25ED1_Strategic_true_Seg1_Load1.0_Fuel1.2_Error0.25_ratio0.0001_MIP0.1_DARTDP/EDESC.csv',header=None)\n",
    "price1 = pd.read_csv('output/Strategic/UC25ED1_Strategic_true_Seg1_Load1.0_Fuel1.2_Error0.25_ratio0.0001_MIP0.1_DARTDP/EDprice.csv',header=None)\n",
    "DAprice1 = pd.read_csv('output/Strategic/UC25ED1_Strategic_true_Seg1_Load1.0_Fuel1.2_Error0.25_ratio0.5_MIP0.1_DARTDP/UCprice.csv',header=None)"
   ]
  },
  {
   "cell_type": "code",
   "execution_count": null,
   "id": "806bb7e5",
   "metadata": {},
   "outputs": [],
   "source": [
    "ES['ESOC'][1]"
   ]
  },
  {
   "cell_type": "code",
   "execution_count": null,
   "id": "18ee3e2f",
   "metadata": {},
   "outputs": [],
   "source": [
    "Profit_S1"
   ]
  },
  {
   "cell_type": "code",
   "execution_count": null,
   "id": "59ee03b5",
   "metadata": {
    "scrolled": false
   },
   "outputs": [],
   "source": [
    "repeated_indices = np.repeat(DAprice1.index, 12)\n",
    "repeated_DAprice1 = DAprice1.loc[repeated_indices].reset_index(drop=True)"
   ]
  },
  {
   "cell_type": "code",
   "execution_count": null,
   "id": "555e0896",
   "metadata": {},
   "outputs": [],
   "source": [
    "plt.figure(figsize=(10, 6))  # Optional: Specifies the figure size\n",
    "plt.plot(range(2017), price1.loc[0:2016,0]*12, label='RT')  # Plot first column\n",
    "plt.plot(range(2017), repeated_DAprice1.loc[0:2016,0], label='DA', linestyle='--')  # Plot second column with a different style\n",
    "\n",
    "# Adding labels and title\n",
    "# plt.xlabel('Index')  # Adjust as per your requirement\n",
    "plt.ylabel('$/MWh')  # Adjust as per your requirement\n",
    "# plt.title('Line Plot of Two DataFrame Columns')\n",
    "plt.legend()\n",
    "\n",
    "# Show plot\n",
    "plt.show()"
   ]
  },
  {
   "cell_type": "code",
   "execution_count": null,
   "id": "9ee53e98",
   "metadata": {},
   "outputs": [],
   "source": [
    "ESD1 = pd.read_csv('output/Strategic/UC25ED1_Strategic_true_Seg1_Load1.0_Fuel1.2_Error0.25_ratio0.5_MIP0.1_DARTDP/EDESD.csv',header=None)\n",
    "ESC1 = pd.read_csv('output/Strategic/UC25ED1_Strategic_true_Seg1_Load1.0_Fuel1.2_Error0.25_ratio0.5_MIP0.1_DARTDP/EDESC.csv',header=None)\n",
    "price1 = pd.read_csv('output/Strategic/UC25ED1_Strategic_true_Seg1_Load1.0_Fuel1.2_Error0.25_ratio0.5_MIP0.1_DARTDP/EDprice.csv',header=None)\n",
    "\n",
    "ESD5 = pd.read_csv('output/Strategic/UC25ED1_Strategic_true_Seg5_Load1.0_Fuel1.2_Error0.25_ratio0.5_MIP0.1_DARTDP/EDESD.csv',header=None)\n",
    "ESC5 = pd.read_csv('output/Strategic/UC25ED1_Strategic_true_Seg5_Load1.0_Fuel1.2_Error0.25_ratio0.5_MIP0.1_DARTDP/EDESC.csv',header=None)\n",
    "price5 = pd.read_csv('output/Strategic/UC25ED1_Strategic_true_Seg5_Load1.0_Fuel1.2_Error0.25_ratio0.5_MIP0.1_DARTDP/EDprice.csv',header=None)\n",
    "\n",
    "ESD1mar = pd.read_csv('output/Strategic/UC25ED1_Strategic_true_Seg1_Load1.0_Fuel1.2_Error0.25_ratio0.0001_MIP0.1_DARTDP/EDESD.csv',header=None)\n",
    "ESC1mar = pd.read_csv('output/Strategic/UC25ED1_Strategic_true_Seg1_Load1.0_Fuel1.2_Error0.25_ratio0.0001_MIP0.1_DARTDP/EDESC.csv',header=None)\n",
    "price1mar = pd.read_csv('output/Strategic/UC25ED1_Strategic_true_Seg1_Load1.0_Fuel1.2_Error0.25_ratio0.0001_MIP0.1_DARTDP/EDprice.csv',header=None)\n",
    "\n",
    "ESD5mar = pd.read_csv('output/Strategic/UC25ED1_Strategic_true_Seg5_Load1.0_Fuel1.2_Error0.25_ratio0.0001_MIP0.1_DARTDP/EDESD.csv',header=None)\n",
    "ESC5mar = pd.read_csv('output/Strategic/UC25ED1_Strategic_true_Seg5_Load1.0_Fuel1.2_Error0.25_ratio0.0001_MIP0.1_DARTDP/EDESC.csv',header=None)\n",
    "price5mar = pd.read_csv('output/Strategic/UC25ED1_Strategic_true_Seg5_Load1.0_Fuel1.2_Error0.25_ratio0.0001_MIP0.1_DARTDP/EDprice.csv',header=None)\n"
   ]
  },
  {
   "cell_type": "code",
   "execution_count": null,
   "id": "b9b52488",
   "metadata": {},
   "outputs": [],
   "source": [
    "Zone2Price1 = price1[0]\n",
    "SD1 = ESD1[35]\n",
    "SC1 = ESC1[35]\n",
    "NSD1 = ESD1[36]\n",
    "NSC1 = ESC1[36]\n",
    "Zone2Price5 = price5[0]\n",
    "SD5 = ESD5[35]\n",
    "SC5 = ESC5[35]\n",
    "NSD5 = ESD5[36]\n",
    "NSC5 = ESC5[36]\n",
    "Zone2Price1mar = price1mar[0]\n",
    "SD1mar = ESD1mar[35]\n",
    "SC1mar = ESC1mar[35]\n",
    "NSD1mar = ESD1mar[36]\n",
    "NSC1mar = ESC1mar[36]\n",
    "Zone2Price5mar = price5mar[1]\n",
    "SD5mar = ESD5mar[35]\n",
    "SC5mar = ESC5mar[35]\n",
    "NSD5mar = ESD5mar[36]\n",
    "NSC5mar = ESC5mar[36]"
   ]
  },
  {
   "cell_type": "code",
   "execution_count": null,
   "id": "e9fe9bf1",
   "metadata": {},
   "outputs": [],
   "source": [
    "S1 = SD1-SC1\n",
    "NS1 = NSD1-NSC1\n",
    "S5 = SD5-SC5\n",
    "NS5 = NSD5-NSC5\n",
    "S1mar = SD1mar-SC1mar\n",
    "NS1mar = NSD1mar-NSC1mar\n",
    "S5mar = SD5mar-SC5mar\n",
    "NS5mar = NSD5mar-NSC5mar"
   ]
  },
  {
   "cell_type": "code",
   "execution_count": null,
   "id": "e24fe92f",
   "metadata": {},
   "outputs": [],
   "source": [
    "Revenue_S1 = sum(S1*Zone2Price1) \n",
    "Profit_S1 = sum(S1*Zone2Price1 - Ts*c*SD1)\n",
    "Cycle_S1 = sum(SD1)/eta*Ts/E\n",
    "Revenue_NS1 = sum(NS1*Zone2Price1)\n",
    "Profit_NS1 = sum(NS1*Zone2Price1 - Ts*c*NSD1)\n",
    "Cycle_NS1 = sum(NSD1)/eta*Ts/E\n"
   ]
  },
  {
   "cell_type": "code",
   "execution_count": null,
   "id": "d2b957c3",
   "metadata": {},
   "outputs": [],
   "source": [
    "Revenue_S5 = sum(S5*Zone2Price5) \n",
    "Profit_S5 = sum(S5*Zone2Price5 - Ts*c*SD5)\n",
    "Cycle_S5 = sum(SD5)/eta*Ts/E\n",
    "Revenue_NS5 = sum(NS5*Zone2Price5)\n",
    "Profit_NS5 = sum(NS5*Zone2Price5 - Ts*c*NSD5) \n",
    "Cycle_NS5 = sum(NSD5)/eta*Ts/E\n"
   ]
  },
  {
   "cell_type": "code",
   "execution_count": null,
   "id": "5431d51c",
   "metadata": {},
   "outputs": [],
   "source": [
    "Revenue_S1mar = sum(S1mar*Zone2Price1mar) \n",
    "Profit_S1mar = sum(S1mar*Zone2Price1mar - Ts*c*SD1mar)\n",
    "Cycle_S1mar = sum(SD1mar)/eta*Ts/E1\n",
    "Revenue_NS1mar = sum(NS1mar*Zone2Price1mar)\n",
    "Profit_NS1mar = sum(NS1mar*Zone2Price1mar - Ts*c*NSD1mar) \n",
    "Cycle_NS1mar = sum(NSD1mar)/eta*Ts/E2"
   ]
  },
  {
   "cell_type": "code",
   "execution_count": null,
   "id": "3340d760",
   "metadata": {},
   "outputs": [],
   "source": [
    "Revenue_S5mar = sum(S5mar*Zone2Price5mar) \n",
    "Profit_S5mar = sum(S5mar*Zone2Price5mar - Ts*c*SD5mar)\n",
    "Cycle_S5mar = sum(SD5mar)/eta*Ts/E1\n",
    "Revenue_NS5mar = sum(NS5mar*Zone2Price5mar)\n",
    "Profit_NS5mar = sum(NS5mar*Zone2Price5mar - Ts*c*NSD5mar) \n",
    "Cycle_NS5mar = sum(NSD5mar)/eta*Ts/E2"
   ]
  },
  {
   "cell_type": "code",
   "execution_count": null,
   "id": "f2463306",
   "metadata": {
    "scrolled": true
   },
   "outputs": [],
   "source": [
    "data = [\n",
    "    ['S-1Seg', Revenue_S1/1000, Profit_S1/1000, Profit_S1/1000/E, Cycle_S1, Profit_S1/1000/E/27.992],\n",
    "    ['NS-1Seg', Revenue_NS1/1000, Profit_NS1/1000, Profit_NS1/1000/E, Cycle_NS1, Profit_NS1/1000/E/27.992],\n",
    "    ['S-5Seg', Revenue_S5/1000, Profit_S5/1000, Profit_S5/1000/E, Cycle_S5, Profit_S5/1000/E/27.992],\n",
    "    ['NS-5Seg', Revenue_NS5/1000, Profit_NS5/1000, Profit_NS5/1000/E, Cycle_NS5, Profit_NS5/1000/E/27.992],\n",
    "    ['S-1Seg_mar', Revenue_S1mar/1000, Profit_S1mar/1000, Profit_S1mar/1000/E1, Cycle_S1mar, Profit_S1mar/1000/E1/27.992],\n",
    "    ['NS-1Seg_mar', Revenue_NS1mar/1000, Profit_NS1mar/1000, Profit_NS1mar/1000/E2, Cycle_NS1mar, Profit_NS1mar/1000/E2/27.992],\n",
    "    ['S-5Seg_mar', Revenue_S5mar/1000, Profit_S5mar/1000, Profit_S5mar/1000/E1, Cycle_S5mar, Profit_S5mar/1000/E1/27.992],\n",
    "    ['NS-5Seg_mar', Revenue_NS5mar/1000, Profit_NS5mar/1000, Profit_NS5mar/1000/E2, Cycle_NS5mar, Profit_NS5mar/1000/E2/27.992],\n",
    "]\n",
    "column_names = ['', 'Revenue (k$)', 'Profit (k$)', 'Unit Profit (k$/MWh)', 'Cycle', 'Profit Ratio']\n",
    "df = pd.DataFrame(data, columns=column_names)\n",
    "df\n"
   ]
  },
  {
   "cell_type": "code",
   "execution_count": null,
   "id": "d5d51804",
   "metadata": {},
   "outputs": [],
   "source": [
    "# Set the positions and width for the bars\n",
    "positions = range(len(df))\n",
    "width = 0.35\n",
    "\n",
    "# Plotting the bar chart\n",
    "fig, ax1 = plt.subplots()\n",
    "\n",
    "# Bars for Revenue and Profit\n",
    "revenue_bars = ax1.bar(positions, df['Revenue (k$)']/100, width, label='Revenue (k$)', color='blue')\n",
    "profit_bars = ax1.bar([p + width for p in positions], df['Profit (k$)']/100, width, label='Profit (k$)', color='orange')\n",
    "\n",
    "# Add the second y-axis for the Profit Ratio\n",
    "ax2 = ax1.twinx()\n",
    "profit_ratio_dots, = ax2.plot([p + width/2 for p in positions], df['Profit Ratio'], 'ro', label='Profit Ratio')\n",
    "\n",
    "# Set the ticks and ticklabels for the x-axis\n",
    "ax1.set_xticks([p + width/2 for p in positions])\n",
    "ax1.set_xticklabels(['S-1Seg', 'NS-1Seg', 'S-5Seg', 'NS-5Seg','S-1Seg', 'NS-1Seg', 'S-5Seg', 'NS-5Seg'])\n",
    "\n",
    "# Set the axis labels\n",
    "# ax1.set_xlabel('Segment')\n",
    "ax1.set_ylabel('Revenue/Profit (k$)')\n",
    "ax2.set_ylabel('Profit Ratio')\n",
    "\n",
    "# Set the title of the graph\n",
    "plt.title('Revenue, Profit and Profit Ratio (per MWh)')\n",
    "\n",
    "# Create a legend by first getting handles and labels for the first y-axis and then the second y-axis\n",
    "handles, labels = ax1.get_legend_handles_labels()\n",
    "handles2, labels2 = ax2.get_legend_handles_labels()\n",
    "ax1.legend(handles + [profit_ratio_dots], labels + labels2, loc='upper right')\n",
    "\n",
    "# Adjust layout to make room for the legend\n",
    "plt.tight_layout()\n",
    "\n",
    "# Show the plot\n",
    "plt.show()"
   ]
  },
  {
   "cell_type": "markdown",
   "id": "779553db",
   "metadata": {},
   "source": [
    "### Plot"
   ]
  },
  {
   "cell_type": "code",
   "execution_count": null,
   "id": "05390d04",
   "metadata": {},
   "outputs": [],
   "source": [
    "HistoryPrice = pd.read_csv('output/20220101-20221231 CAISO Real-time Price.csv')\n",
    "HistoryPrice = HistoryPrice.drop_duplicates(subset=['Date', 'hub'])\n",
    "Pivot_HistoryPrice = HistoryPrice.pivot(index='Date', columns='hub', values='price')\n",
    "\n",
    "case1 = 'Strategic/UC25ED1_Strategic_true_Seg1_Load1.0_Fuel1.2_Error0.25_ratio0.5_MIP0.1_DARTDP'\n",
    "RTPrice1 = pd.read_csv('output/'+case1+'/EDprice.csv',header=None)*12\n",
    "case5 = 'Strategic/UC25ED1_Strategic_true_Seg5_Load1.0_Fuel1.2_Error0.25_ratio0.5_MIP0.1_DARTDP'\n",
    "RTPrice5 = pd.read_csv('output/'+case5+'/EDprice.csv',header=None)*12\n",
    "case1mar = 'Strategic/UC25ED1_Strategic_true_Seg1_Load1.0_Fuel1.2_Error0.25_Margin_MIP0.1_NSDAB'\n",
    "RTPrice1mar = pd.read_csv('output/'+case1+'/EDprice.csv',header=None)*12\n",
    "case5mar = 'Strategic/UC25ED1_Strategic_true_Seg5_Load1.0_Fuel1.2_Error0.25_Margin_MIP0.1_NSDAB'\n",
    "RTPrice5mar = pd.read_csv('output/'+case5+'/EDprice.csv',header=None)*12\n",
    "case3 = 'DecUpdate/UC25ED1_Strategic_false_Seg1_Load1.0_Fuel1.2_Error0.25_5GWBES_1yr_ESBid_Emergen'\n",
    "RTPrice3 = pd.read_csv('output/'+case3+'/EDprice.csv',header=None)*12\n",
    "\n",
    "# Create a 2x4 grid of subplots\n",
    "# fig, axs = plt.subplots(2, 4, figsize=(16, 9))\n",
    "fig, axs = plt.subplots(1, 2, figsize=(10, 6))\n",
    "\n",
    "# Loop through each column and each subplot\n",
    "for idx, (col, ax) in enumerate(zip([0,1], axs.flatten())):\n",
    "    sorted_vals = np.sort(Pivot_HistoryPrice.iloc[:,col].values)[::-1]\n",
    "    sorted_vals1 = np.sort(RTPrice1[col].values)[::-1]\n",
    "    sorted_vals2 = np.sort(RTPrice5[col].values)[::-1]\n",
    "    sorted_vals1mar = np.sort(RTPrice1mar[col].values)[::-1]\n",
    "    sorted_vals2mar = np.sort(RTPrice5mar[col].values)[::-1]\n",
    "    sorted_vals3 = np.sort(RTPrice3[col].values)[::-1]\n",
    "    \n",
    "    # Calculate the \"reverse\" cumulative distribution\n",
    "    cdf = np.arange(1, len(sorted_vals) + 1) / float(len(sorted_vals))\n",
    "    cdf1 = np.arange(1, len(sorted_vals1) + 1) / float(len(sorted_vals1))\n",
    "    cdf2 = np.arange(1, len(sorted_vals2) + 1) / float(len(sorted_vals2))\n",
    "    cdf1mar = np.arange(1, len(sorted_vals1mar) + 1) / float(len(sorted_vals1mar))\n",
    "    cdf2mar = np.arange(1, len(sorted_vals2mar) + 1) / float(len(sorted_vals2mar))\n",
    "    cdf3 = np.arange(1, len(sorted_vals3) + 1) / float(len(sorted_vals3))\n",
    "\n",
    "    \n",
    "    # Plot the CDF\n",
    "    ax.plot(cdf,sorted_vals)\n",
    "    ax.plot(cdf1,sorted_vals1)\n",
    "    ax.plot(cdf2,sorted_vals2)\n",
    "#     ax.plot(cdf1mar,sorted_vals1mar, linestyle='--')\n",
    "#     ax.plot(cdf2mar,sorted_vals2mar, linestyle='--')\n",
    "    ax.plot(cdf3,sorted_vals3)\n",
    "\n",
    "    ax.set_xlim(0.00, 1)\n",
    "    ax.set_ylim(0, 500)\n",
    "    ax.legend(['Historical','Seg1', 'Seg5', 'Base'],fontsize=20)\n",
    "    ax.set_title(f\"High Price CDF of Region {idx+1}\",fontsize=20)\n",
    "    ax.tick_params(axis='both', which='major', labelsize=20)\n",
    "    ax.set_ylabel(\"Real-time Price ($/MWh)\",fontsize=20)\n",
    "\n",
    "plt.tight_layout()\n",
    "plt.show()"
   ]
  },
  {
   "cell_type": "code",
   "execution_count": null,
   "id": "487e67a5",
   "metadata": {},
   "outputs": [],
   "source": [
    "HistoryPrice = pd.read_csv('output/20220101-20221231 CAISO Real-time Price.csv')\n",
    "HistoryPrice = HistoryPrice.drop_duplicates(subset=['Date', 'hub'])\n",
    "Pivot_HistoryPrice = HistoryPrice.pivot(index='Date', columns='hub', values='price')\n",
    "\n",
    "case1 = 'Strategic/UC25ED1_Strategic_true_Seg1_Load1.0_Fuel1.2_Error0.25_25MW_MIP0.1_NSDAB'\n",
    "RTPrice1 = pd.read_csv('output/'+case1+'/EDprice.csv',header=None)*12\n",
    "case5 = 'Strategic/UC25ED1_Strategic_true_Seg5_Load1.0_Fuel1.2_Error0.25_25MW_MIP0.1_NSDAB'\n",
    "RTPrice5 = pd.read_csv('output/'+case5+'/EDprice.csv',header=None)*12\n",
    "case1mar = 'Strategic/UC25ED1_Strategic_true_Seg1_Load1.0_Fuel1.2_Error0.25_Margin_MIP0.1_NSDAB'\n",
    "RTPrice1mar = pd.read_csv('output/'+case1+'/EDprice.csv',header=None)*12\n",
    "case5mar = 'Strategic/UC25ED1_Strategic_true_Seg5_Load1.0_Fuel1.2_Error0.25_Margin_MIP0.1_NSDAB'\n",
    "RTPrice5mar = pd.read_csv('output/'+case5+'/EDprice.csv',header=None)*12\n",
    "case3 = 'DecUpdate/UC25ED1_Strategic_false_Seg1_Load1.0_Fuel1.2_Error0.25_5GWBES_1yr_ESBid_Emergen'\n",
    "RTPrice3 = pd.read_csv('output/'+case3+'/EDprice.csv',header=None)*12\n",
    "\n",
    "# Create a 2x4 grid of subplots\n",
    "# fig, axs = plt.subplots(2, 4, figsize=(16, 9))\n",
    "fig, axs = plt.subplots(1, 2, figsize=(10, 6))\n",
    "\n",
    "# Loop through each column and each subplot\n",
    "for idx, (col, ax) in enumerate(zip([0,1], axs.flatten())):\n",
    "    sorted_vals = np.sort(Pivot_HistoryPrice.iloc[:,col].values)[::-1]\n",
    "    sorted_vals1 = np.sort(RTPrice1[col].values)[::-1]\n",
    "    sorted_vals2 = np.sort(RTPrice5[col].values)[::-1]\n",
    "    sorted_vals1mar = np.sort(RTPrice1mar[col].values)[::-1]\n",
    "    sorted_vals2mar = np.sort(RTPrice5mar[col].values)[::-1]\n",
    "    sorted_vals3 = np.sort(RTPrice3[col].values)[::-1]\n",
    "    \n",
    "    # Calculate the \"reverse\" cumulative distribution\n",
    "    cdf = np.arange(1, len(sorted_vals) + 1) / float(len(sorted_vals))\n",
    "    cdf1 = np.arange(1, len(sorted_vals1) + 1) / float(len(sorted_vals1))\n",
    "    cdf2 = np.arange(1, len(sorted_vals2) + 1) / float(len(sorted_vals2))\n",
    "    cdf1mar = np.arange(1, len(sorted_vals1mar) + 1) / float(len(sorted_vals1mar))\n",
    "    cdf2mar = np.arange(1, len(sorted_vals2mar) + 1) / float(len(sorted_vals2mar))\n",
    "    cdf3 = np.arange(1, len(sorted_vals3) + 1) / float(len(sorted_vals3))\n",
    "\n",
    "    \n",
    "    # Plot the CDF\n",
    "    ax.plot(cdf,sorted_vals)\n",
    "    ax.plot(cdf1,sorted_vals1)\n",
    "    ax.plot(cdf2,sorted_vals2)\n",
    "#     ax.plot(cdf1mar,sorted_vals1mar, linestyle='--')\n",
    "#     ax.plot(cdf2mar,sorted_vals2mar, linestyle='--')\n",
    "    ax.plot(cdf3,sorted_vals3)\n",
    "\n",
    "    ax.set_xlim(0.7, 0.9)\n",
    "    ax.set_ylim(10, 60)\n",
    "    ax.legend(['Historical', 'Seg1', 'Seg5', 'Base'],fontsize=20)\n",
    "    ax.set_title(f\"Low Price CDF of Region {idx+1}\",fontsize=20)\n",
    "    ax.tick_params(axis='both', which='major', labelsize=20)\n",
    "    ax.set_ylabel(\"Real-time Price ($/MWh)\",fontsize=20)\n",
    "\n",
    "plt.tight_layout()\n",
    "plt.show()"
   ]
  },
  {
   "cell_type": "code",
   "execution_count": null,
   "id": "53824e5d",
   "metadata": {},
   "outputs": [],
   "source": [
    "sorted_vals_S1 = np.sort(S1)[::-1]\n",
    "sorted_vals_S5 = np.sort(S5)[::-1]\n",
    "plt.plot(range(len(S1)), sorted_vals_S1, label='1Seg', color='blue', linewidth=2)\n",
    "plt.plot(range(len(S5)), sorted_vals_S5, label='5Seg', color='red', linewidth=2)\n",
    "plt.title('Power CDF')\n",
    "plt.legend()"
   ]
  },
  {
   "cell_type": "code",
   "execution_count": null,
   "id": "e3545662",
   "metadata": {},
   "outputs": [],
   "source": [
    "ESOC1 = pd.read_csv('output/Strategic/UC25ED1_Strategic_true_Seg1_Load1.0_Fuel1.2_Error0.25_test/EDSOCini.csv',header=None)\n",
    "ESOC5 = pd.read_csv('output/Strategic/UC25ED1_Strategic_true_Seg5_Load1.0_Fuel1.2_Error0.25_test/EDSOCini.csv',header=None)\n",
    "SOC1 = ESOC1[45]\n",
    "SOC5 = ESOC5[45]\n",
    "\n",
    "\n",
    "sorted_vals_SOC1 = np.sort(SOC1)[::-1]\n",
    "sorted_vals_SOC5 = np.sort(SOC5)[::-1]\n",
    "plt.plot(range(len(S1)), sorted_vals_SOC1, label='1Seg', color='blue', linewidth=2)\n",
    "plt.plot(range(len(S5)), sorted_vals_SOC5, label='5Seg', color='red', linewidth=2)\n",
    "plt.title('SOC CDF')\n",
    "plt.legend()"
   ]
  },
  {
   "cell_type": "code",
   "execution_count": null,
   "id": "80f2bb7d",
   "metadata": {},
   "outputs": [],
   "source": [
    "# ESOC = pd.read_csv('output/Strategic/UC25ED1_Strategic_true_Seg5_Load1.0_Fuel1.2_Error0.25_test/EDSOCini.csv',header=None)\n",
    "# plt.plot(range(len(ESOC)), ESOC[45], label='Series 1', color='blue', linewidth=2)\n"
   ]
  }
 ],
 "metadata": {
  "kernelspec": {
   "display_name": "Python 3 (ipykernel)",
   "language": "python",
   "name": "python3"
  },
  "language_info": {
   "codemirror_mode": {
    "name": "ipython",
    "version": 3
   },
   "file_extension": ".py",
   "mimetype": "text/x-python",
   "name": "python",
   "nbconvert_exporter": "python",
   "pygments_lexer": "ipython3",
   "version": "3.11.4"
  }
 },
 "nbformat": 4,
 "nbformat_minor": 5
}
